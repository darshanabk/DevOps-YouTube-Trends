{
 "cells": [
  {
   "cell_type": "code",
   "execution_count": 1,
   "id": "d7229dd3",
   "metadata": {
    "_cell_guid": "b1076dfc-b9ad-4769-8c92-a6c4dae69d19",
    "_uuid": "8f2839f25d086af736a60e9eeb907d3b93b6e0e5",
    "execution": {
     "iopub.execute_input": "2025-01-17T15:47:40.797730Z",
     "iopub.status.busy": "2025-01-17T15:47:40.797307Z",
     "iopub.status.idle": "2025-01-17T15:47:42.022790Z",
     "shell.execute_reply": "2025-01-17T15:47:42.021695Z"
    },
    "papermill": {
     "duration": 1.231943,
     "end_time": "2025-01-17T15:47:42.024635",
     "exception": false,
     "start_time": "2025-01-17T15:47:40.792692",
     "status": "completed"
    },
    "tags": []
   },
   "outputs": [],
   "source": [
    "from googleapiclient.discovery import build\n",
    "from IPython.display import JSON, display\n",
    "import re\n",
    "import datetime\n",
    "from dateutil.relativedelta import relativedelta\n",
    "import pandas as pd\n",
    "import os\n",
    "# from git import Repo\n",
    "from kaggle_secrets import UserSecretsClient\n",
    "user_secrets = UserSecretsClient()\n",
    "# import zipfile\n",
    "import requests\n"
   ]
  },
  {
   "cell_type": "code",
   "execution_count": 2,
   "id": "be325fd0",
   "metadata": {
    "execution": {
     "iopub.execute_input": "2025-01-17T15:47:42.031359Z",
     "iopub.status.busy": "2025-01-17T15:47:42.030880Z",
     "iopub.status.idle": "2025-01-17T15:47:42.111048Z",
     "shell.execute_reply": "2025-01-17T15:47:42.110096Z"
    },
    "papermill": {
     "duration": 0.085092,
     "end_time": "2025-01-17T15:47:42.112786",
     "exception": false,
     "start_time": "2025-01-17T15:47:42.027694",
     "status": "completed"
    },
    "tags": []
   },
   "outputs": [],
   "source": [
    "api_key = user_secrets.get_secret(\"YouTubeAPIKeyTwo\")\n",
    "api_service_name = \"youtube\"\n",
    "api_version = \"v3\"\n",
    "youtube = build(api_service_name, api_version, developerKey=api_key)"
   ]
  },
  {
   "cell_type": "code",
   "execution_count": 3,
   "id": "7ede4be0",
   "metadata": {
    "execution": {
     "iopub.execute_input": "2025-01-17T15:47:42.119217Z",
     "iopub.status.busy": "2025-01-17T15:47:42.118906Z",
     "iopub.status.idle": "2025-01-17T15:47:42.122742Z",
     "shell.execute_reply": "2025-01-17T15:47:42.121876Z"
    },
    "papermill": {
     "duration": 0.00866,
     "end_time": "2025-01-17T15:47:42.124291",
     "exception": false,
     "start_time": "2025-01-17T15:47:42.115631",
     "status": "completed"
    },
    "tags": []
   },
   "outputs": [],
   "source": [
    "kw_list =  ['donut']"
   ]
  },
  {
   "cell_type": "code",
   "execution_count": 4,
   "id": "cb79d511",
   "metadata": {
    "execution": {
     "iopub.execute_input": "2025-01-17T15:47:42.130853Z",
     "iopub.status.busy": "2025-01-17T15:47:42.130422Z",
     "iopub.status.idle": "2025-01-17T15:47:42.144802Z",
     "shell.execute_reply": "2025-01-17T15:47:42.143829Z"
    },
    "papermill": {
     "duration": 0.019496,
     "end_time": "2025-01-17T15:47:42.146443",
     "exception": false,
     "start_time": "2025-01-17T15:47:42.126947",
     "status": "completed"
    },
    "tags": []
   },
   "outputs": [],
   "source": [
    "\n",
    "def VideoDetailExtraction(publishedAfter,maxResults = 5):\n",
    "    request = youtube.search().list(part = 'snippet',\n",
    "                                    order = 'viewCount',\n",
    "                                    q = kw_list,\n",
    "                                    relevanceLanguage = 'en',\n",
    "                                    type = 'video',\n",
    "                                    videoCategoryId = 26,\n",
    "                                    regionCode = 'US',\n",
    "                                    maxResults =5,\n",
    "                                    publishedAfter = publishedAfter)\n",
    "    response = request.execute()\n",
    "    videoDetails = []\n",
    "    videoIds = []\n",
    "    for i in range(0,maxResults):\n",
    "        publishTime = re.split(r'[TZ-]',response['items'][0]['snippet']['publishTime'])\n",
    "\n",
    "        videoDetails.append({'videoId' : response['items'][i]['id']['videoId'],\n",
    "            'channelId' : response['items'][i]['snippet']['channelId'],\n",
    "            'channelName' : response['items'][i]['snippet']['channelTitle'],\n",
    "            'videoTitle' : response['items'][i]['snippet']['title'],\n",
    "            'description' : response['items'][i]['snippet']['description'],\n",
    "            'publishYear' : publishTime[0], #year\n",
    "            'publishMonth' : publishTime[1], #month\n",
    "            'publishDay' : publishTime[2], #day\n",
    "            'publishTime' : publishTime[3], #hh:mm:ss\n",
    "            'publishedOn' : response['items'][0]['snippet']['publishTime']\n",
    "        })\n",
    "\n",
    "        videoIds.append(response['items'][i]['id']['videoId'])\n",
    "\n",
    "    \n",
    "    request = youtube.videos().list(\n",
    "        part = 'statistics,snippet', \n",
    "        id = videoIds\n",
    "    )\n",
    "    response = request.execute()\n",
    "    JSON(response)\n",
    "    for i in range(0,maxResults):\n",
    "        videoDetails[i]['viewCount'] = response['items'][i]['statistics'].get('viewCount',0)\n",
    "        videoDetails[i]['likeCount'] = response['items'][i]['statistics'].get('likeCount',0)\n",
    "        videoDetails[i]['favoriteCount'] = response['items'][i]['statistics'].get('favoriteCount',0)\n",
    "        videoDetails[i]['commentCount'] = response['items'][i]['statistics'].get('commentCount',0)\n",
    "        videoDetails[i]['videoTags'] = response['items'][i]['snippet'].get('tags',[])\n",
    "    # display(videoDetails)\n",
    "    videoDetails = pd.DataFrame(videoDetails)\n",
    "    return videoDetails"
   ]
  },
  {
   "cell_type": "code",
   "execution_count": 5,
   "id": "3c3d4639",
   "metadata": {
    "execution": {
     "iopub.execute_input": "2025-01-17T15:47:42.152451Z",
     "iopub.status.busy": "2025-01-17T15:47:42.152148Z",
     "iopub.status.idle": "2025-01-17T15:47:42.158055Z",
     "shell.execute_reply": "2025-01-17T15:47:42.157224Z"
    },
    "papermill": {
     "duration": 0.010516,
     "end_time": "2025-01-17T15:47:42.159552",
     "exception": false,
     "start_time": "2025-01-17T15:47:42.149036",
     "status": "completed"
    },
    "tags": []
   },
   "outputs": [],
   "source": [
    "def PushToGithub():\n",
    "    output_files = os.listdir('/kaggle/working')\n",
    "    # print(\"Files in /kaggle/working:\", output_files)\n",
    "    # repo_url = user_secrets.get_secret(\"Repo_URL_YouTubeFood\")\n",
    "    Today = max([file for file in output_files if file.startswith(\"Today\")], \n",
    "                key=os.path.getctime)\n",
    "    Last30Days = max([file for file in output_files if file.startswith(\"Last30Days\")],\n",
    "                     key = os.path.getctime)\n",
    "    Last1Year = max([file for file in output_files if file.startswith(\"Last1Year\")],\n",
    "                    key = os.path.getctime)\n",
    "    Last5Year = max([file for file in output_files if file.startswith(\"Last5Year\")],\n",
    "                    key = os.path.getctime)\n",
    "    # print(Today,Last30Days,Last1Year,Last5Year) \n",
    "   \n",
    "    token = user_secrets.get_secret(\"GITHUB_TOKEN\")\n",
    "    owner = user_secrets.get_secret(\"REPO_OWNER\")\n",
    "    nameOfRepo = user_secrets.get_secret(\"REPO_NAME\")\n",
    "    API_URL = f\"https://api.github.com/repos/{owner}/{nameOfRepo}/contents\"\n",
    "    headers = {\"Authorization\": f\"token {token}\"}\n",
    "    response = requests.get(API_URL, headers=headers)\n",
    "    print(response)\n",
    "\n",
    "\n",
    "    "
   ]
  },
  {
   "cell_type": "code",
   "execution_count": 6,
   "id": "32b2a22f",
   "metadata": {
    "execution": {
     "iopub.execute_input": "2025-01-17T15:47:42.165747Z",
     "iopub.status.busy": "2025-01-17T15:47:42.165377Z",
     "iopub.status.idle": "2025-01-17T15:47:42.170717Z",
     "shell.execute_reply": "2025-01-17T15:47:42.169793Z"
    },
    "papermill": {
     "duration": 0.010372,
     "end_time": "2025-01-17T15:47:42.172496",
     "exception": false,
     "start_time": "2025-01-17T15:47:42.162124",
     "status": "completed"
    },
    "tags": []
   },
   "outputs": [],
   "source": [
    "def RawFile(dataframe,prefix):\n",
    "    # Generate a timestamped filename\n",
    "    timestamp = datetime.datetime.now().strftime(\"%Y-%m-%d_%H:%M:%S\")\n",
    "    filename = f\"{prefix}_{timestamp}.json\"\n",
    "\n",
    "    # Save the DataFrame as a JSON file\n",
    "    dataframe.to_json(filename, orient=\"records\", indent=4)\n",
    "    print(f\"DataFrame saved as {filename}\")\n",
    "    return True"
   ]
  },
  {
   "cell_type": "code",
   "execution_count": 7,
   "id": "cd08b209",
   "metadata": {
    "execution": {
     "iopub.execute_input": "2025-01-17T15:47:42.182469Z",
     "iopub.status.busy": "2025-01-17T15:47:42.182132Z",
     "iopub.status.idle": "2025-01-17T15:47:43.939076Z",
     "shell.execute_reply": "2025-01-17T15:47:43.938232Z"
    },
    "papermill": {
     "duration": 1.763497,
     "end_time": "2025-01-17T15:47:43.940555",
     "exception": false,
     "start_time": "2025-01-17T15:47:42.177058",
     "status": "completed"
    },
    "tags": []
   },
   "outputs": [
    {
     "name": "stdout",
     "output_type": "stream",
     "text": [
      "DataFrame saved as Today_2025-01-17_15:47:42.json\n",
      "DataFrame saved as Last30Days_2025-01-17_15:47:43.json\n",
      "DataFrame saved as Last1Year_2025-01-17_15:47:43.json\n",
      "DataFrame saved as Last5Years_2025-01-17_15:47:43.json\n"
     ]
    },
    {
     "data": {
      "text/plain": [
       "True"
      ]
     },
     "execution_count": 7,
     "metadata": {},
     "output_type": "execute_result"
    }
   ],
   "source": [
    "def TopVideosBasedOnTime():\n",
    "    currentDate = datetime.date.today()\n",
    "    #today\n",
    "    today = \"{}T00:00:00Z\".format(currentDate)\n",
    "    today_response = VideoDetailExtraction(today,1)\n",
    "    RawFile(today_response,'Today')\n",
    "    #Last 30 days\n",
    "    Last30Days = currentDate + relativedelta(days=-30)\n",
    "    Last30Days = \"{}T00:00:00Z\".format(Last30Days)\n",
    "    Last30Days_response = VideoDetailExtraction(Last30Days,1)\n",
    "    RawFile(today_response,'Last30Days')\n",
    "    #Last 1 year\n",
    "    Last1Year = currentDate + relativedelta(years = -1)\n",
    "    Last1Year = \"{}T00:00:00Z\".format(Last1Year)\n",
    "    Last1Year_response = VideoDetailExtraction(Last1Year,1)\n",
    "    RawFile(today_response,'Last1Year')\n",
    "    #Last 5 years\n",
    "    Last5Years = currentDate + relativedelta(years = -5)\n",
    "    Last5Years = \"{}T00:00:00Z\".format(Last5Years)\n",
    "    Last5Years_response = VideoDetailExtraction(Last5Years,1)\n",
    "    RawFile(today_response,'Last5Years')\n",
    "    \n",
    "    return True\n",
    "\n",
    "TopVideosBasedOnTime()"
   ]
  },
  {
   "cell_type": "code",
   "execution_count": 8,
   "id": "d522226f",
   "metadata": {
    "execution": {
     "iopub.execute_input": "2025-01-17T15:47:43.947266Z",
     "iopub.status.busy": "2025-01-17T15:47:43.946986Z",
     "iopub.status.idle": "2025-01-17T15:47:43.950366Z",
     "shell.execute_reply": "2025-01-17T15:47:43.949641Z"
    },
    "papermill": {
     "duration": 0.008149,
     "end_time": "2025-01-17T15:47:43.951719",
     "exception": false,
     "start_time": "2025-01-17T15:47:43.943570",
     "status": "completed"
    },
    "tags": []
   },
   "outputs": [],
   "source": [
    "def main():\n",
    "    TopVideosBasedOnTime()"
   ]
  },
  {
   "cell_type": "code",
   "execution_count": 9,
   "id": "74c37320",
   "metadata": {
    "execution": {
     "iopub.execute_input": "2025-01-17T15:47:43.958136Z",
     "iopub.status.busy": "2025-01-17T15:47:43.957868Z",
     "iopub.status.idle": "2025-01-17T15:47:43.960874Z",
     "shell.execute_reply": "2025-01-17T15:47:43.960165Z"
    },
    "papermill": {
     "duration": 0.007874,
     "end_time": "2025-01-17T15:47:43.962439",
     "exception": false,
     "start_time": "2025-01-17T15:47:43.954565",
     "status": "completed"
    },
    "tags": []
   },
   "outputs": [],
   "source": [
    "# if __name__==\"__main__\":\n",
    "#     main()"
   ]
  }
 ],
 "metadata": {
  "kaggle": {
   "accelerator": "none",
   "dataSources": [],
   "dockerImageVersionId": 30822,
   "isGpuEnabled": false,
   "isInternetEnabled": true,
   "language": "python",
   "sourceType": "notebook"
  },
  "kernelspec": {
   "display_name": "Python 3",
   "language": "python",
   "name": "python3"
  },
  "language_info": {
   "codemirror_mode": {
    "name": "ipython",
    "version": 3
   },
   "file_extension": ".py",
   "mimetype": "text/x-python",
   "name": "python",
   "nbconvert_exporter": "python",
   "pygments_lexer": "ipython3",
   "version": "3.10.12"
  },
  "papermill": {
   "default_parameters": {},
   "duration": 6.187523,
   "end_time": "2025-01-17T15:47:44.483399",
   "environment_variables": {},
   "exception": null,
   "input_path": "__notebook__.ipynb",
   "output_path": "__notebook__.ipynb",
   "parameters": {},
   "start_time": "2025-01-17T15:47:38.295876",
   "version": "2.6.0"
  }
 },
 "nbformat": 4,
 "nbformat_minor": 5
}
