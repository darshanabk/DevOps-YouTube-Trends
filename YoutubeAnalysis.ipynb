{
 "cells": [
  {
   "cell_type": "code",
   "execution_count": 1,
   "id": "0b094a08",
   "metadata": {
    "_cell_guid": "b1076dfc-b9ad-4769-8c92-a6c4dae69d19",
    "_uuid": "8f2839f25d086af736a60e9eeb907d3b93b6e0e5",
    "execution": {
     "iopub.execute_input": "2025-01-18T18:46:45.622178Z",
     "iopub.status.busy": "2025-01-18T18:46:45.621815Z",
     "iopub.status.idle": "2025-01-18T18:46:47.113372Z",
     "shell.execute_reply": "2025-01-18T18:46:47.112212Z"
    },
    "papermill": {
     "duration": 1.499522,
     "end_time": "2025-01-18T18:46:47.115262",
     "exception": false,
     "start_time": "2025-01-18T18:46:45.615740",
     "status": "completed"
    },
    "tags": []
   },
   "outputs": [],
   "source": [
    "from googleapiclient.discovery import build\n",
    "from IPython.display import JSON, display\n",
    "import re\n",
    "import datetime\n",
    "from dateutil.relativedelta import relativedelta\n",
    "import pandas as pd\n",
    "import os\n",
    "from kaggle_secrets import UserSecretsClient\n",
    "import git\n",
    "from git import Repo\n",
    "import shutil\n",
    "user_secrets = UserSecretsClient()\n",
    "from pytz import timezone"
   ]
  },
  {
   "cell_type": "code",
   "execution_count": 2,
   "id": "e6d982bf",
   "metadata": {
    "execution": {
     "iopub.execute_input": "2025-01-18T18:46:47.124716Z",
     "iopub.status.busy": "2025-01-18T18:46:47.124166Z",
     "iopub.status.idle": "2025-01-18T18:46:47.493526Z",
     "shell.execute_reply": "2025-01-18T18:46:47.492569Z"
    },
    "papermill": {
     "duration": 0.375663,
     "end_time": "2025-01-18T18:46:47.495371",
     "exception": false,
     "start_time": "2025-01-18T18:46:47.119708",
     "status": "completed"
    },
    "tags": []
   },
   "outputs": [],
   "source": [
    "api_key = UserSecretsClient().get_secret(\"api_key\")\n",
    "api_service_name = \"youtube\"\n",
    "api_version = \"v3\"\n",
    "youtube = build(api_service_name, api_version, developerKey=api_key)"
   ]
  },
  {
   "cell_type": "code",
   "execution_count": 3,
   "id": "ce3e510f",
   "metadata": {
    "execution": {
     "iopub.execute_input": "2025-01-18T18:46:47.504913Z",
     "iopub.status.busy": "2025-01-18T18:46:47.504549Z",
     "iopub.status.idle": "2025-01-18T18:46:47.508707Z",
     "shell.execute_reply": "2025-01-18T18:46:47.507809Z"
    },
    "papermill": {
     "duration": 0.010698,
     "end_time": "2025-01-18T18:46:47.510373",
     "exception": false,
     "start_time": "2025-01-18T18:46:47.499675",
     "status": "completed"
    },
    "tags": []
   },
   "outputs": [],
   "source": [
    "kw_list =  ['donut']"
   ]
  },
  {
   "cell_type": "code",
   "execution_count": 4,
   "id": "9d821c31",
   "metadata": {
    "execution": {
     "iopub.execute_input": "2025-01-18T18:46:47.519511Z",
     "iopub.status.busy": "2025-01-18T18:46:47.519146Z",
     "iopub.status.idle": "2025-01-18T18:46:47.528350Z",
     "shell.execute_reply": "2025-01-18T18:46:47.527509Z"
    },
    "papermill": {
     "duration": 0.015396,
     "end_time": "2025-01-18T18:46:47.529923",
     "exception": false,
     "start_time": "2025-01-18T18:46:47.514527",
     "status": "completed"
    },
    "tags": []
   },
   "outputs": [],
   "source": [
    "def VideoDetailExtraction(publishedAfter,maxResults = 5):\n",
    "    request = youtube.search().list(part = 'snippet',\n",
    "                                    order = 'viewCount',\n",
    "                                    q = kw_list,\n",
    "                                    relevanceLanguage = 'en',\n",
    "                                    type = 'video',\n",
    "                                    videoCategoryId = 26,\n",
    "                                    regionCode = 'US',\n",
    "                                    maxResults =5,\n",
    "                                    publishedAfter = publishedAfter)\n",
    "    response = request.execute()\n",
    "    videoDetails = []\n",
    "    videoIds = []\n",
    "    for i in range(0,maxResults):\n",
    "        publishTime = re.split(r'[TZ-]',response['items'][0].get('snippet','0000-00-00T00:00:00Z').get('publishTime','0000-00-00T00:00:00Z'))\n",
    "\n",
    "        videoDetails.append({'videoId' : response['items'][i]['id']['videoId'],\n",
    "            'channelId' : response['items'][i]['snippet']['channelId'],\n",
    "            'channelName' : response['items'][i]['snippet']['channelTitle'],\n",
    "            'videoTitle' : response['items'][i]['snippet']['title'],\n",
    "            'description' : response['items'][i]['snippet']['description'],\n",
    "            'publishYear' : publishTime[0], #year\n",
    "            'publishMonth' : publishTime[1], #month\n",
    "            'publishDay' : publishTime[2], #day\n",
    "            'publishTime' : publishTime[3], #hh:mm:ss\n",
    "            'publishedOn' : response['items'][0]['snippet']['publishTime']\n",
    "        })\n",
    "\n",
    "        videoIds.append(response['items'][i]['id']['videoId'])\n",
    "\n",
    "    \n",
    "    request = youtube.videos().list(\n",
    "        part = 'statistics,snippet', \n",
    "        id = videoIds\n",
    "    )\n",
    "    response = request.execute()\n",
    "    JSON(response)\n",
    "    for i in range(0,maxResults):\n",
    "        videoDetails[i]['viewCount'] = response['items'][i]['statistics'].get('viewCount',0)\n",
    "        videoDetails[i]['likeCount'] = response['items'][i]['statistics'].get('likeCount',0)\n",
    "        videoDetails[i]['favoriteCount'] = response['items'][i]['statistics'].get('favoriteCount',0)\n",
    "        videoDetails[i]['commentCount'] = response['items'][i]['statistics'].get('commentCount',0)\n",
    "        videoDetails[i]['videoTags'] = response['items'][i]['snippet'].get('tags',[])\n",
    "    # display(videoDetails)\n",
    "    videoDetails = pd.DataFrame(videoDetails)\n",
    "    return videoDetails"
   ]
  },
  {
   "cell_type": "code",
   "execution_count": 5,
   "id": "79d06eef",
   "metadata": {
    "execution": {
     "iopub.execute_input": "2025-01-18T18:46:47.539510Z",
     "iopub.status.busy": "2025-01-18T18:46:47.539129Z",
     "iopub.status.idle": "2025-01-18T18:46:47.550326Z",
     "shell.execute_reply": "2025-01-18T18:46:47.549375Z"
    },
    "papermill": {
     "duration": 0.017857,
     "end_time": "2025-01-18T18:46:47.552083",
     "exception": false,
     "start_time": "2025-01-18T18:46:47.534226",
     "status": "completed"
    },
    "tags": []
   },
   "outputs": [],
   "source": [
    "def PushToGithub():\n",
    "    output_files = os.listdir('/kaggle/working')\n",
    "    # print(\"Files in /kaggle/working:\", output_files)\n",
    "    # repo_url = user_secrets.get_secret(\"Repo_URL_YouTubeFood\")\n",
    "    LatestFiles = []\n",
    "    LatestFiles.append(max([file for file in output_files if file.startswith(\"Today\")], \n",
    "                key=os.path.getctime))\n",
    "    LatestFiles.append(max([file for file in output_files if file.startswith(\"Last30Days\")],\n",
    "                     key = os.path.getctime))\n",
    "    LatestFiles.append(max([file for file in output_files if file.startswith(\"Last1Year\")],\n",
    "                    key = os.path.getctime))\n",
    "    LatestFiles.append(max([file for file in output_files if file.startswith(\"Last5Year\")],\n",
    "                    key = os.path.getctime))\n",
    "    print(LatestFiles)\n",
    "    if os.path.exists('/kaggle/working/YouTubeFoodChannelAnalysis'):\n",
    "        print(\"cloned and the repo file exist\")\n",
    "        repo = git.Repo(\"/kaggle/working/YouTubeFoodChannelAnalysis\") \n",
    "        origin = repo.remote(name='origin') \n",
    "        origin.pull()\n",
    "        print(\"successfully pulled the git repo\")\n",
    "    else:\n",
    "        repo_url = UserSecretsClient().get_secret(\"repo_url_youtube_analysis\")\n",
    "        # print(repo_url)\n",
    "        local_path = \"/kaggle/working/YouTubeFoodChannelAnalysis\"\n",
    "        repo = git.Repo.clone_from(repo_url, local_path)\n",
    "        print(\"successfully cloned the git repo\")\n",
    "    \n",
    "        \n",
    "    output_files = os.listdir('/kaggle/working/YouTubeFoodChannelAnalysis')\n",
    "    print(output_files)\n",
    "    for i in LatestFiles:\n",
    "        if i.startswith(\"Today\"):\n",
    "            if os.path.exists('/kaggle/working/YouTubeFoodChannelAnalysis/Source/Today'):\n",
    "                shutil.copyfile(f'/kaggle/working/{i}', f'/kaggle/working/YouTubeFoodChannelAnalysis/Source/Today/{i}')\n",
    "                    \n",
    "            else:\n",
    "                os.makedirs('/kaggle/working/YouTubeFoodChannelAnalysis/Source/Today')\n",
    "                shutil.copyfile(f'/kaggle/working/{i}', f'/kaggle/working/YouTubeFoodChannelAnalysis/Source/Today/{i}')\n",
    "        elif i.startswith(\"Last30Days\"):\n",
    "            if os.path.exists('/kaggle/working/YouTubeFoodChannelAnalysis/Source/Last30Days'):\n",
    "                shutil.copyfile(f'/kaggle/working/{i}', f'/kaggle/working/YouTubeFoodChannelAnalysis/Source/Last30Days/{i}')\n",
    "                    \n",
    "            else:\n",
    "                os.makedirs('/kaggle/working/YouTubeFoodChannelAnalysis/Source/Last30Days')\n",
    "                shutil.copyfile(f'/kaggle/working/{i}', f'/kaggle/working/YouTubeFoodChannelAnalysis/Source/Last30Days/{i}')\n",
    "        elif i.startswith(\"Last1Year\"):\n",
    "            if os.path.exists('/kaggle/working/YouTubeFoodChannelAnalysis/Source/Last1Year'):\n",
    "                shutil.copyfile(f'/kaggle/working/{i}', f'/kaggle/working/YouTubeFoodChannelAnalysis/Source/Last1Year/{i}')\n",
    "                    \n",
    "            else:\n",
    "                os.makedirs('/kaggle/working/YouTubeFoodChannelAnalysis/Source/Last1Year')\n",
    "                shutil.copyfile(f'/kaggle/working/{i}', f'/kaggle/working/YouTubeFoodChannelAnalysis/Source/Last1Year/{i}')\n",
    "        elif i.startswith(\"Last5Year\"):\n",
    "            if os.path.exists('/kaggle/working/YouTubeFoodChannelAnalysis/Source/Last5Year'):\n",
    "                shutil.copyfile(f'/kaggle/working/{i}', f'/kaggle/working/YouTubeFoodChannelAnalysis/Source/Last5Year/{i}')\n",
    "                    \n",
    "            else:\n",
    "                os.makedirs('/kaggle/working/YouTubeFoodChannelAnalysis/Source/Last5Year')\n",
    "                shutil.copyfile(f'/kaggle/working/{i}', f'/kaggle/working/YouTubeFoodChannelAnalysis/Source/Last5Year/{i}')\n",
    "            \n",
    "    repo_dir = \"/kaggle/working/YouTubeFoodChannelAnalysis\"\n",
    "    repo = Repo(repo_dir)\n",
    "    repo.git.add(all=True)\n",
    "    time = datetime.datetime.now().strftime(\"%Y-%m-%d_%H:%M:%S\")\n",
    "    repo.index.commit(f\"{time} Added files from Kaggle notebook, {LatestFiles}\")\n",
    "    origin = repo.remote(name=\"origin\")\n",
    "    origin.push()\n",
    "    print(\"Output files successfully pushed to GitHub!\")\n",
    "\n",
    "    "
   ]
  },
  {
   "cell_type": "code",
   "execution_count": 6,
   "id": "662be499",
   "metadata": {
    "execution": {
     "iopub.execute_input": "2025-01-18T18:46:47.561231Z",
     "iopub.status.busy": "2025-01-18T18:46:47.560908Z",
     "iopub.status.idle": "2025-01-18T18:46:47.565338Z",
     "shell.execute_reply": "2025-01-18T18:46:47.564546Z"
    },
    "papermill": {
     "duration": 0.010741,
     "end_time": "2025-01-18T18:46:47.566880",
     "exception": false,
     "start_time": "2025-01-18T18:46:47.556139",
     "status": "completed"
    },
    "tags": []
   },
   "outputs": [],
   "source": [
    "def RawFile(dataframe,prefix):\n",
    "    # Generate a timestamped filename\n",
    "    # Set Indian Standard Time (IST)\n",
    "    ist = timezone('Asia/Kolkata')\n",
    "    timestamp = datetime.datetime.now(ist).strftime(\"%Y-%m-%d_%H:%M:%S\")\n",
    "    filename = f\"{prefix}_{timestamp}.json\"\n",
    "\n",
    "    # Save the DataFrame as a JSON file\n",
    "    dataframe.to_json(filename, orient=\"records\", indent=4)\n",
    "    print(f\"DataFrame saved as {filename}\")\n",
    "    return True"
   ]
  },
  {
   "cell_type": "code",
   "execution_count": 7,
   "id": "fc3fc1cc",
   "metadata": {
    "execution": {
     "iopub.execute_input": "2025-01-18T18:46:47.576117Z",
     "iopub.status.busy": "2025-01-18T18:46:47.575809Z",
     "iopub.status.idle": "2025-01-18T18:46:47.581440Z",
     "shell.execute_reply": "2025-01-18T18:46:47.580625Z"
    },
    "papermill": {
     "duration": 0.011907,
     "end_time": "2025-01-18T18:46:47.582962",
     "exception": false,
     "start_time": "2025-01-18T18:46:47.571055",
     "status": "completed"
    },
    "tags": []
   },
   "outputs": [],
   "source": [
    "def TopVideosBasedOnTime():\n",
    "    # Set Indian Standard Time (IST)\n",
    "    ist = timezone('Asia/Kolkata')\n",
    "    # currentDate = datetime.date.today()\n",
    "    currentDate = datetime.datetime.now(ist).date()  # Current date in IST\n",
    "    print(currentDate)\n",
    "    #today\n",
    "    today = \"{}T00:00:00Z\".format(currentDate)\n",
    "    today_response = VideoDetailExtraction(today,1)\n",
    "    RawFile(today_response,'Today')\n",
    "    #Last 30 days\n",
    "    Last30Days = currentDate + relativedelta(days=-30)\n",
    "    Last30Days = \"{}T00:00:00Z\".format(Last30Days)\n",
    "    Last30Days_response = VideoDetailExtraction(Last30Days,1)\n",
    "    RawFile(today_response,'Last30Days')\n",
    "    #Last 1 year\n",
    "    Last1Year = currentDate + relativedelta(years = -1)\n",
    "    Last1Year = \"{}T00:00:00Z\".format(Last1Year)\n",
    "    Last1Year_response = VideoDetailExtraction(Last1Year,1)\n",
    "    RawFile(today_response,'Last1Year')\n",
    "    #Last 5 years\n",
    "    Last5Years = currentDate + relativedelta(years = -5)\n",
    "    Last5Years = \"{}T00:00:00Z\".format(Last5Years)\n",
    "    Last5Years_response = VideoDetailExtraction(Last5Years,1)\n",
    "    RawFile(today_response,'Last5Years')\n",
    "    \n",
    "    return True\n"
   ]
  },
  {
   "cell_type": "code",
   "execution_count": 8,
   "id": "75ec2f97",
   "metadata": {
    "execution": {
     "iopub.execute_input": "2025-01-18T18:46:47.592007Z",
     "iopub.status.busy": "2025-01-18T18:46:47.591644Z",
     "iopub.status.idle": "2025-01-18T18:46:47.595695Z",
     "shell.execute_reply": "2025-01-18T18:46:47.594691Z"
    },
    "papermill": {
     "duration": 0.010448,
     "end_time": "2025-01-18T18:46:47.597381",
     "exception": false,
     "start_time": "2025-01-18T18:46:47.586933",
     "status": "completed"
    },
    "tags": []
   },
   "outputs": [],
   "source": [
    "def main():\n",
    "    TopVideosBasedOnTime()\n",
    "    PushToGithub()"
   ]
  },
  {
   "cell_type": "code",
   "execution_count": 9,
   "id": "b21a6281",
   "metadata": {
    "execution": {
     "iopub.execute_input": "2025-01-18T18:46:47.606329Z",
     "iopub.status.busy": "2025-01-18T18:46:47.605998Z",
     "iopub.status.idle": "2025-01-18T18:46:52.061368Z",
     "shell.execute_reply": "2025-01-18T18:46:52.060231Z"
    },
    "papermill": {
     "duration": 4.461721,
     "end_time": "2025-01-18T18:46:52.063161",
     "exception": false,
     "start_time": "2025-01-18T18:46:47.601440",
     "status": "completed"
    },
    "tags": []
   },
   "outputs": [
    {
     "name": "stdout",
     "output_type": "stream",
     "text": [
      "2025-01-19\n",
      "DataFrame saved as Today_2025-01-19_00:16:48.json\n",
      "DataFrame saved as Last30Days_2025-01-19_00:16:48.json\n",
      "DataFrame saved as Last1Year_2025-01-19_00:16:48.json\n",
      "DataFrame saved as Last5Years_2025-01-19_00:16:48.json\n",
      "['Today_2025-01-19_00:16:48.json', 'Last30Days_2025-01-19_00:16:48.json', 'Last1Year_2025-01-19_00:16:48.json', 'Last5Years_2025-01-19_00:16:48.json']\n",
      "successfully cloned the git repo\n",
      "['README.md', '.git', 'Source']\n",
      "Output files successfully pushed to GitHub!\n"
     ]
    }
   ],
   "source": [
    "if __name__==\"__main__\":\n",
    "    main()"
   ]
  },
  {
   "cell_type": "code",
   "execution_count": 10,
   "id": "c118c299",
   "metadata": {
    "execution": {
     "iopub.execute_input": "2025-01-18T18:46:52.073348Z",
     "iopub.status.busy": "2025-01-18T18:46:52.073002Z",
     "iopub.status.idle": "2025-01-18T18:46:52.077035Z",
     "shell.execute_reply": "2025-01-18T18:46:52.076094Z"
    },
    "papermill": {
     "duration": 0.010985,
     "end_time": "2025-01-18T18:46:52.078707",
     "exception": false,
     "start_time": "2025-01-18T18:46:52.067722",
     "status": "completed"
    },
    "tags": []
   },
   "outputs": [],
   "source": [
    "# !pwd  # To print the current working directory\n"
   ]
  },
  {
   "cell_type": "code",
   "execution_count": 11,
   "id": "8ed4900f",
   "metadata": {
    "execution": {
     "iopub.execute_input": "2025-01-18T18:46:52.088972Z",
     "iopub.status.busy": "2025-01-18T18:46:52.088573Z",
     "iopub.status.idle": "2025-01-18T18:46:52.092613Z",
     "shell.execute_reply": "2025-01-18T18:46:52.091535Z"
    },
    "papermill": {
     "duration": 0.011127,
     "end_time": "2025-01-18T18:46:52.094294",
     "exception": false,
     "start_time": "2025-01-18T18:46:52.083167",
     "status": "completed"
    },
    "tags": []
   },
   "outputs": [],
   "source": [
    "# !ls  # List files in the current directory\n"
   ]
  },
  {
   "cell_type": "code",
   "execution_count": 12,
   "id": "5853b283",
   "metadata": {
    "execution": {
     "iopub.execute_input": "2025-01-18T18:46:52.104099Z",
     "iopub.status.busy": "2025-01-18T18:46:52.103739Z",
     "iopub.status.idle": "2025-01-18T18:46:52.107398Z",
     "shell.execute_reply": "2025-01-18T18:46:52.106534Z"
    },
    "papermill": {
     "duration": 0.010509,
     "end_time": "2025-01-18T18:46:52.109103",
     "exception": false,
     "start_time": "2025-01-18T18:46:52.098594",
     "status": "completed"
    },
    "tags": []
   },
   "outputs": [],
   "source": [
    "# %cd /YouTubeFoodChannelAnalysis  # Change directory to the cloned repository\n"
   ]
  },
  {
   "cell_type": "code",
   "execution_count": 13,
   "id": "317b1a91",
   "metadata": {
    "execution": {
     "iopub.execute_input": "2025-01-18T18:46:52.119018Z",
     "iopub.status.busy": "2025-01-18T18:46:52.118671Z",
     "iopub.status.idle": "2025-01-18T18:46:52.122252Z",
     "shell.execute_reply": "2025-01-18T18:46:52.121446Z"
    },
    "papermill": {
     "duration": 0.010103,
     "end_time": "2025-01-18T18:46:52.123682",
     "exception": false,
     "start_time": "2025-01-18T18:46:52.113579",
     "status": "completed"
    },
    "tags": []
   },
   "outputs": [],
   "source": [
    "# %cd YouTubeFoodChannelAnalysis  # Change to the existing directory\n",
    "# !git pull                       # Pull the latest changes\n"
   ]
  },
  {
   "cell_type": "code",
   "execution_count": 14,
   "id": "e429a343",
   "metadata": {
    "execution": {
     "iopub.execute_input": "2025-01-18T18:46:52.133157Z",
     "iopub.status.busy": "2025-01-18T18:46:52.132844Z",
     "iopub.status.idle": "2025-01-18T18:46:52.136398Z",
     "shell.execute_reply": "2025-01-18T18:46:52.135589Z"
    },
    "papermill": {
     "duration": 0.010137,
     "end_time": "2025-01-18T18:46:52.138020",
     "exception": false,
     "start_time": "2025-01-18T18:46:52.127883",
     "status": "completed"
    },
    "tags": []
   },
   "outputs": [],
   "source": [
    "# !ls /kaggle/working\n",
    "\n"
   ]
  },
  {
   "cell_type": "code",
   "execution_count": 15,
   "id": "3f247de4",
   "metadata": {
    "execution": {
     "iopub.execute_input": "2025-01-18T18:46:52.147620Z",
     "iopub.status.busy": "2025-01-18T18:46:52.147240Z",
     "iopub.status.idle": "2025-01-18T18:46:52.151398Z",
     "shell.execute_reply": "2025-01-18T18:46:52.150343Z"
    },
    "papermill": {
     "duration": 0.010838,
     "end_time": "2025-01-18T18:46:52.153081",
     "exception": false,
     "start_time": "2025-01-18T18:46:52.142243",
     "status": "completed"
    },
    "tags": []
   },
   "outputs": [],
   "source": [
    "# !rm -rf /kaggle/working/YouTubeFoodChannelAnalysis  # Remove the existing folder if it's not a Git repo\n"
   ]
  },
  {
   "cell_type": "code",
   "execution_count": 16,
   "id": "f17cd76a",
   "metadata": {
    "execution": {
     "iopub.execute_input": "2025-01-18T18:46:52.162796Z",
     "iopub.status.busy": "2025-01-18T18:46:52.162402Z",
     "iopub.status.idle": "2025-01-18T18:46:52.166405Z",
     "shell.execute_reply": "2025-01-18T18:46:52.165373Z"
    },
    "papermill": {
     "duration": 0.010586,
     "end_time": "2025-01-18T18:46:52.168090",
     "exception": false,
     "start_time": "2025-01-18T18:46:52.157504",
     "status": "completed"
    },
    "tags": []
   },
   "outputs": [],
   "source": [
    "# !ls -al ~/.ssh"
   ]
  }
 ],
 "metadata": {
  "kaggle": {
   "accelerator": "none",
   "dataSources": [],
   "dockerImageVersionId": 30822,
   "isGpuEnabled": false,
   "isInternetEnabled": true,
   "language": "python",
   "sourceType": "notebook"
  },
  "kernelspec": {
   "display_name": "Python 3",
   "language": "python",
   "name": "python3"
  },
  "language_info": {
   "codemirror_mode": {
    "name": "ipython",
    "version": 3
   },
   "file_extension": ".py",
   "mimetype": "text/x-python",
   "name": "python",
   "nbconvert_exporter": "python",
   "pygments_lexer": "ipython3",
   "version": "3.10.12"
  },
  "papermill": {
   "default_parameters": {},
   "duration": 9.956308,
   "end_time": "2025-01-18T18:46:52.792438",
   "environment_variables": {},
   "exception": null,
   "input_path": "__notebook__.ipynb",
   "output_path": "__notebook__.ipynb",
   "parameters": {},
   "start_time": "2025-01-18T18:46:42.836130",
   "version": "2.6.0"
  }
 },
 "nbformat": 4,
 "nbformat_minor": 5
}
