{
 "cells": [
  {
   "cell_type": "code",
   "execution_count": 1,
   "id": "71b4a4a4",
   "metadata": {
    "_cell_guid": "b1076dfc-b9ad-4769-8c92-a6c4dae69d19",
    "_uuid": "8f2839f25d086af736a60e9eeb907d3b93b6e0e5",
    "execution": {
     "iopub.execute_input": "2025-01-19T08:51:57.544678Z",
     "iopub.status.busy": "2025-01-19T08:51:57.544290Z",
     "iopub.status.idle": "2025-01-19T08:51:58.995283Z",
     "shell.execute_reply": "2025-01-19T08:51:58.994127Z"
    },
    "papermill": {
     "duration": 1.459744,
     "end_time": "2025-01-19T08:51:58.997225",
     "exception": false,
     "start_time": "2025-01-19T08:51:57.537481",
     "status": "completed"
    },
    "tags": []
   },
   "outputs": [],
   "source": [
    "from googleapiclient.discovery import build\n",
    "from IPython.display import JSON, display\n",
    "import re\n",
    "import datetime\n",
    "from dateutil.relativedelta import relativedelta\n",
    "import pandas as pd\n",
    "import os\n",
    "from kaggle_secrets import UserSecretsClient\n",
    "import git\n",
    "from git import Repo\n",
    "import shutil\n",
    "from pytz import timezone"
   ]
  },
  {
   "cell_type": "code",
   "execution_count": 2,
   "id": "477e51f7",
   "metadata": {
    "execution": {
     "iopub.execute_input": "2025-01-19T08:51:59.008061Z",
     "iopub.status.busy": "2025-01-19T08:51:59.007528Z",
     "iopub.status.idle": "2025-01-19T08:51:59.360152Z",
     "shell.execute_reply": "2025-01-19T08:51:59.359051Z"
    },
    "papermill": {
     "duration": 0.359822,
     "end_time": "2025-01-19T08:51:59.361982",
     "exception": false,
     "start_time": "2025-01-19T08:51:59.002160",
     "status": "completed"
    },
    "tags": []
   },
   "outputs": [],
   "source": [
    "api_key = UserSecretsClient().get_secret(\"api_key2\")\n",
    "api_service_name = \"youtube\"\n",
    "api_version = \"v3\"\n",
    "youtube = build(api_service_name, api_version, developerKey=api_key)\n",
    "user_secrets = UserSecretsClient()\n",
    "ist = timezone('Asia/Kolkata')\n",
    "timestamp = datetime.datetime.now(ist).strftime(\"%Y-%m-%d_%H:%M:%S\")"
   ]
  },
  {
   "cell_type": "code",
   "execution_count": 3,
   "id": "cb3cccaa",
   "metadata": {
    "execution": {
     "iopub.execute_input": "2025-01-19T08:51:59.372024Z",
     "iopub.status.busy": "2025-01-19T08:51:59.371695Z",
     "iopub.status.idle": "2025-01-19T08:51:59.375499Z",
     "shell.execute_reply": "2025-01-19T08:51:59.374686Z"
    },
    "papermill": {
     "duration": 0.0105,
     "end_time": "2025-01-19T08:51:59.377092",
     "exception": false,
     "start_time": "2025-01-19T08:51:59.366592",
     "status": "completed"
    },
    "tags": []
   },
   "outputs": [],
   "source": [
    "kw_list =  \"donut recipes\""
   ]
  },
  {
   "cell_type": "code",
   "execution_count": 4,
   "id": "bd9ac7b5",
   "metadata": {
    "execution": {
     "iopub.execute_input": "2025-01-19T08:51:59.386673Z",
     "iopub.status.busy": "2025-01-19T08:51:59.386357Z",
     "iopub.status.idle": "2025-01-19T08:51:59.396120Z",
     "shell.execute_reply": "2025-01-19T08:51:59.395201Z"
    },
    "papermill": {
     "duration": 0.016533,
     "end_time": "2025-01-19T08:51:59.397864",
     "exception": false,
     "start_time": "2025-01-19T08:51:59.381331",
     "status": "completed"
    },
    "tags": []
   },
   "outputs": [],
   "source": [
    "def VideoDetailExtraction(publishedAfter,maxResults = 5):\n",
    "    request = youtube.search().list(part = 'snippet',\n",
    "                                    order = 'viewCount',\n",
    "                                    q = kw_list,\n",
    "                                    relevanceLanguage = 'en',\n",
    "                                    type = 'video',\n",
    "                                    videoCategoryId = 26,\n",
    "                                    regionCode = 'US',\n",
    "                                    maxResults =5,\n",
    "                                    publishedAfter = publishedAfter)\n",
    "    response = request.execute()\n",
    "    videoDetails = []\n",
    "    videoIds = []\n",
    "    for i in range(0,maxResults):\n",
    "        publishTime = re.split(r'[TZ-]',response['items'][0].get('snippet','0000-00-00T00:00:00Z').get('publishTime','0000-00-00T00:00:00Z'))\n",
    "\n",
    "        videoDetails.append({'videoId' : response['items'][i]['id']['videoId'],\n",
    "            'channelId' : response['items'][i]['snippet']['channelId'],\n",
    "            'channelName' : response['items'][i]['snippet']['channelTitle'],\n",
    "            'videoTitle' : response['items'][i]['snippet']['title'],\n",
    "            'description' : response['items'][i]['snippet']['description'],\n",
    "            'publishYear' : publishTime[0], #year\n",
    "            'publishMonth' : publishTime[1], #month\n",
    "            'publishDay' : publishTime[2], #day\n",
    "            'publishTime' : publishTime[3], #hh:mm:ss\n",
    "            'publishedOn' : response['items'][0]['snippet']['publishTime']\n",
    "        })\n",
    "\n",
    "        videoIds.append(response['items'][i]['id']['videoId'])\n",
    "\n",
    "    \n",
    "    request = youtube.videos().list(\n",
    "        part = 'statistics,snippet', \n",
    "        id = videoIds\n",
    "    )\n",
    "    response = request.execute()\n",
    "    JSON(response)\n",
    "    for i in range(0,maxResults):\n",
    "        videoDetails[i]['viewCount'] = response['items'][i]['statistics'].get('viewCount',0)\n",
    "        videoDetails[i]['likeCount'] = response['items'][i]['statistics'].get('likeCount',0)\n",
    "        videoDetails[i]['favoriteCount'] = response['items'][i]['statistics'].get('favoriteCount',0)\n",
    "        videoDetails[i]['commentCount'] = response['items'][i]['statistics'].get('commentCount',0)\n",
    "        videoDetails[i]['videoTags'] = response['items'][i]['snippet'].get('tags',[])\n",
    "    # display(videoDetails)\n",
    "    videoDetails = pd.DataFrame(videoDetails)\n",
    "    return videoDetails"
   ]
  },
  {
   "cell_type": "code",
   "execution_count": 5,
   "id": "0a4b4554",
   "metadata": {
    "execution": {
     "iopub.execute_input": "2025-01-19T08:51:59.407975Z",
     "iopub.status.busy": "2025-01-19T08:51:59.407624Z",
     "iopub.status.idle": "2025-01-19T08:51:59.419228Z",
     "shell.execute_reply": "2025-01-19T08:51:59.417957Z"
    },
    "papermill": {
     "duration": 0.018713,
     "end_time": "2025-01-19T08:51:59.421237",
     "exception": false,
     "start_time": "2025-01-19T08:51:59.402524",
     "status": "completed"
    },
    "tags": []
   },
   "outputs": [],
   "source": [
    "def PushToGithub():\n",
    "    output_files = os.listdir('/kaggle/working')\n",
    "    # print(\"Files in /kaggle/working:\", output_files)\n",
    "    # repo_url = user_secrets.get_secret(\"Repo_URL_YouTubeFood\")\n",
    "    LatestFiles = []\n",
    "    LatestFiles.append(max([file for file in output_files if file.startswith(\"Yesterday\")], \n",
    "                key=os.path.getctime))\n",
    "    LatestFiles.append(max([file for file in output_files if file.startswith(\"Last30Days\")],\n",
    "                     key = os.path.getctime))\n",
    "    LatestFiles.append(max([file for file in output_files if file.startswith(\"Last1Year\")],\n",
    "                    key = os.path.getctime))\n",
    "    LatestFiles.append(max([file for file in output_files if file.startswith(\"Last5Year\")],\n",
    "                    key = os.path.getctime))\n",
    "    print(LatestFiles)\n",
    "    if os.path.exists('/kaggle/working/YouTubeFoodChannelAnalysis'):\n",
    "        print(\"cloned and the repo file exist\")\n",
    "        repo = git.Repo(\"/kaggle/working/YouTubeFoodChannelAnalysis\") \n",
    "        origin = repo.remote(name='origin') \n",
    "        origin.pull()\n",
    "        print(\"successfully pulled the git repo\")\n",
    "    else:\n",
    "        repo_url = UserSecretsClient().get_secret(\"repo_url_youtube_analysis\")\n",
    "        # print(repo_url)\n",
    "        local_path = \"/kaggle/working/YouTubeFoodChannelAnalysis\"\n",
    "        repo = git.Repo.clone_from(repo_url, local_path)\n",
    "        print(\"successfully cloned the git repo\")\n",
    "    \n",
    "        \n",
    "    output_files = os.listdir('/kaggle/working/YouTubeFoodChannelAnalysis')\n",
    "    print(output_files)\n",
    "    for i in LatestFiles:\n",
    "        if i.startswith(\"Yesterday\"):\n",
    "            if os.path.exists('/kaggle/working/YouTubeFoodChannelAnalysis/Source/Yesterday'):\n",
    "                shutil.copyfile(f'/kaggle/working/{i}', f'/kaggle/working/YouTubeFoodChannelAnalysis/Source/Yesterday/{i}')\n",
    "                    \n",
    "            else:\n",
    "                os.makedirs('/kaggle/working/YouTubeFoodChannelAnalysis/Source/Yesterday')\n",
    "                shutil.copyfile(f'/kaggle/working/{i}', f'/kaggle/working/YouTubeFoodChannelAnalysis/Source/Yesterday/{i}')\n",
    "        elif i.startswith(\"Last30Days\"):\n",
    "            if os.path.exists('/kaggle/working/YouTubeFoodChannelAnalysis/Source/Last30Days'):\n",
    "                shutil.copyfile(f'/kaggle/working/{i}', f'/kaggle/working/YouTubeFoodChannelAnalysis/Source/Last30Days/{i}')\n",
    "                    \n",
    "            else:\n",
    "                os.makedirs('/kaggle/working/YouTubeFoodChannelAnalysis/Source/Last30Days')\n",
    "                shutil.copyfile(f'/kaggle/working/{i}', f'/kaggle/working/YouTubeFoodChannelAnalysis/Source/Last30Days/{i}')\n",
    "        elif i.startswith(\"Last1Year\"):\n",
    "            if os.path.exists('/kaggle/working/YouTubeFoodChannelAnalysis/Source/Last1Year'):\n",
    "                shutil.copyfile(f'/kaggle/working/{i}', f'/kaggle/working/YouTubeFoodChannelAnalysis/Source/Last1Year/{i}')\n",
    "                    \n",
    "            else:\n",
    "                os.makedirs('/kaggle/working/YouTubeFoodChannelAnalysis/Source/Last1Year')\n",
    "                shutil.copyfile(f'/kaggle/working/{i}', f'/kaggle/working/YouTubeFoodChannelAnalysis/Source/Last1Year/{i}')\n",
    "        elif i.startswith(\"Last5Year\"):\n",
    "            if os.path.exists('/kaggle/working/YouTubeFoodChannelAnalysis/Source/Last5Year'):\n",
    "                shutil.copyfile(f'/kaggle/working/{i}', f'/kaggle/working/YouTubeFoodChannelAnalysis/Source/Last5Year/{i}')\n",
    "                    \n",
    "            else:\n",
    "                os.makedirs('/kaggle/working/YouTubeFoodChannelAnalysis/Source/Last5Year')\n",
    "                shutil.copyfile(f'/kaggle/working/{i}', f'/kaggle/working/YouTubeFoodChannelAnalysis/Source/Last5Year/{i}')\n",
    "            \n",
    "    repo_dir = \"/kaggle/working/YouTubeFoodChannelAnalysis\"\n",
    "    repo = Repo(repo_dir)\n",
    "    repo.git.add(all=True)\n",
    "    repo.index.commit(f\"{timestamp} Added files from Kaggle notebook, {LatestFiles}\")\n",
    "    origin = repo.remote(name=\"origin\")\n",
    "    origin.push()\n",
    "    print(\"Output files successfully pushed to GitHub!\")\n",
    "\n",
    "    "
   ]
  },
  {
   "cell_type": "code",
   "execution_count": 6,
   "id": "9a0006f2",
   "metadata": {
    "execution": {
     "iopub.execute_input": "2025-01-19T08:51:59.431204Z",
     "iopub.status.busy": "2025-01-19T08:51:59.430819Z",
     "iopub.status.idle": "2025-01-19T08:51:59.435602Z",
     "shell.execute_reply": "2025-01-19T08:51:59.434435Z"
    },
    "papermill": {
     "duration": 0.011848,
     "end_time": "2025-01-19T08:51:59.437503",
     "exception": false,
     "start_time": "2025-01-19T08:51:59.425655",
     "status": "completed"
    },
    "tags": []
   },
   "outputs": [],
   "source": [
    "def RawFile(dataframe,prefix):\n",
    "    # Generate a timestamped filename\n",
    "    # Set Indian Standard Time (IST)\n",
    "    filename = f\"{prefix}_{timestamp}.json\"\n",
    "    # Save the DataFrame as a JSON file\n",
    "    dataframe.to_json(filename, orient=\"records\", indent=4)\n",
    "    print(f\"DataFrame saved as {filename}\")\n",
    "    return True"
   ]
  },
  {
   "cell_type": "code",
   "execution_count": 7,
   "id": "08d1ffbd",
   "metadata": {
    "execution": {
     "iopub.execute_input": "2025-01-19T08:51:59.447354Z",
     "iopub.status.busy": "2025-01-19T08:51:59.446944Z",
     "iopub.status.idle": "2025-01-19T08:51:59.453523Z",
     "shell.execute_reply": "2025-01-19T08:51:59.452490Z"
    },
    "papermill": {
     "duration": 0.013311,
     "end_time": "2025-01-19T08:51:59.455223",
     "exception": false,
     "start_time": "2025-01-19T08:51:59.441912",
     "status": "completed"
    },
    "tags": []
   },
   "outputs": [],
   "source": [
    "def TopVideosBasedOnTime():\n",
    "\n",
    "    # currentDate = datetime.date.today()\n",
    "    currentDate = datetime.datetime.now(ist).date()  # Current date in IST\n",
    "    print(currentDate)\n",
    "    #today\n",
    "    Yesterday = currentDate + relativedelta(days=-1)\n",
    "    Yesterday = \"{}T00:00:00Z\".format(Yesterday)\n",
    "    Yesterday_response = VideoDetailExtraction(Yesterday,1)\n",
    "    print(Yesterday)\n",
    "    RawFile(Yesterday_response,'Yesterday')\n",
    "    #Last 30 days\n",
    "    Last30Days = currentDate + relativedelta(days=-30)\n",
    "    Last30Days = \"{}T00:00:00Z\".format(Last30Days)\n",
    "    Last30Days_response = VideoDetailExtraction(Last30Days,1)\n",
    "    print(Last30Days)\n",
    "    RawFile(Last30Days_response,'Last30Days')\n",
    "    #Last 1 year\n",
    "    Last1Year = currentDate + relativedelta(years = -1)\n",
    "    Last1Year = \"{}T00:00:00Z\".format(Last1Year)\n",
    "    Last1Year_response = VideoDetailExtraction(Last1Year,1)\n",
    "    print(Last1Year)\n",
    "    RawFile(Last1Year_response,'Last1Year')\n",
    "    #Last 5 years\n",
    "    Last5Years = currentDate + relativedelta(years = -5)\n",
    "    Last5Years = \"{}T00:00:00Z\".format(Last5Years)\n",
    "    Last5Years_response = VideoDetailExtraction(Last5Years,1)\n",
    "    print(Last5Years)\n",
    "    RawFile(Last5Years_response,'Last5Years')\n",
    "    \n",
    "    return True\n"
   ]
  },
  {
   "cell_type": "code",
   "execution_count": 8,
   "id": "8b3bfc0f",
   "metadata": {
    "execution": {
     "iopub.execute_input": "2025-01-19T08:51:59.466022Z",
     "iopub.status.busy": "2025-01-19T08:51:59.465603Z",
     "iopub.status.idle": "2025-01-19T08:51:59.470070Z",
     "shell.execute_reply": "2025-01-19T08:51:59.468747Z"
    },
    "papermill": {
     "duration": 0.012346,
     "end_time": "2025-01-19T08:51:59.471834",
     "exception": false,
     "start_time": "2025-01-19T08:51:59.459488",
     "status": "completed"
    },
    "tags": []
   },
   "outputs": [],
   "source": [
    "def main():\n",
    "    TopVideosBasedOnTime()\n",
    "    PushToGithub()"
   ]
  },
  {
   "cell_type": "code",
   "execution_count": 9,
   "id": "7f4b09e4",
   "metadata": {
    "execution": {
     "iopub.execute_input": "2025-01-19T08:51:59.481869Z",
     "iopub.status.busy": "2025-01-19T08:51:59.481521Z",
     "iopub.status.idle": "2025-01-19T08:52:03.615427Z",
     "shell.execute_reply": "2025-01-19T08:52:03.614379Z"
    },
    "papermill": {
     "duration": 4.140981,
     "end_time": "2025-01-19T08:52:03.617226",
     "exception": false,
     "start_time": "2025-01-19T08:51:59.476245",
     "status": "completed"
    },
    "tags": []
   },
   "outputs": [
    {
     "name": "stdout",
     "output_type": "stream",
     "text": [
      "2025-01-19\n",
      "2025-01-18T00:00:00Z\n",
      "DataFrame saved as Yesterday_2025-01-19_14:21:59.json\n",
      "2024-12-20T00:00:00Z\n",
      "DataFrame saved as Last30Days_2025-01-19_14:21:59.json\n",
      "2024-01-19T00:00:00Z\n",
      "DataFrame saved as Last1Year_2025-01-19_14:21:59.json\n",
      "2020-01-19T00:00:00Z\n",
      "DataFrame saved as Last5Years_2025-01-19_14:21:59.json\n",
      "['Yesterday_2025-01-19_14:21:59.json', 'Last30Days_2025-01-19_14:21:59.json', 'Last1Year_2025-01-19_14:21:59.json', 'Last5Years_2025-01-19_14:21:59.json']\n",
      "successfully cloned the git repo\n",
      "['Source', 'README.md', '.git', 'YoutubeAnalysis.ipynb']\n",
      "Output files successfully pushed to GitHub!\n"
     ]
    },
    {
     "data": {
      "text/plain": [
       "None"
      ]
     },
     "metadata": {},
     "output_type": "display_data"
    }
   ],
   "source": [
    "if __name__==\"__main__\":\n",
    "    display(main())"
   ]
  },
  {
   "cell_type": "code",
   "execution_count": 10,
   "id": "5aa3cc3d",
   "metadata": {
    "execution": {
     "iopub.execute_input": "2025-01-19T08:52:03.628125Z",
     "iopub.status.busy": "2025-01-19T08:52:03.627753Z",
     "iopub.status.idle": "2025-01-19T08:52:03.888164Z",
     "shell.execute_reply": "2025-01-19T08:52:03.887136Z"
    },
    "papermill": {
     "duration": 0.268971,
     "end_time": "2025-01-19T08:52:03.891151",
     "exception": false,
     "start_time": "2025-01-19T08:52:03.622180",
     "status": "completed"
    },
    "tags": []
   },
   "outputs": [
    {
     "data": {
      "application/json": {
       "etag": "QcvqfOHyI2jTmldpShnZOTon9Q4",
       "items": [
        {
         "etag": "4RbPRvdgkJGP-AM05IBsDZp0Q9U",
         "id": {
          "kind": "youtube#video",
          "videoId": "aL213kqeVJ8"
         },
         "kind": "youtube#searchResult",
         "snippet": {
          "channelId": "UCQ5eWCiIqR92C34IDEpDgUQ",
          "channelTitle": "Priya's Tasty Recipes",
          "description": "Donut Recipe | टेस्टी डोनट बनविण्याची एकदम परफेक्ट व सोपी पद्धत | Donuts ...",
          "liveBroadcastContent": "none",
          "publishTime": "2024-12-24T12:03:33Z",
          "publishedAt": "2024-12-24T12:03:33Z",
          "thumbnails": {
           "default": {
            "height": 90,
            "url": "https://i.ytimg.com/vi/aL213kqeVJ8/default.jpg",
            "width": 120
           },
           "high": {
            "height": 360,
            "url": "https://i.ytimg.com/vi/aL213kqeVJ8/hqdefault.jpg",
            "width": 480
           },
           "medium": {
            "height": 180,
            "url": "https://i.ytimg.com/vi/aL213kqeVJ8/mqdefault.jpg",
            "width": 320
           }
          },
          "title": "Donut Recipe | टेस्टी डोनट बनविण्याची एकदम परफेक्ट व सोपी पद्धत | Donuts | Christmas Special Recipes"
         }
        },
        {
         "etag": "WLgavFuqTe2Cl4X-nMaX2GIwwbA",
         "id": {
          "kind": "youtube#video",
          "videoId": "uCnqQonmy2Y"
         },
         "kind": "youtube#searchResult",
         "snippet": {
          "channelId": "UCh9LJ7O41Ze8xVWnfhuenIQ",
          "channelTitle": "joshuacooksthendraws",
          "description": "[captions ON for commentary] Blog: ...",
          "liveBroadcastContent": "none",
          "publishTime": "2024-11-21T14:45:05Z",
          "publishedAt": "2024-11-21T14:45:05Z",
          "thumbnails": {
           "default": {
            "height": 90,
            "url": "https://i.ytimg.com/vi/uCnqQonmy2Y/default.jpg",
            "width": 120
           },
           "high": {
            "height": 360,
            "url": "https://i.ytimg.com/vi/uCnqQonmy2Y/hqdefault.jpg",
            "width": 480
           },
           "medium": {
            "height": 180,
            "url": "https://i.ytimg.com/vi/uCnqQonmy2Y/mqdefault.jpg",
            "width": 320
           }
          },
          "title": "Apple Cider Rice Krispies Treats recipe - apple cider donut flavored"
         }
        },
        {
         "etag": "y1zJyi8hsAabaoUF7z_yj9W98PI",
         "id": {
          "kind": "youtube#video",
          "videoId": "3I3J6FkKYD0"
         },
         "kind": "youtube#searchResult",
         "snippet": {
          "channelId": "UCEtYNg_QwDUuJVHqw4iI0yw",
          "channelTitle": "Vandana's_kitchen",
          "description": "Eggless Donuts ❤️ | Chocolate Donut Recipe | Soft And Fluffy #trending #donuts #chocolatedonutrecipe #softandfluffy ...",
          "liveBroadcastContent": "none",
          "publishTime": "2024-10-22T12:47:19Z",
          "publishedAt": "2024-10-22T12:47:19Z",
          "thumbnails": {
           "default": {
            "height": 90,
            "url": "https://i.ytimg.com/vi/3I3J6FkKYD0/default.jpg",
            "width": 120
           },
           "high": {
            "height": 360,
            "url": "https://i.ytimg.com/vi/3I3J6FkKYD0/hqdefault.jpg",
            "width": 480
           },
           "medium": {
            "height": 180,
            "url": "https://i.ytimg.com/vi/3I3J6FkKYD0/mqdefault.jpg",
            "width": 320
           }
          },
          "title": "Eggless Donuts ❤️ | Chocolate Donut Recipe | Soft And Fluffy"
         }
        },
        {
         "etag": "Wqdg4yjcMk2kPFfVVKmzIzKnWbI",
         "id": {
          "kind": "youtube#video",
          "videoId": "O_KH0RFneHg"
         },
         "kind": "youtube#searchResult",
         "snippet": {
          "channelId": "UCUsQpPbLhEfQ-602v2Vwy1A",
          "channelTitle": "Baking Cherry",
          "description": "Chocolate donut mini cakes. These baked donuts are soft and filled with a creamy buttercream made with sweetened condensed ...",
          "liveBroadcastContent": "none",
          "publishTime": "2024-10-19T13:30:13Z",
          "publishedAt": "2024-10-19T13:30:13Z",
          "thumbnails": {
           "default": {
            "height": 90,
            "url": "https://i.ytimg.com/vi/O_KH0RFneHg/default.jpg",
            "width": 120
           },
           "high": {
            "height": 360,
            "url": "https://i.ytimg.com/vi/O_KH0RFneHg/hqdefault.jpg",
            "width": 480
           },
           "medium": {
            "height": 180,
            "url": "https://i.ytimg.com/vi/O_KH0RFneHg/mqdefault.jpg",
            "width": 320
           }
          },
          "title": "These mini CHOCOLATE CAKES will impress everyone: Chocolate Donut Cakes"
         }
        },
        {
         "etag": "d8tZx6AbjpJ6JeNRXt7Xe4SlTBU",
         "id": {
          "kind": "youtube#video",
          "videoId": "W3EF2Kpt58g"
         },
         "kind": "youtube#searchResult",
         "snippet": {
          "channelId": "UCVUF0t5IqFG8kc5N51SOFgw",
          "channelTitle": "Omme's Kitchen",
          "description": "Simple, cheap and delicious! Do you have 3 potatoes? Try this cheese potato donuts recipe, perfect for breakfast! Just grate ...",
          "liveBroadcastContent": "none",
          "publishTime": "2024-10-19T12:00:42Z",
          "publishedAt": "2024-10-19T12:00:42Z",
          "thumbnails": {
           "default": {
            "height": 90,
            "url": "https://i.ytimg.com/vi/W3EF2Kpt58g/default.jpg",
            "width": 120
           },
           "high": {
            "height": 360,
            "url": "https://i.ytimg.com/vi/W3EF2Kpt58g/hqdefault.jpg",
            "width": 480
           },
           "medium": {
            "height": 180,
            "url": "https://i.ytimg.com/vi/W3EF2Kpt58g/mqdefault.jpg",
            "width": 320
           }
          },
          "title": "Delicious Potato and Cheese Egg Donut recipe - When you have 3 potatoes"
         }
        },
        {
         "etag": "8UmiPnRSWDeaYJlwm6If1-Uqlw4",
         "id": {
          "kind": "youtube#video",
          "videoId": "ZCUIMUSU5Ac"
         },
         "kind": "youtube#searchResult",
         "snippet": {
          "channelId": "UC1W1Ky1j9_ruBnaKgeou9nQ",
          "channelTitle": "Nana Pastries",
          "description": "Turn on CC ♡⟡⋆˙ ♡ Hello everyone! ♡ In today's video, we are going to recreate Ichigo Amano's donut holes ଘ(੭ˊᵕˋ)੭* ...",
          "liveBroadcastContent": "none",
          "publishTime": "2024-10-08T14:36:19Z",
          "publishedAt": "2024-10-08T14:36:19Z",
          "thumbnails": {
           "default": {
            "height": 90,
            "url": "https://i.ytimg.com/vi/ZCUIMUSU5Ac/default.jpg",
            "width": 120
           },
           "high": {
            "height": 360,
            "url": "https://i.ytimg.com/vi/ZCUIMUSU5Ac/hqdefault.jpg",
            "width": 480
           },
           "medium": {
            "height": 180,
            "url": "https://i.ytimg.com/vi/ZCUIMUSU5Ac/mqdefault.jpg",
            "width": 320
           }
          },
          "title": "Quick and Easy Fried DONUT HOLES | 🍓👩‍🍳✨ Yumeiro Patissiere Recipe"
         }
        },
        {
         "etag": "NO4ffzcBkKv770XwEAUsRYwtMWI",
         "id": {
          "kind": "youtube#video",
          "videoId": "A0U8gCdpkHU"
         },
         "kind": "youtube#searchResult",
         "snippet": {
          "channelId": "UCvjvewCJspsQf5c2dgyIcIA",
          "channelTitle": "Noreen Mustafa kitchen 4M. ",
          "description": "dount #dounts #recipe #snacks #pakistanirecipe #pakistani asslam o alaikum dosto aaj me ap k lye laye hun donuts recipe ...",
          "liveBroadcastContent": "none",
          "publishTime": "2024-09-29T12:57:47Z",
          "publishedAt": "2024-09-29T12:57:47Z",
          "thumbnails": {
           "default": {
            "height": 90,
            "url": "https://i.ytimg.com/vi/A0U8gCdpkHU/default.jpg",
            "width": 120
           },
           "high": {
            "height": 360,
            "url": "https://i.ytimg.com/vi/A0U8gCdpkHU/hqdefault.jpg",
            "width": 480
           },
           "medium": {
            "height": 180,
            "url": "https://i.ytimg.com/vi/A0U8gCdpkHU/mqdefault.jpg",
            "width": 320
           }
          },
          "title": "How to make Donut| Homemade Donut Recipe/ Famous Donuts recipe #noreenmustafakitchan"
         }
        },
        {
         "etag": "5yUhsKuC4SXJStWFqnXdXbX3xAQ",
         "id": {
          "kind": "youtube#video",
          "videoId": "-EFIxyT35aM"
         },
         "kind": "youtube#searchResult",
         "snippet": {
          "channelId": "UCtA25Izb-Lyzwp-TTAMYIPQ",
          "channelTitle": "Maira Kitchen",
          "description": "donuts #sweet #desert \"Donuts khanay ka mann hai lekin waqt kam hai? Fikar ki koi baat nahi! Is video mein hum aapko 4 ...",
          "liveBroadcastContent": "none",
          "publishTime": "2024-09-07T09:31:24Z",
          "publishedAt": "2024-09-07T09:31:24Z",
          "thumbnails": {
           "default": {
            "height": 90,
            "url": "https://i.ytimg.com/vi/-EFIxyT35aM/default.jpg",
            "width": 120
           },
           "high": {
            "height": 360,
            "url": "https://i.ytimg.com/vi/-EFIxyT35aM/hqdefault.jpg",
            "width": 480
           },
           "medium": {
            "height": 180,
            "url": "https://i.ytimg.com/vi/-EFIxyT35aM/mqdefault.jpg",
            "width": 320
           }
          },
          "title": "EASY 4-Ingredient Donut Recipe in Minutes | No Yeast Required!"
         }
        },
        {
         "etag": "R3yMyuBQdbbFEDcVM5B95zKkafM",
         "id": {
          "kind": "youtube#video",
          "videoId": "iYZ3FamKe80"
         },
         "kind": "youtube#searchResult",
         "snippet": {
          "channelId": "UCtA25Izb-Lyzwp-TTAMYIPQ",
          "channelTitle": "Maira Kitchen",
          "description": "donuts #sweet #desert \"Donuts khanay ka mann hai lekin waqt kam hai? Fikar ki koi baat nahi! Is video mein hum aapko 4 ...",
          "liveBroadcastContent": "none",
          "publishTime": "2024-09-07T09:30:58Z",
          "publishedAt": "2024-09-07T09:30:58Z",
          "thumbnails": {
           "default": {
            "height": 90,
            "url": "https://i.ytimg.com/vi/iYZ3FamKe80/default.jpg",
            "width": 120
           },
           "high": {
            "height": 360,
            "url": "https://i.ytimg.com/vi/iYZ3FamKe80/hqdefault.jpg",
            "width": 480
           },
           "medium": {
            "height": 180,
            "url": "https://i.ytimg.com/vi/iYZ3FamKe80/mqdefault.jpg",
            "width": 320
           }
          },
          "title": "EASY 4-Ingredient Donut Recipe in Minutes | No Yeast Required!"
         }
        },
        {
         "etag": "Fa0hLM0m3VlRwPnoRmDzs2BZzFY",
         "id": {
          "kind": "youtube#video",
          "videoId": "BTtY-0vAqYw"
         },
         "kind": "youtube#searchResult",
         "snippet": {
          "channelId": "UC0PsSWbhLa0TAQJLwERWorg",
          "channelTitle": "Infoods Specials",
          "description": "Ingredients: 01. 4-5 Cups All Purpose Flour 02. 10 Grams Instant Yeast 03. 1/2 Cup Sugar 04. 1 Cup Milk 05. 1/2 tsp Salt 06.",
          "liveBroadcastContent": "none",
          "publishTime": "2024-09-07T08:00:39Z",
          "publishedAt": "2024-09-07T08:00:39Z",
          "thumbnails": {
           "default": {
            "height": 90,
            "url": "https://i.ytimg.com/vi/BTtY-0vAqYw/default.jpg",
            "width": 120
           },
           "high": {
            "height": 360,
            "url": "https://i.ytimg.com/vi/BTtY-0vAqYw/hqdefault.jpg",
            "width": 480
           },
           "medium": {
            "height": 180,
            "url": "https://i.ytimg.com/vi/BTtY-0vAqYw/mqdefault.jpg",
            "width": 320
           }
          },
          "title": "Cinnamon Donuts Recipe | How to Make Cinnamon Donut Holes | Mini Donuts Recipe | Infoods"
         }
        },
        {
         "etag": "qQ22u-fF_ONO2IEl362sJ_Y0S4A",
         "id": {
          "kind": "youtube#video",
          "videoId": "_p2GdegDd2A"
         },
         "kind": "youtube#searchResult",
         "snippet": {
          "channelId": "UCtA25Izb-Lyzwp-TTAMYIPQ",
          "channelTitle": "Maira Kitchen",
          "description": "donuts #sweet #desert \"Donuts khanay ka mann hai lekin waqt kam hai? Fikar ki koi baat nahi! Is video mein hum aapko 4 ...",
          "liveBroadcastContent": "none",
          "publishTime": "2024-09-06T12:06:33Z",
          "publishedAt": "2024-09-06T12:06:33Z",
          "thumbnails": {
           "default": {
            "height": 90,
            "url": "https://i.ytimg.com/vi/_p2GdegDd2A/default.jpg",
            "width": 120
           },
           "high": {
            "height": 360,
            "url": "https://i.ytimg.com/vi/_p2GdegDd2A/hqdefault.jpg",
            "width": 480
           },
           "medium": {
            "height": 180,
            "url": "https://i.ytimg.com/vi/_p2GdegDd2A/mqdefault.jpg",
            "width": 320
           }
          },
          "title": "EASY 4-Ingredient Donut Recipe in Minutes | No Yeast Required!"
         }
        },
        {
         "etag": "uCsxbfOuw2GX6dwqn7r_TvZL7Iw",
         "id": {
          "kind": "youtube#video",
          "videoId": "6d_9yKilC3M"
         },
         "kind": "youtube#searchResult",
         "snippet": {
          "channelId": "UC-pjrZPeeRenFKAF3kBuZcQ",
          "channelTitle": "The Baking Journal",
          "description": "Join Stephanie as she makes yummy jelly donuts from scratch! Calling all donut lovers! In this video, Stephanie walks you ...",
          "liveBroadcastContent": "none",
          "publishTime": "2024-08-26T20:00:06Z",
          "publishedAt": "2024-08-26T20:00:06Z",
          "thumbnails": {
           "default": {
            "height": 90,
            "url": "https://i.ytimg.com/vi/6d_9yKilC3M/default.jpg",
            "width": 120
           },
           "high": {
            "height": 360,
            "url": "https://i.ytimg.com/vi/6d_9yKilC3M/hqdefault.jpg",
            "width": 480
           },
           "medium": {
            "height": 180,
            "url": "https://i.ytimg.com/vi/6d_9yKilC3M/mqdefault.jpg",
            "width": 320
           }
          },
          "title": "Homemade Jelly Donuts | Tastes Better Than Your Donut Shop!"
         }
        },
        {
         "etag": "QraEONn9fmISC760IOU4i8fILxI",
         "id": {
          "kind": "youtube#video",
          "videoId": "LF1DNaU9-J0"
         },
         "kind": "youtube#searchResult",
         "snippet": {
          "channelId": "UCpXWnrKhGYWD6Jy4HxE0zBw",
          "channelTitle": "Autumn Kitchen",
          "description": "Introducing my latest recipe, the crispy donut. I'm sure everyone tried donut with cream, sugar or chocolate coating before.",
          "liveBroadcastContent": "none",
          "publishTime": "2024-08-25T12:00:17Z",
          "publishedAt": "2024-08-25T12:00:17Z",
          "thumbnails": {
           "default": {
            "height": 90,
            "url": "https://i.ytimg.com/vi/LF1DNaU9-J0/default.jpg",
            "width": 120
           },
           "high": {
            "height": 360,
            "url": "https://i.ytimg.com/vi/LF1DNaU9-J0/hqdefault.jpg",
            "width": 480
           },
           "medium": {
            "height": 180,
            "url": "https://i.ytimg.com/vi/LF1DNaU9-J0/mqdefault.jpg",
            "width": 320
           }
          },
          "title": "Crispy Donut | 脆皮甜甜圈"
         }
        },
        {
         "etag": "Fd788_7qKJ9LSEckyEsNgbY0WhM",
         "id": {
          "kind": "youtube#video",
          "videoId": "LIUrInHaeUM"
         },
         "kind": "youtube#searchResult",
         "snippet": {
          "channelId": "UCWqeywz7IQmRI2Tt9xFqnBg",
          "channelTitle": "AP Foodilicious By Priyanka",
          "description": "American Classic Fluffy Donut Recipe | How to Make Chocolate Donut At Home | Donut Kaise Banaen Welcome to my cooking ...",
          "liveBroadcastContent": "none",
          "publishTime": "2024-08-17T07:17:13Z",
          "publishedAt": "2024-08-17T07:17:13Z",
          "thumbnails": {
           "default": {
            "height": 90,
            "url": "https://i.ytimg.com/vi/LIUrInHaeUM/default.jpg",
            "width": 120
           },
           "high": {
            "height": 360,
            "url": "https://i.ytimg.com/vi/LIUrInHaeUM/hqdefault.jpg",
            "width": 480
           },
           "medium": {
            "height": 180,
            "url": "https://i.ytimg.com/vi/LIUrInHaeUM/mqdefault.jpg",
            "width": 320
           }
          },
          "title": "American Classic Fluffy Donut Recipe | How to Make Chocolate Donut At Home | Donut Kaise Banaen"
         }
        },
        {
         "etag": "RT35HpzSdxx15zeGgb-AHsj0obI",
         "id": {
          "kind": "youtube#video",
          "videoId": "NR7cjwABTmY"
         },
         "kind": "youtube#searchResult",
         "snippet": {
          "channelId": "UCOwqCgdas2ZzZTDWT1z98Lg",
          "channelTitle": "Crazy for Crust",
          "description": "The BEST Easy Donut Holes - this donut hole recipe from scratch is so good and you can coat them with glaze or cinnamon sugar!",
          "liveBroadcastContent": "none",
          "publishTime": "2024-08-12T13:30:09Z",
          "publishedAt": "2024-08-12T13:30:09Z",
          "thumbnails": {
           "default": {
            "height": 90,
            "url": "https://i.ytimg.com/vi/NR7cjwABTmY/default.jpg",
            "width": 120
           },
           "high": {
            "height": 360,
            "url": "https://i.ytimg.com/vi/NR7cjwABTmY/hqdefault.jpg",
            "width": 480
           },
           "medium": {
            "height": 180,
            "url": "https://i.ytimg.com/vi/NR7cjwABTmY/mqdefault.jpg",
            "width": 320
           }
          },
          "title": "Easy DONUT HOLES from scratch - Fried and Delish!"
         }
        },
        {
         "etag": "02uUniqOxex3G4X_uC7SBRs0V4w",
         "id": {
          "kind": "youtube#video",
          "videoId": "xVHZxRIyAJ8"
         },
         "kind": "youtube#searchResult",
         "snippet": {
          "channelId": "UCpk27jP_zLO23Rct5jvsiKg",
          "channelTitle": "Tika Recipes",
          "description": "Subtitles are available in all languages! Please enable subtitles translated into your language! ✨ SUBSCRIBE for more video ...",
          "liveBroadcastContent": "none",
          "publishTime": "2024-08-12T12:01:04Z",
          "publishedAt": "2024-08-12T12:01:04Z",
          "thumbnails": {
           "default": {
            "height": 90,
            "url": "https://i.ytimg.com/vi/xVHZxRIyAJ8/default.jpg",
            "width": 120
           },
           "high": {
            "height": 360,
            "url": "https://i.ytimg.com/vi/xVHZxRIyAJ8/hqdefault.jpg",
            "width": 480
           },
           "medium": {
            "height": 180,
            "url": "https://i.ytimg.com/vi/xVHZxRIyAJ8/mqdefault.jpg",
            "width": 320
           }
          },
          "title": "🎉 6 donut recipes to make at home🍩! Incredibly soft  without a mixer 😘"
         }
        },
        {
         "etag": "E8WLty_quFmLJterNNRAX1PecDk",
         "id": {
          "kind": "youtube#video",
          "videoId": "3wo4bnvItBg"
         },
         "kind": "youtube#searchResult",
         "snippet": {
          "channelId": "UCCGeNT4XL_q0ENuRPR0l1fQ",
          "channelTitle": "Vinastar Channel",
          "description": "Donuts oh donuts @VinastarChannel 250 grams of bread flour (strong flour). 35 grams of sugar. 3-4 grams of yeast (if your room ...",
          "liveBroadcastContent": "none",
          "publishTime": "2024-08-08T08:53:00Z",
          "publishedAt": "2024-08-08T08:53:00Z",
          "thumbnails": {
           "default": {
            "height": 90,
            "url": "https://i.ytimg.com/vi/3wo4bnvItBg/default.jpg",
            "width": 120
           },
           "high": {
            "height": 360,
            "url": "https://i.ytimg.com/vi/3wo4bnvItBg/hqdefault.jpg",
            "width": 480
           },
           "medium": {
            "height": 180,
            "url": "https://i.ytimg.com/vi/3wo4bnvItBg/mqdefault.jpg",
            "width": 320
           }
          },
          "title": "Tanpa Cetakan Donat, Tanpa Bread Improver. Resep Dan Cara Ini Bikin Donatku Berwhite Ring Tinggi."
         }
        },
        {
         "etag": "CQMItp36B48MamNlRXvsph5iwAc",
         "id": {
          "kind": "youtube#video",
          "videoId": "6TNmBCghOEQ"
         },
         "kind": "youtube#searchResult",
         "snippet": {
          "channelId": "UCkb9XmlItH-TNGSAYeMOdsQ",
          "channelTitle": "yummyteller",
          "description": "hello everyone this is a channel for easy home cooking and baking. let's connect! in this video i want to share to you how i make ...",
          "liveBroadcastContent": "none",
          "publishTime": "2024-08-02T12:22:20Z",
          "publishedAt": "2024-08-02T12:22:20Z",
          "thumbnails": {
           "default": {
            "height": 90,
            "url": "https://i.ytimg.com/vi/6TNmBCghOEQ/default.jpg",
            "width": 120
           },
           "high": {
            "height": 360,
            "url": "https://i.ytimg.com/vi/6TNmBCghOEQ/hqdefault.jpg",
            "width": 480
           },
           "medium": {
            "height": 180,
            "url": "https://i.ytimg.com/vi/6TNmBCghOEQ/mqdefault.jpg",
            "width": 320
           }
          },
          "title": "Best DONUT recipe only 7 MINUTES kneading | don&#39;t buy donut outside make now at home!"
         }
        },
        {
         "etag": "9FQHz4gfXlxO0yaGMCXW9o6mMrs",
         "id": {
          "kind": "youtube#video",
          "videoId": "TCnV6e9dd48"
         },
         "kind": "youtube#searchResult",
         "snippet": {
          "channelId": "UCOa1xkBuhXkZenqJEBoB9eg",
          "channelTitle": "Shop shine channel",
          "description": "Shop shine channel. Treat yourself and your family to delightful homemade treats with the DASH Mini Donut Maker Machine!",
          "liveBroadcastContent": "none",
          "publishTime": "2024-07-23T13:30:10Z",
          "publishedAt": "2024-07-23T13:30:10Z",
          "thumbnails": {
           "default": {
            "height": 90,
            "url": "https://i.ytimg.com/vi/TCnV6e9dd48/default.jpg",
            "width": 120
           },
           "high": {
            "height": 360,
            "url": "https://i.ytimg.com/vi/TCnV6e9dd48/hqdefault.jpg",
            "width": 480
           },
           "medium": {
            "height": 180,
            "url": "https://i.ytimg.com/vi/TCnV6e9dd48/mqdefault.jpg",
            "width": 320
           }
          },
          "title": "DASH Mini Donut Maker Machine for Kid-Friendly Breakfast.Shop shine channel"
         }
        },
        {
         "etag": "8So2DloZvuXXkk3vlnuBjmqZ4L0",
         "id": {
          "kind": "youtube#video",
          "videoId": "Iftjnyzo4qI"
         },
         "kind": "youtube#searchResult",
         "snippet": {
          "channelId": "UCUUECX4byJ9mmZjgV49AnHA",
          "channelTitle": "Wahhchef Studio",
          "description": "Chicken Donuts Recipe ❤️ | Chicken Nuggets Recipe | Doughnuts | donut @wahhchefstudio Hey Friends, Wahhchef brings you ...",
          "liveBroadcastContent": "none",
          "publishTime": "2024-07-22T08:35:00Z",
          "publishedAt": "2024-07-22T08:35:00Z",
          "thumbnails": {
           "default": {
            "height": 90,
            "url": "https://i.ytimg.com/vi/Iftjnyzo4qI/default.jpg",
            "width": 120
           },
           "high": {
            "height": 360,
            "url": "https://i.ytimg.com/vi/Iftjnyzo4qI/hqdefault.jpg",
            "width": 480
           },
           "medium": {
            "height": 180,
            "url": "https://i.ytimg.com/vi/Iftjnyzo4qI/mqdefault.jpg",
            "width": 320
           }
          },
          "title": "Chicken Donuts Recipe ❤️ | Chicken Nuggets Recipe | Doughnuts | donut"
         }
        },
        {
         "etag": "wx9XZVLTj9zqf_sqeL1v1i7SJJQ",
         "id": {
          "kind": "youtube#video",
          "videoId": "uNAh-jF6ebw"
         },
         "kind": "youtube#searchResult",
         "snippet": {
          "channelId": "UC3aeqld-XTvAmTuAWrhjusw",
          "channelTitle": "kitchen  with zam",
          "description": "kitchenwithzam #donutrecipe #doughnut Try this innovative & creative Flower Donut Recipe|Doughnut|#Trending In this video i ...",
          "liveBroadcastContent": "none",
          "publishTime": "2024-07-18T15:24:39Z",
          "publishedAt": "2024-07-18T15:24:39Z",
          "thumbnails": {
           "default": {
            "height": 90,
            "url": "https://i.ytimg.com/vi/uNAh-jF6ebw/default.jpg",
            "width": 120
           },
           "high": {
            "height": 360,
            "url": "https://i.ytimg.com/vi/uNAh-jF6ebw/hqdefault.jpg",
            "width": 480
           },
           "medium": {
            "height": 180,
            "url": "https://i.ytimg.com/vi/uNAh-jF6ebw/mqdefault.jpg",
            "width": 320
           }
          },
          "title": "Try this innovative &amp; creative Flower Donut Recipe |Doughnut|#Trending"
         }
        },
        {
         "etag": "RHGJ1gTtAPoTE8-mXPng50RHa00",
         "id": {
          "kind": "youtube#video",
          "videoId": "9uCPcxVIpkI"
         },
         "kind": "youtube#searchResult",
         "snippet": {
          "channelId": "UCsGgBdQEC2Nn4HtGF0eXGoA",
          "channelTitle": "ningsih kangoshi",
          "description": "Yuk di simak video nya hingga selesai.. Donat Super Lembut Bahan : 200 gr Tepung Terigu Protein Tinggi 50 gr Tepung ...",
          "liveBroadcastContent": "none",
          "publishTime": "2024-07-07T12:45:01Z",
          "publishedAt": "2024-07-07T12:45:01Z",
          "thumbnails": {
           "default": {
            "height": 90,
            "url": "https://i.ytimg.com/vi/9uCPcxVIpkI/default.jpg",
            "width": 120
           },
           "high": {
            "height": 360,
            "url": "https://i.ytimg.com/vi/9uCPcxVIpkI/hqdefault.jpg",
            "width": 480
           },
           "medium": {
            "height": 180,
            "url": "https://i.ytimg.com/vi/9uCPcxVIpkI/mqdefault.jpg",
            "width": 320
           }
          },
          "title": "RESEP DONAT SUPER LEMBUT UNTUK IDE JUALAN"
         }
        },
        {
         "etag": "bnkZFL5VOFk9P76t6ybPIlVFS0Q",
         "id": {
          "kind": "youtube#video",
          "videoId": "p0nHhHBSrlM"
         },
         "kind": "youtube#searchResult",
         "snippet": {
          "channelId": "UC3aeqld-XTvAmTuAWrhjusw",
          "channelTitle": "kitchen  with zam",
          "description": "kitchenwithzam #donutrecipe #doughnutrecipe Pro Chef Shares Top Donut Recipe Tips|#Trending In this video i will tell you all ...",
          "liveBroadcastContent": "none",
          "publishTime": "2024-07-01T13:45:20Z",
          "publishedAt": "2024-07-01T13:45:20Z",
          "thumbnails": {
           "default": {
            "height": 90,
            "url": "https://i.ytimg.com/vi/p0nHhHBSrlM/default.jpg",
            "width": 120
           },
           "high": {
            "height": 360,
            "url": "https://i.ytimg.com/vi/p0nHhHBSrlM/hqdefault.jpg",
            "width": 480
           },
           "medium": {
            "height": 180,
            "url": "https://i.ytimg.com/vi/p0nHhHBSrlM/mqdefault.jpg",
            "width": 320
           }
          },
          "title": "Pro Chef Shares Top Donut Recipe Tips|#Trending"
         }
        },
        {
         "etag": "UetVo0A5762MwJE5kh3tLLF7Teo",
         "id": {
          "kind": "youtube#video",
          "videoId": "3pVk2wQoeUI"
         },
         "kind": "youtube#searchResult",
         "snippet": {
          "channelId": "UCA34Z3lq8FozSQzDHsSLcmQ",
          "channelTitle": "MasterChef Pankaj Bhadouria",
          "description": "Donut Recipe I Glazed Donuts I Custard Cream Doughnuts I Pankaj Bhadouria Sharing today a Donut Recipe with which you can ...",
          "liveBroadcastContent": "none",
          "publishTime": "2024-06-28T08:30:17Z",
          "publishedAt": "2024-06-28T08:30:17Z",
          "thumbnails": {
           "default": {
            "height": 90,
            "url": "https://i.ytimg.com/vi/3pVk2wQoeUI/default.jpg",
            "width": 120
           },
           "high": {
            "height": 360,
            "url": "https://i.ytimg.com/vi/3pVk2wQoeUI/hqdefault.jpg",
            "width": 480
           },
           "medium": {
            "height": 180,
            "url": "https://i.ytimg.com/vi/3pVk2wQoeUI/mqdefault.jpg",
            "width": 320
           }
          },
          "title": "Donut Recipe I Glazed Donuts I Custard Cream Doughnuts I Pankaj Bhadouria"
         }
        },
        {
         "etag": "BFDgAd-eYzDyGBnEB8f8NUM2ke0",
         "id": {
          "kind": "youtube#video",
          "videoId": "q-Xv8ham0Ao"
         },
         "kind": "youtube#searchResult",
         "snippet": {
          "channelId": "UCgsVyXYeHOr9aQoTTJofPQw",
          "channelTitle": "Momoka Home Cafe",
          "description": "Easy Donut Recipe || Delicious Homemade Donuts Thanks for watching, like and subscribe Let me know in the comments if ...",
          "liveBroadcastContent": "none",
          "publishTime": "2024-05-30T18:15:02Z",
          "publishedAt": "2024-05-30T18:15:02Z",
          "thumbnails": {
           "default": {
            "height": 90,
            "url": "https://i.ytimg.com/vi/q-Xv8ham0Ao/default.jpg",
            "width": 120
           },
           "high": {
            "height": 360,
            "url": "https://i.ytimg.com/vi/q-Xv8ham0Ao/hqdefault.jpg",
            "width": 480
           },
           "medium": {
            "height": 180,
            "url": "https://i.ytimg.com/vi/q-Xv8ham0Ao/mqdefault.jpg",
            "width": 320
           }
          },
          "title": "Easy Donut Recipe || Delicious Homemade Donuts"
         }
        },
        {
         "etag": "LLT0t4En7MOlsARqB2gNr4V2zOA",
         "id": {
          "kind": "youtube#video",
          "videoId": "cgHnMh0yxJk"
         },
         "kind": "youtube#searchResult",
         "snippet": {
          "channelId": "UCkb9XmlItH-TNGSAYeMOdsQ",
          "channelTitle": "yummyteller",
          "description": "hello everyone this is a channel for easy home cooking and baking. let's connect! in this video i want to share to you how i make ...",
          "liveBroadcastContent": "none",
          "publishTime": "2024-05-07T10:25:49Z",
          "publishedAt": "2024-05-07T10:25:49Z",
          "thumbnails": {
           "default": {
            "height": 90,
            "url": "https://i.ytimg.com/vi/cgHnMh0yxJk/default.jpg",
            "width": 120
           },
           "high": {
            "height": 360,
            "url": "https://i.ytimg.com/vi/cgHnMh0yxJk/hqdefault.jpg",
            "width": 480
           },
           "medium": {
            "height": 180,
            "url": "https://i.ytimg.com/vi/cgHnMh0yxJk/mqdefault.jpg",
            "width": 320
           }
          },
          "title": "homemade NO KNEAD DONUT RECIPE ! | with tips !, soft, airy and fluffy"
         }
        },
        {
         "etag": "bqt6ZN7xqD6dTdRv9fV-EOKEwN8",
         "id": {
          "kind": "youtube#video",
          "videoId": "UhQOIMWHeBY"
         },
         "kind": "youtube#searchResult",
         "snippet": {
          "channelId": "UC9nY7iR-4MHFczWRpCPUjrQ",
          "channelTitle": "Honey Kitchen.",
          "description": "welcome to Honey Kitchen. @honeykitchenDot In this video, Chef Honey Dot shares his delicious recipe for homemade Jam ...",
          "liveBroadcastContent": "none",
          "publishTime": "2024-05-02T16:38:12Z",
          "publishedAt": "2024-05-02T16:38:12Z",
          "thumbnails": {
           "default": {
            "height": 90,
            "url": "https://i.ytimg.com/vi/UhQOIMWHeBY/default.jpg",
            "width": 120
           },
           "high": {
            "height": 360,
            "url": "https://i.ytimg.com/vi/UhQOIMWHeBY/hqdefault.jpg",
            "width": 480
           },
           "medium": {
            "height": 180,
            "url": "https://i.ytimg.com/vi/UhQOIMWHeBY/mqdefault.jpg",
            "width": 320
           }
          },
          "title": "Jam Donut French Toast Recipe | Easy Donut Recipes | Delicious Dessert Recipe"
         }
        },
        {
         "etag": "7ObaFDHup1OwO-1_hW2HiSZvN6Y",
         "id": {
          "kind": "youtube#video",
          "videoId": "J92nQL-97sY"
         },
         "kind": "youtube#searchResult",
         "snippet": {
          "channelId": "UC5RTWbepJ4OJV5AEiCp9RGg",
          "channelTitle": "Hafsa's Kitchen",
          "description": "Today's recipe is Perfect Doughnuts Recipe By Chef Hafsa you'll need following ingredients to make it 1/2 cup sugar 1 egg ...",
          "liveBroadcastContent": "none",
          "publishTime": "2024-05-02T16:04:43Z",
          "publishedAt": "2024-05-02T16:04:43Z",
          "thumbnails": {
           "default": {
            "height": 90,
            "url": "https://i.ytimg.com/vi/J92nQL-97sY/default.jpg",
            "width": 120
           },
           "high": {
            "height": 360,
            "url": "https://i.ytimg.com/vi/J92nQL-97sY/hqdefault.jpg",
            "width": 480
           },
           "medium": {
            "height": 180,
            "url": "https://i.ytimg.com/vi/J92nQL-97sY/mqdefault.jpg",
            "width": 320
           }
          },
          "title": "Perfect Doughnuts Recipe 😋  By Chef Hafsa"
         }
        },
        {
         "etag": "KGQCgr2aCjoBvqz4Jj7JJFWLn1w",
         "id": {
          "kind": "youtube#video",
          "videoId": "8X5THjUVh6c"
         },
         "kind": "youtube#searchResult",
         "snippet": {
          "channelId": "UCKM1vTSoITm1WW3VDis-Kvg",
          "channelTitle": "Elijah' Recipes ",
          "description": "How To MAKE Amazing Donut Holes As A BEGINNER (For Less) #DonutHoleRecipe ...",
          "liveBroadcastContent": "none",
          "publishTime": "2024-04-10T18:16:39Z",
          "publishedAt": "2024-04-10T18:16:39Z",
          "thumbnails": {
           "default": {
            "height": 90,
            "url": "https://i.ytimg.com/vi/8X5THjUVh6c/default.jpg",
            "width": 120
           },
           "high": {
            "height": 360,
            "url": "https://i.ytimg.com/vi/8X5THjUVh6c/hqdefault.jpg",
            "width": 480
           },
           "medium": {
            "height": 180,
            "url": "https://i.ytimg.com/vi/8X5THjUVh6c/mqdefault.jpg",
            "width": 320
           }
          },
          "title": "The SECRET to PERFECT Donut Holes: You Won’t Believe What I Used!"
         }
        },
        {
         "etag": "xa_I1P48y-lnCuCGbU4KO99-fXI",
         "id": {
          "kind": "youtube#video",
          "videoId": "uSkHyXmJOQU"
         },
         "kind": "youtube#searchResult",
         "snippet": {
          "channelId": "UCcCENFoaxiPdLUlZ_Jp1P8Q",
          "channelTitle": "enjoy cooking home ",
          "description": "Hello everyone, welcome to my channel \"Enjoy cooking at home\" today we will cook together the most delicious donuts at home.",
          "liveBroadcastContent": "none",
          "publishTime": "2024-04-06T14:30:17Z",
          "publishedAt": "2024-04-06T14:30:17Z",
          "thumbnails": {
           "default": {
            "height": 90,
            "url": "https://i.ytimg.com/vi/uSkHyXmJOQU/default.jpg",
            "width": 120
           },
           "high": {
            "height": 360,
            "url": "https://i.ytimg.com/vi/uSkHyXmJOQU/hqdefault.jpg",
            "width": 480
           },
           "medium": {
            "height": 180,
            "url": "https://i.ytimg.com/vi/uSkHyXmJOQU/mqdefault.jpg",
            "width": 320
           }
          },
          "title": "donut recipe . secrets of homemade fluffy donut recipe"
         }
        },
        {
         "etag": "FU-xwu0mZMvDXkf5oCZOsW6aN64",
         "id": {
          "kind": "youtube#video",
          "videoId": "l-VaYx8h_7Y"
         },
         "kind": "youtube#searchResult",
         "snippet": {
          "channelId": "UCpk27jP_zLO23Rct5jvsiKg",
          "channelTitle": "Tika Recipes",
          "description": "Subtitles are available in all languages! Please enable subtitles translated into your language! On mobile, tap \"CC\" in the top right ...",
          "liveBroadcastContent": "none",
          "publishTime": "2024-04-03T12:00:42Z",
          "publishedAt": "2024-04-03T12:00:42Z",
          "thumbnails": {
           "default": {
            "height": 90,
            "url": "https://i.ytimg.com/vi/l-VaYx8h_7Y/default.jpg",
            "width": 120
           },
           "high": {
            "height": 360,
            "url": "https://i.ytimg.com/vi/l-VaYx8h_7Y/hqdefault.jpg",
            "width": 480
           },
           "medium": {
            "height": 180,
            "url": "https://i.ytimg.com/vi/l-VaYx8h_7Y/mqdefault.jpg",
            "width": 320
           }
          },
          "title": "5 EASY &amp; QUICK Homemade Donut Recipes to Make at Home! Soft Donuts Without a MIXER"
         }
        },
        {
         "etag": "khzNF1OapdbSzNWKKb2nQnYfGc0",
         "id": {
          "kind": "youtube#video",
          "videoId": "ZIDmCGlmpJI"
         },
         "kind": "youtube#searchResult",
         "snippet": {
          "channelId": "UCyZCL31zz2VS_ZwLcOYizwQ",
          "channelTitle": "Tasty cooking",
          "description": "Chocolate glazed donut/Fluffy donut recipe/snack recipe #chocolatedonuts #donuts #snacks #fried @Vasanthignanavel ...",
          "liveBroadcastContent": "none",
          "publishTime": "2024-03-29T11:30:17Z",
          "publishedAt": "2024-03-29T11:30:17Z",
          "thumbnails": {
           "default": {
            "height": 90,
            "url": "https://i.ytimg.com/vi/ZIDmCGlmpJI/default.jpg",
            "width": 120
           },
           "high": {
            "height": 360,
            "url": "https://i.ytimg.com/vi/ZIDmCGlmpJI/hqdefault.jpg",
            "width": 480
           },
           "medium": {
            "height": 180,
            "url": "https://i.ytimg.com/vi/ZIDmCGlmpJI/mqdefault.jpg",
            "width": 320
           }
          },
          "title": "Chocolate glazed donut/Fluffy donut recipe/snack recipe"
         }
        },
        {
         "etag": "c2uPNtjwxhX2giyUoLGWSfE1hvU",
         "id": {
          "kind": "youtube#video",
          "videoId": "NFlsRD_ogts"
         },
         "kind": "youtube#searchResult",
         "snippet": {
          "channelId": "UCnTzym6VmmyDiVEOnBIFfsg",
          "channelTitle": "VARGASAVOUR RECIPES ",
          "description": "Donut with sugar, The classic combo getting a major upgrade you won't want to miss.",
          "liveBroadcastContent": "none",
          "publishTime": "2024-03-22T18:15:03Z",
          "publishedAt": "2024-03-22T18:15:03Z",
          "thumbnails": {
           "default": {
            "height": 90,
            "url": "https://i.ytimg.com/vi/NFlsRD_ogts/default.jpg",
            "width": 120
           },
           "high": {
            "height": 360,
            "url": "https://i.ytimg.com/vi/NFlsRD_ogts/hqdefault.jpg",
            "width": 480
           },
           "medium": {
            "height": 180,
            "url": "https://i.ytimg.com/vi/NFlsRD_ogts/mqdefault.jpg",
            "width": 320
           }
          },
          "title": "Donut with Sugar, Why You&#39;ll Never Want Plain Donuts Again"
         }
        },
        {
         "etag": "wXM1x4rx824Ji8dmO2VqEhJPfoc",
         "id": {
          "kind": "youtube#video",
          "videoId": "_WgsQuCr39c"
         },
         "kind": "youtube#searchResult",
         "snippet": {
          "channelId": "UCt9QmBpmrwdkfAyrlZk7t1w",
          "channelTitle": "Anelyse Martins",
          "description": "Hoje eu vou te ensinar a fazer Mini Cake Donuts, o produto que é a febre do momento. Eles são super fáceis de fazer, deliciosos, ...",
          "liveBroadcastContent": "none",
          "publishTime": "2024-03-12T21:00:23Z",
          "publishedAt": "2024-03-12T21:00:23Z",
          "thumbnails": {
           "default": {
            "height": 90,
            "url": "https://i.ytimg.com/vi/_WgsQuCr39c/default.jpg",
            "width": 120
           },
           "high": {
            "height": 360,
            "url": "https://i.ytimg.com/vi/_WgsQuCr39c/hqdefault.jpg",
            "width": 480
           },
           "medium": {
            "height": 180,
            "url": "https://i.ytimg.com/vi/_WgsQuCr39c/mqdefault.jpg",
            "width": 320
           }
          },
          "title": "ESSE MINI CAKE DONUT CUSTA MENOS DE R$0,20! | Fofinhos, deliciosos e muito econômicos!"
         }
        },
        {
         "etag": "YwRKgrByQMxkSQS6pot_H8Jmvgg",
         "id": {
          "kind": "youtube#video",
          "videoId": "26Qb_dYPLI8"
         },
         "kind": "youtube#searchResult",
         "snippet": {
          "channelId": "UC0-PxLev0aapBd3XH5IxgGw",
          "channelTitle": "Shukar Foods",
          "description": "Chicken Donut Recipe | Crispy Chicken Donuts | Chicken Nuggets Recipe | Ramadan Special Recipe by Shukar Foods.",
          "liveBroadcastContent": "none",
          "publishTime": "2024-03-09T06:00:01Z",
          "publishedAt": "2024-03-09T06:00:01Z",
          "thumbnails": {
           "default": {
            "height": 90,
            "url": "https://i.ytimg.com/vi/26Qb_dYPLI8/default.jpg",
            "width": 120
           },
           "high": {
            "height": 360,
            "url": "https://i.ytimg.com/vi/26Qb_dYPLI8/hqdefault.jpg",
            "width": 480
           },
           "medium": {
            "height": 180,
            "url": "https://i.ytimg.com/vi/26Qb_dYPLI8/mqdefault.jpg",
            "width": 320
           }
          },
          "title": "Chicken Donut Recipe | Crispy Chicken Donuts | Chicken Nuggets Recipe | Ramadan Special Recipe"
         }
        },
        {
         "etag": "lG1pEueW8x6SevRPIywikb6ARwo",
         "id": {
          "kind": "youtube#video",
          "videoId": "QbrsIJTE4vc"
         },
         "kind": "youtube#searchResult",
         "snippet": {
          "channelId": "UCpk27jP_zLO23Rct5jvsiKg",
          "channelTitle": "Tika Recipes",
          "description": "Subtitles are available in all languages! Please enable subtitles translated into your language! On mobile, tap \"CC\" in the top right ...",
          "liveBroadcastContent": "none",
          "publishTime": "2024-02-29T12:00:31Z",
          "publishedAt": "2024-02-29T12:00:31Z",
          "thumbnails": {
           "default": {
            "height": 90,
            "url": "https://i.ytimg.com/vi/QbrsIJTE4vc/default.jpg",
            "width": 120
           },
           "high": {
            "height": 360,
            "url": "https://i.ytimg.com/vi/QbrsIJTE4vc/hqdefault.jpg",
            "width": 480
           },
           "medium": {
            "height": 180,
            "url": "https://i.ytimg.com/vi/QbrsIJTE4vc/mqdefault.jpg",
            "width": 320
           }
          },
          "title": "NO KNEAD ! EASY &amp; QUICK Homemade Donut Recipe !  Extremely SOFT &amp; FLUFFY donuts for days"
         }
        },
        {
         "etag": "Fz_3O3XSQUA7836E5IiWM3slM6o",
         "id": {
          "kind": "youtube#video",
          "videoId": "ELOGVMSx4WE"
         },
         "kind": "youtube#searchResult",
         "snippet": {
          "channelId": "UCkb9XmlItH-TNGSAYeMOdsQ",
          "channelTitle": "yummyteller",
          "description": "hello everyone this is a channel for easy home cooking and baking. let's connect! in this video i want to share to you how i make ...",
          "liveBroadcastContent": "none",
          "publishTime": "2024-02-29T11:30:12Z",
          "publishedAt": "2024-02-29T11:30:12Z",
          "thumbnails": {
           "default": {
            "height": 90,
            "url": "https://i.ytimg.com/vi/ELOGVMSx4WE/default.jpg",
            "width": 120
           },
           "high": {
            "height": 360,
            "url": "https://i.ytimg.com/vi/ELOGVMSx4WE/hqdefault.jpg",
            "width": 480
           },
           "medium": {
            "height": 180,
            "url": "https://i.ytimg.com/vi/ELOGVMSx4WE/mqdefault.jpg",
            "width": 320
           }
          },
          "title": "BEST HOMEMADE DONUT RECIPE | SUPER FLUFFY"
         }
        },
        {
         "etag": "ybZwQDuBhvxCyD7jnMl_s_f7vlw",
         "id": {
          "kind": "youtube#video",
          "videoId": "sIrC3_NErp8"
         },
         "kind": "youtube#searchResult",
         "snippet": {
          "channelId": "UC3ni-FDzRhG3r6bbHFGYSIw",
          "channelTitle": "BEFORE YOU TRY ",
          "description": "Welcome to Before You Try and I'm Sushant. Get ready for the greatest donut experience you'll ever have at home. In this video of ...",
          "liveBroadcastContent": "none",
          "publishTime": "2024-02-28T14:25:13Z",
          "publishedAt": "2024-02-28T14:25:13Z",
          "thumbnails": {
           "default": {
            "height": 90,
            "url": "https://i.ytimg.com/vi/sIrC3_NErp8/default.jpg",
            "width": 120
           },
           "high": {
            "height": 360,
            "url": "https://i.ytimg.com/vi/sIrC3_NErp8/hqdefault.jpg",
            "width": 480
           },
           "medium": {
            "height": 180,
            "url": "https://i.ytimg.com/vi/sIrC3_NErp8/mqdefault.jpg",
            "width": 320
           }
          },
          "title": "Nepali Donut Recipe | How To make Nepali Donut At Home | Nepali Style Doughnut | डाेनट"
         }
        },
        {
         "etag": "qXBsAKSThrw4EiF_kCQflLDB4-I",
         "id": {
          "kind": "youtube#video",
          "videoId": "NmbMYkkGYUU"
         },
         "kind": "youtube#searchResult",
         "snippet": {
          "channelId": "UCpfCtIpypVRjQHsU0vyw_ew",
          "channelTitle": "Glory HomeMaker",
          "description": "Hello beautiful people, we are here with a video on how to make the best of homemade donuts/doughnuts. These donuts tastes ...",
          "liveBroadcastContent": "none",
          "publishTime": "2024-02-27T18:30:17Z",
          "publishedAt": "2024-02-27T18:30:17Z",
          "thumbnails": {
           "default": {
            "height": 90,
            "url": "https://i.ytimg.com/vi/NmbMYkkGYUU/default.jpg",
            "width": 120
           },
           "high": {
            "height": 360,
            "url": "https://i.ytimg.com/vi/NmbMYkkGYUU/hqdefault.jpg",
            "width": 480
           },
           "medium": {
            "height": 180,
            "url": "https://i.ytimg.com/vi/NmbMYkkGYUU/mqdefault.jpg",
            "width": 320
           }
          },
          "title": "How To Make Bulk Perfect Shape Donuts | No Donut Cutter | Glazed &amp; Jam Doughnuts | Glory Homemaker"
         }
        },
        {
         "etag": "glgiajyu_8uGdlz0yfV_4tKvQfk",
         "id": {
          "kind": "youtube#video",
          "videoId": "DbL2q9O7klA"
         },
         "kind": "youtube#searchResult",
         "snippet": {
          "channelId": "UCSWhJgF5-ak05LcoI7E-x9Q",
          "channelTitle": "Ice and spice Recipes ",
          "description": "chicken donuts,chicken donuts recipe,chicken,chicken donut,chicken recipe,chicken doughnuts,crispy chicken donuts,chicken ...",
          "liveBroadcastContent": "none",
          "publishTime": "2024-02-23T02:00:06Z",
          "publishedAt": "2024-02-23T02:00:06Z",
          "thumbnails": {
           "default": {
            "height": 90,
            "url": "https://i.ytimg.com/vi/DbL2q9O7klA/default.jpg",
            "width": 120
           },
           "high": {
            "height": 360,
            "url": "https://i.ytimg.com/vi/DbL2q9O7klA/hqdefault.jpg",
            "width": 480
           },
           "medium": {
            "height": 180,
            "url": "https://i.ytimg.com/vi/DbL2q9O7klA/mqdefault.jpg",
            "width": 320
           }
          },
          "title": "Ramadan special 🌙 chicken donuts | chicken donuts recipe | chicken donut | chicken recipe"
         }
        },
        {
         "etag": "HMXtSBK931kLTN7Xl3ZfMxjyMwg",
         "id": {
          "kind": "youtube#video",
          "videoId": "Cf8eVjXyQZo"
         },
         "kind": "youtube#searchResult",
         "snippet": {
          "channelId": "UCpk27jP_zLO23Rct5jvsiKg",
          "channelTitle": "Tika Recipes",
          "description": "Please enable subtitles translated into your language! On mobile, tap \"CC\" in the top right corner of the video. On your computer ...",
          "liveBroadcastContent": "none",
          "publishTime": "2024-02-19T12:00:08Z",
          "publishedAt": "2024-02-19T12:00:08Z",
          "thumbnails": {
           "default": {
            "height": 90,
            "url": "https://i.ytimg.com/vi/Cf8eVjXyQZo/default.jpg",
            "width": 120
           },
           "high": {
            "height": 360,
            "url": "https://i.ytimg.com/vi/Cf8eVjXyQZo/hqdefault.jpg",
            "width": 480
           },
           "medium": {
            "height": 180,
            "url": "https://i.ytimg.com/vi/Cf8eVjXyQZo/mqdefault.jpg",
            "width": 320
           }
          },
          "title": "EASY &amp; QUICK Donut Recipe with 4 Ingredients Only! Extremely soft &amp; fluffy donuts without eggs/mixer"
         }
        },
        {
         "etag": "jBN0sed4gy0rfS4cwhDrxk60oCc",
         "id": {
          "kind": "youtube#video",
          "videoId": "S7VTmRiXYEM"
         },
         "kind": "youtube#searchResult",
         "snippet": {
          "channelId": "UCCgZbqmP7rUl5ZwHORA56Kg",
          "channelTitle": "Eli Cooking",
          "description": "Only eggs & DONUT ! Delicious Eggs and Bagel DONUT Recipe! The Best 5 Minute Breakfast Recipe! Hello everyone Today I ...",
          "liveBroadcastContent": "none",
          "publishTime": "2024-02-18T18:26:45Z",
          "publishedAt": "2024-02-18T18:26:45Z",
          "thumbnails": {
           "default": {
            "height": 90,
            "url": "https://i.ytimg.com/vi/S7VTmRiXYEM/default.jpg",
            "width": 120
           },
           "high": {
            "height": 360,
            "url": "https://i.ytimg.com/vi/S7VTmRiXYEM/hqdefault.jpg",
            "width": 480
           },
           "medium": {
            "height": 180,
            "url": "https://i.ytimg.com/vi/S7VTmRiXYEM/mqdefault.jpg",
            "width": 320
           }
          },
          "title": "Only Eggs &amp; DONUT ! Delicious Eggs and Bagel  DONUT Recipe! The Best 5 Minute Breakfast Recipe!"
         }
        },
        {
         "etag": "fQeEnCWERmz1gCd3PJHYGdrVwew",
         "id": {
          "kind": "youtube#video",
          "videoId": "d1jYP_6l2LE"
         },
         "kind": "youtube#searchResult",
         "snippet": {
          "channelId": "UCKM1vTSoITm1WW3VDis-Kvg",
          "channelTitle": "Elijah' Recipes ",
          "description": "HOWTOmakeglazeddonutslikeKRISPYKREMEathome(but Cheaper!) #Easykrispykremedonutrecipe #Krispykremedonutrecipe ...",
          "liveBroadcastContent": "none",
          "publishTime": "2024-02-17T15:45:25Z",
          "publishedAt": "2024-02-17T15:45:25Z",
          "thumbnails": {
           "default": {
            "height": 90,
            "url": "https://i.ytimg.com/vi/d1jYP_6l2LE/default.jpg",
            "width": 120
           },
           "high": {
            "height": 360,
            "url": "https://i.ytimg.com/vi/d1jYP_6l2LE/hqdefault.jpg",
            "width": 480
           },
           "medium": {
            "height": 180,
            "url": "https://i.ytimg.com/vi/d1jYP_6l2LE/mqdefault.jpg",
            "width": 320
           }
          },
          "title": "UNBELIEVEABLE: This Donut Recipe Will CHANGE Everything"
         }
        },
        {
         "etag": "OKJJsBI-eZTJW6ijIjv2pyqpWzE",
         "id": {
          "kind": "youtube#video",
          "videoId": "nprfmzmXeto"
         },
         "kind": "youtube#searchResult",
         "snippet": {
          "channelId": "UCpk27jP_zLO23Rct5jvsiKg",
          "channelTitle": "Tika Recipes",
          "description": "Please enable subtitles translated into your language! Tips: • Bread flour is a high-protein flour which produces more gluten.",
          "liveBroadcastContent": "none",
          "publishTime": "2024-02-14T11:30:07Z",
          "publishedAt": "2024-02-14T11:30:07Z",
          "thumbnails": {
           "default": {
            "height": 90,
            "url": "https://i.ytimg.com/vi/nprfmzmXeto/default.jpg",
            "width": 120
           },
           "high": {
            "height": 360,
            "url": "https://i.ytimg.com/vi/nprfmzmXeto/hqdefault.jpg",
            "width": 480
           },
           "medium": {
            "height": 180,
            "url": "https://i.ytimg.com/vi/nprfmzmXeto/mqdefault.jpg",
            "width": 320
           }
          },
          "title": "No - Knead. QUICK &amp; EASY Donut Recipe . The softest donuts I have ever made. Homemade Donuts"
         }
        },
        {
         "etag": "JxRYCBSMsI6M68mE2cBzagn31JU",
         "id": {
          "kind": "youtube#video",
          "videoId": "u9TJ_C0gavA"
         },
         "kind": "youtube#searchResult",
         "snippet": {
          "channelId": "UCpk27jP_zLO23Rct5jvsiKg",
          "channelTitle": "Tika Recipes",
          "description": "Please enable subtitles translated into your language! On mobile, tap \"CC\" in the top right corner of the video. On your computer ...",
          "liveBroadcastContent": "none",
          "publishTime": "2024-02-12T12:00:45Z",
          "publishedAt": "2024-02-12T12:00:45Z",
          "thumbnails": {
           "default": {
            "height": 90,
            "url": "https://i.ytimg.com/vi/u9TJ_C0gavA/default.jpg",
            "width": 120
           },
           "high": {
            "height": 360,
            "url": "https://i.ytimg.com/vi/u9TJ_C0gavA/hqdefault.jpg",
            "width": 480
           },
           "medium": {
            "height": 180,
            "url": "https://i.ytimg.com/vi/u9TJ_C0gavA/mqdefault.jpg",
            "width": 320
           }
          },
          "title": "Make Donuts Easily at home !! Extremely Soft Donut Recipe without Eggs, Milk &amp; Butter"
         }
        },
        {
         "etag": "OSoAU6EXoX9ZWw4Y8NYyrwP2K-I",
         "id": {
          "kind": "youtube#video",
          "videoId": "lbZHqkKJeVU"
         },
         "kind": "youtube#searchResult",
         "snippet": {
          "channelId": "UCpk27jP_zLO23Rct5jvsiKg",
          "channelTitle": "Tika Recipes",
          "description": "Please Enable Subtitles translated into your language! On your mobile, tap \"CC\" in the top right corner of the video. On your ...",
          "liveBroadcastContent": "none",
          "publishTime": "2024-02-01T12:00:44Z",
          "publishedAt": "2024-02-01T12:00:44Z",
          "thumbnails": {
           "default": {
            "height": 90,
            "url": "https://i.ytimg.com/vi/lbZHqkKJeVU/default.jpg",
            "width": 120
           },
           "high": {
            "height": 360,
            "url": "https://i.ytimg.com/vi/lbZHqkKJeVU/hqdefault.jpg",
            "width": 480
           },
           "medium": {
            "height": 180,
            "url": "https://i.ytimg.com/vi/lbZHqkKJeVU/mqdefault.jpg",
            "width": 320
           }
          },
          "title": "EASY &amp; QUICK HOMEMADE Donut Recipe . THE BEST SOFT Eggless DONUTS ! No Milk, No Butter, No Oil"
         }
        },
        {
         "etag": "DqM_bpLsY02sFQ7EyoiuH7CcdL8",
         "id": {
          "kind": "youtube#video",
          "videoId": "IZeFX9KZVg4"
         },
         "kind": "youtube#searchResult",
         "snippet": {
          "channelId": "UCkb9XmlItH-TNGSAYeMOdsQ",
          "channelTitle": "yummyteller",
          "description": "hello everyone this is a channel for easy home cooking and baking. let's connect! here is the full recipe: 250 Grams of flour 40 ...",
          "liveBroadcastContent": "none",
          "publishTime": "2024-01-30T12:08:15Z",
          "publishedAt": "2024-01-30T12:08:15Z",
          "thumbnails": {
           "default": {
            "height": 90,
            "url": "https://i.ytimg.com/vi/IZeFX9KZVg4/default.jpg",
            "width": 120
           },
           "high": {
            "height": 360,
            "url": "https://i.ytimg.com/vi/IZeFX9KZVg4/hqdefault.jpg",
            "width": 480
           },
           "medium": {
            "height": 180,
            "url": "https://i.ytimg.com/vi/IZeFX9KZVg4/mqdefault.jpg",
            "width": 320
           }
          },
          "title": "SOFT | HOMEMADE DONUT RECIPE"
         }
        },
        {
         "etag": "UqyhFJqT2DbwpBLk4ZhRxY4nkA8",
         "id": {
          "kind": "youtube#video",
          "videoId": "fIY72NlJJr8"
         },
         "kind": "youtube#searchResult",
         "snippet": {
          "channelId": "UCpk27jP_zLO23Rct5jvsiKg",
          "channelTitle": "Tika Recipes",
          "description": "The easiest & fastest donut recipe ever! Extremely soft and fluffy lasts for days. No eggs, No milk Please enable subtitles ...",
          "liveBroadcastContent": "none",
          "publishTime": "2024-01-22T12:00:37Z",
          "publishedAt": "2024-01-22T12:00:37Z",
          "thumbnails": {
           "default": {
            "height": 90,
            "url": "https://i.ytimg.com/vi/fIY72NlJJr8/default.jpg",
            "width": 120
           },
           "high": {
            "height": 360,
            "url": "https://i.ytimg.com/vi/fIY72NlJJr8/hqdefault.jpg",
            "width": 480
           },
           "medium": {
            "height": 180,
            "url": "https://i.ytimg.com/vi/fIY72NlJJr8/mqdefault.jpg",
            "width": 320
           }
          },
          "title": "The EASIEST &amp; FASTEST Donut Recipe Ever! Extremely Soft and Fluffy lasts for days. No Eggs, No Milk"
         }
        },
        {
         "etag": "uLW7SS0RiHp5JeXvRv5UFMKr8_E",
         "id": {
          "kind": "youtube#video",
          "videoId": "d6uAg8W93XI"
         },
         "kind": "youtube#searchResult",
         "snippet": {
          "channelId": "UCkb9XmlItH-TNGSAYeMOdsQ",
          "channelTitle": "yummyteller",
          "description": "hello everyone this is a channel for easy home cooking and baking. let's connect! in this video i want to share to you 4 ideas of soft ...",
          "liveBroadcastContent": "none",
          "publishTime": "2024-01-21T21:09:35Z",
          "publishedAt": "2024-01-21T21:09:35Z",
          "thumbnails": {
           "default": {
            "height": 90,
            "url": "https://i.ytimg.com/vi/d6uAg8W93XI/default.jpg",
            "width": 120
           },
           "high": {
            "height": 360,
            "url": "https://i.ytimg.com/vi/d6uAg8W93XI/hqdefault.jpg",
            "width": 480
           },
           "medium": {
            "height": 180,
            "url": "https://i.ytimg.com/vi/d6uAg8W93XI/mqdefault.jpg",
            "width": 320
           }
          },
          "title": "4 recipes soft DONUT. easy and delicious!"
         }
        },
        {
         "etag": "Yw2-ZZfr8ytTsRazKMzQ9jc58oE",
         "id": {
          "kind": "youtube#video",
          "videoId": "sG7Yswf_PFs"
         },
         "kind": "youtube#searchResult",
         "snippet": {
          "channelId": "UCNy26s9NDvONWLbUZLrBNMA",
          "channelTitle": "Die Aus Finnland",
          "description": "Hallo du, entdecke mit mir ein einfaches und leckeres Rezept für Bananendonuts! Verwende reife Bananen, um diesen luftigen ...",
          "liveBroadcastContent": "none",
          "publishTime": "2024-01-04T15:40:00Z",
          "publishedAt": "2024-01-04T15:40:00Z",
          "thumbnails": {
           "default": {
            "height": 90,
            "url": "https://i.ytimg.com/vi/sG7Yswf_PFs/default.jpg",
            "width": 120
           },
           "high": {
            "height": 360,
            "url": "https://i.ytimg.com/vi/sG7Yswf_PFs/hqdefault.jpg",
            "width": 480
           },
           "medium": {
            "height": 180,
            "url": "https://i.ytimg.com/vi/sG7Yswf_PFs/mqdefault.jpg",
            "width": 320
           }
          },
          "title": "Luftig, fluffig, lecker: Verwerte reife Bananen mit diesem köstlichen Donut-Rezept!"
         }
        }
       ],
       "kind": "youtube#searchListResponse",
       "nextPageToken": "CDIQAA",
       "pageInfo": {
        "resultsPerPage": 50,
        "totalResults": 1000000
       },
       "regionCode": "TW"
      },
      "text/plain": [
       "<IPython.core.display.JSON object>"
      ]
     },
     "execution_count": 10,
     "metadata": {
      "application/json": {
       "expanded": false,
       "root": "root"
      }
     },
     "output_type": "execute_result"
    }
   ],
   "source": [
    "request = youtube.search().list(part = 'snippet',\n",
    "                                    order = 'date',\n",
    "                                    q = \"donut recipes\",\n",
    "                                    relevanceLanguage = 'en',\n",
    "                                    type = 'video',\n",
    "                                    videoCategoryId = 26,\n",
    "                                    maxResults=50,\n",
    "                                    # regionCode = 'IN',\n",
    "                                    videoCaption = 'closedCaption',\n",
    "                                    publishedAfter = '2009-01-01T00:00:00Z',\n",
    "                                    publishedBefore = '2024-12-31T00:00:00Z')\n",
    "response = request.execute()\n",
    "JSON(response)"
   ]
  },
  {
   "cell_type": "code",
   "execution_count": 11,
   "id": "1667cb74",
   "metadata": {
    "execution": {
     "iopub.execute_input": "2025-01-19T08:52:03.924688Z",
     "iopub.status.busy": "2025-01-19T08:52:03.924356Z",
     "iopub.status.idle": "2025-01-19T08:52:03.931302Z",
     "shell.execute_reply": "2025-01-19T08:52:03.930336Z"
    },
    "papermill": {
     "duration": 0.026929,
     "end_time": "2025-01-19T08:52:03.934295",
     "exception": false,
     "start_time": "2025-01-19T08:52:03.907366",
     "status": "completed"
    },
    "tags": []
   },
   "outputs": [
    {
     "name": "stdout",
     "output_type": "stream",
     "text": [
      "{'kind': 'youtube#searchListResponse', 'etag': 'QcvqfOHyI2jTmldpShnZOTon9Q4', 'nextPageToken': 'CDIQAA', 'regionCode': 'TW', 'pageInfo': {'totalResults': 1000000, 'resultsPerPage': 50}, 'items': [{'kind': 'youtube#searchResult', 'etag': '4RbPRvdgkJGP-AM05IBsDZp0Q9U', 'id': {'kind': 'youtube#video', 'videoId': 'aL213kqeVJ8'}, 'snippet': {'publishedAt': '2024-12-24T12:03:33Z', 'channelId': 'UCQ5eWCiIqR92C34IDEpDgUQ', 'title': 'Donut Recipe | टेस्टी डोनट बनविण्याची एकदम परफेक्ट व सोपी पद्धत | Donuts | Christmas Special Recipes', 'description': 'Donut Recipe | टेस्टी डोनट बनविण्याची एकदम परफेक्ट व सोपी पद्धत | Donuts ...', 'thumbnails': {'default': {'url': 'https://i.ytimg.com/vi/aL213kqeVJ8/default.jpg', 'width': 120, 'height': 90}, 'medium': {'url': 'https://i.ytimg.com/vi/aL213kqeVJ8/mqdefault.jpg', 'width': 320, 'height': 180}, 'high': {'url': 'https://i.ytimg.com/vi/aL213kqeVJ8/hqdefault.jpg', 'width': 480, 'height': 360}}, 'channelTitle': \"Priya's Tasty Recipes\", 'liveBroadcastContent': 'none', 'publishTime': '2024-12-24T12:03:33Z'}}, {'kind': 'youtube#searchResult', 'etag': 'WLgavFuqTe2Cl4X-nMaX2GIwwbA', 'id': {'kind': 'youtube#video', 'videoId': 'uCnqQonmy2Y'}, 'snippet': {'publishedAt': '2024-11-21T14:45:05Z', 'channelId': 'UCh9LJ7O41Ze8xVWnfhuenIQ', 'title': 'Apple Cider Rice Krispies Treats recipe - apple cider donut flavored', 'description': '[captions ON for commentary] Blog: ...', 'thumbnails': {'default': {'url': 'https://i.ytimg.com/vi/uCnqQonmy2Y/default.jpg', 'width': 120, 'height': 90}, 'medium': {'url': 'https://i.ytimg.com/vi/uCnqQonmy2Y/mqdefault.jpg', 'width': 320, 'height': 180}, 'high': {'url': 'https://i.ytimg.com/vi/uCnqQonmy2Y/hqdefault.jpg', 'width': 480, 'height': 360}}, 'channelTitle': 'joshuacooksthendraws', 'liveBroadcastContent': 'none', 'publishTime': '2024-11-21T14:45:05Z'}}, {'kind': 'youtube#searchResult', 'etag': 'y1zJyi8hsAabaoUF7z_yj9W98PI', 'id': {'kind': 'youtube#video', 'videoId': '3I3J6FkKYD0'}, 'snippet': {'publishedAt': '2024-10-22T12:47:19Z', 'channelId': 'UCEtYNg_QwDUuJVHqw4iI0yw', 'title': 'Eggless Donuts ❤️ | Chocolate Donut Recipe | Soft And Fluffy', 'description': 'Eggless Donuts ❤️ | Chocolate Donut Recipe | Soft And Fluffy #trending #donuts #chocolatedonutrecipe #softandfluffy ...', 'thumbnails': {'default': {'url': 'https://i.ytimg.com/vi/3I3J6FkKYD0/default.jpg', 'width': 120, 'height': 90}, 'medium': {'url': 'https://i.ytimg.com/vi/3I3J6FkKYD0/mqdefault.jpg', 'width': 320, 'height': 180}, 'high': {'url': 'https://i.ytimg.com/vi/3I3J6FkKYD0/hqdefault.jpg', 'width': 480, 'height': 360}}, 'channelTitle': \"Vandana's_kitchen\", 'liveBroadcastContent': 'none', 'publishTime': '2024-10-22T12:47:19Z'}}, {'kind': 'youtube#searchResult', 'etag': 'Wqdg4yjcMk2kPFfVVKmzIzKnWbI', 'id': {'kind': 'youtube#video', 'videoId': 'O_KH0RFneHg'}, 'snippet': {'publishedAt': '2024-10-19T13:30:13Z', 'channelId': 'UCUsQpPbLhEfQ-602v2Vwy1A', 'title': 'These mini CHOCOLATE CAKES will impress everyone: Chocolate Donut Cakes', 'description': 'Chocolate donut mini cakes. These baked donuts are soft and filled with a creamy buttercream made with sweetened condensed ...', 'thumbnails': {'default': {'url': 'https://i.ytimg.com/vi/O_KH0RFneHg/default.jpg', 'width': 120, 'height': 90}, 'medium': {'url': 'https://i.ytimg.com/vi/O_KH0RFneHg/mqdefault.jpg', 'width': 320, 'height': 180}, 'high': {'url': 'https://i.ytimg.com/vi/O_KH0RFneHg/hqdefault.jpg', 'width': 480, 'height': 360}}, 'channelTitle': 'Baking Cherry', 'liveBroadcastContent': 'none', 'publishTime': '2024-10-19T13:30:13Z'}}, {'kind': 'youtube#searchResult', 'etag': 'd8tZx6AbjpJ6JeNRXt7Xe4SlTBU', 'id': {'kind': 'youtube#video', 'videoId': 'W3EF2Kpt58g'}, 'snippet': {'publishedAt': '2024-10-19T12:00:42Z', 'channelId': 'UCVUF0t5IqFG8kc5N51SOFgw', 'title': 'Delicious Potato and Cheese Egg Donut recipe - When you have 3 potatoes', 'description': 'Simple, cheap and delicious! Do you have 3 potatoes? Try this cheese potato donuts recipe, perfect for breakfast! Just grate ...', 'thumbnails': {'default': {'url': 'https://i.ytimg.com/vi/W3EF2Kpt58g/default.jpg', 'width': 120, 'height': 90}, 'medium': {'url': 'https://i.ytimg.com/vi/W3EF2Kpt58g/mqdefault.jpg', 'width': 320, 'height': 180}, 'high': {'url': 'https://i.ytimg.com/vi/W3EF2Kpt58g/hqdefault.jpg', 'width': 480, 'height': 360}}, 'channelTitle': \"Omme's Kitchen\", 'liveBroadcastContent': 'none', 'publishTime': '2024-10-19T12:00:42Z'}}, {'kind': 'youtube#searchResult', 'etag': '8UmiPnRSWDeaYJlwm6If1-Uqlw4', 'id': {'kind': 'youtube#video', 'videoId': 'ZCUIMUSU5Ac'}, 'snippet': {'publishedAt': '2024-10-08T14:36:19Z', 'channelId': 'UC1W1Ky1j9_ruBnaKgeou9nQ', 'title': 'Quick and Easy Fried DONUT HOLES | 🍓👩\\u200d🍳✨ Yumeiro Patissiere Recipe', 'description': \"Turn on CC ♡⟡⋆˙ ♡ Hello everyone! ♡ In today's video, we are going to recreate Ichigo Amano's donut holes ଘ(੭ˊᵕˋ)੭* ...\", 'thumbnails': {'default': {'url': 'https://i.ytimg.com/vi/ZCUIMUSU5Ac/default.jpg', 'width': 120, 'height': 90}, 'medium': {'url': 'https://i.ytimg.com/vi/ZCUIMUSU5Ac/mqdefault.jpg', 'width': 320, 'height': 180}, 'high': {'url': 'https://i.ytimg.com/vi/ZCUIMUSU5Ac/hqdefault.jpg', 'width': 480, 'height': 360}}, 'channelTitle': 'Nana Pastries', 'liveBroadcastContent': 'none', 'publishTime': '2024-10-08T14:36:19Z'}}, {'kind': 'youtube#searchResult', 'etag': 'NO4ffzcBkKv770XwEAUsRYwtMWI', 'id': {'kind': 'youtube#video', 'videoId': 'A0U8gCdpkHU'}, 'snippet': {'publishedAt': '2024-09-29T12:57:47Z', 'channelId': 'UCvjvewCJspsQf5c2dgyIcIA', 'title': 'How to make Donut| Homemade Donut Recipe/ Famous Donuts recipe #noreenmustafakitchan', 'description': 'dount #dounts #recipe #snacks #pakistanirecipe #pakistani asslam o alaikum dosto aaj me ap k lye laye hun donuts recipe ...', 'thumbnails': {'default': {'url': 'https://i.ytimg.com/vi/A0U8gCdpkHU/default.jpg', 'width': 120, 'height': 90}, 'medium': {'url': 'https://i.ytimg.com/vi/A0U8gCdpkHU/mqdefault.jpg', 'width': 320, 'height': 180}, 'high': {'url': 'https://i.ytimg.com/vi/A0U8gCdpkHU/hqdefault.jpg', 'width': 480, 'height': 360}}, 'channelTitle': 'Noreen Mustafa kitchen 4M. ', 'liveBroadcastContent': 'none', 'publishTime': '2024-09-29T12:57:47Z'}}, {'kind': 'youtube#searchResult', 'etag': '5yUhsKuC4SXJStWFqnXdXbX3xAQ', 'id': {'kind': 'youtube#video', 'videoId': '-EFIxyT35aM'}, 'snippet': {'publishedAt': '2024-09-07T09:31:24Z', 'channelId': 'UCtA25Izb-Lyzwp-TTAMYIPQ', 'title': 'EASY 4-Ingredient Donut Recipe in Minutes | No Yeast Required!', 'description': 'donuts #sweet #desert \"Donuts khanay ka mann hai lekin waqt kam hai? Fikar ki koi baat nahi! Is video mein hum aapko 4 ...', 'thumbnails': {'default': {'url': 'https://i.ytimg.com/vi/-EFIxyT35aM/default.jpg', 'width': 120, 'height': 90}, 'medium': {'url': 'https://i.ytimg.com/vi/-EFIxyT35aM/mqdefault.jpg', 'width': 320, 'height': 180}, 'high': {'url': 'https://i.ytimg.com/vi/-EFIxyT35aM/hqdefault.jpg', 'width': 480, 'height': 360}}, 'channelTitle': 'Maira Kitchen', 'liveBroadcastContent': 'none', 'publishTime': '2024-09-07T09:31:24Z'}}, {'kind': 'youtube#searchResult', 'etag': 'R3yMyuBQdbbFEDcVM5B95zKkafM', 'id': {'kind': 'youtube#video', 'videoId': 'iYZ3FamKe80'}, 'snippet': {'publishedAt': '2024-09-07T09:30:58Z', 'channelId': 'UCtA25Izb-Lyzwp-TTAMYIPQ', 'title': 'EASY 4-Ingredient Donut Recipe in Minutes | No Yeast Required!', 'description': 'donuts #sweet #desert \"Donuts khanay ka mann hai lekin waqt kam hai? Fikar ki koi baat nahi! Is video mein hum aapko 4 ...', 'thumbnails': {'default': {'url': 'https://i.ytimg.com/vi/iYZ3FamKe80/default.jpg', 'width': 120, 'height': 90}, 'medium': {'url': 'https://i.ytimg.com/vi/iYZ3FamKe80/mqdefault.jpg', 'width': 320, 'height': 180}, 'high': {'url': 'https://i.ytimg.com/vi/iYZ3FamKe80/hqdefault.jpg', 'width': 480, 'height': 360}}, 'channelTitle': 'Maira Kitchen', 'liveBroadcastContent': 'none', 'publishTime': '2024-09-07T09:30:58Z'}}, {'kind': 'youtube#searchResult', 'etag': 'Fa0hLM0m3VlRwPnoRmDzs2BZzFY', 'id': {'kind': 'youtube#video', 'videoId': 'BTtY-0vAqYw'}, 'snippet': {'publishedAt': '2024-09-07T08:00:39Z', 'channelId': 'UC0PsSWbhLa0TAQJLwERWorg', 'title': 'Cinnamon Donuts Recipe | How to Make Cinnamon Donut Holes | Mini Donuts Recipe | Infoods', 'description': 'Ingredients: 01. 4-5 Cups All Purpose Flour 02. 10 Grams Instant Yeast 03. 1/2 Cup Sugar 04. 1 Cup Milk 05. 1/2 tsp Salt 06.', 'thumbnails': {'default': {'url': 'https://i.ytimg.com/vi/BTtY-0vAqYw/default.jpg', 'width': 120, 'height': 90}, 'medium': {'url': 'https://i.ytimg.com/vi/BTtY-0vAqYw/mqdefault.jpg', 'width': 320, 'height': 180}, 'high': {'url': 'https://i.ytimg.com/vi/BTtY-0vAqYw/hqdefault.jpg', 'width': 480, 'height': 360}}, 'channelTitle': 'Infoods Specials', 'liveBroadcastContent': 'none', 'publishTime': '2024-09-07T08:00:39Z'}}, {'kind': 'youtube#searchResult', 'etag': 'qQ22u-fF_ONO2IEl362sJ_Y0S4A', 'id': {'kind': 'youtube#video', 'videoId': '_p2GdegDd2A'}, 'snippet': {'publishedAt': '2024-09-06T12:06:33Z', 'channelId': 'UCtA25Izb-Lyzwp-TTAMYIPQ', 'title': 'EASY 4-Ingredient Donut Recipe in Minutes | No Yeast Required!', 'description': 'donuts #sweet #desert \"Donuts khanay ka mann hai lekin waqt kam hai? Fikar ki koi baat nahi! Is video mein hum aapko 4 ...', 'thumbnails': {'default': {'url': 'https://i.ytimg.com/vi/_p2GdegDd2A/default.jpg', 'width': 120, 'height': 90}, 'medium': {'url': 'https://i.ytimg.com/vi/_p2GdegDd2A/mqdefault.jpg', 'width': 320, 'height': 180}, 'high': {'url': 'https://i.ytimg.com/vi/_p2GdegDd2A/hqdefault.jpg', 'width': 480, 'height': 360}}, 'channelTitle': 'Maira Kitchen', 'liveBroadcastContent': 'none', 'publishTime': '2024-09-06T12:06:33Z'}}, {'kind': 'youtube#searchResult', 'etag': 'uCsxbfOuw2GX6dwqn7r_TvZL7Iw', 'id': {'kind': 'youtube#video', 'videoId': '6d_9yKilC3M'}, 'snippet': {'publishedAt': '2024-08-26T20:00:06Z', 'channelId': 'UC-pjrZPeeRenFKAF3kBuZcQ', 'title': 'Homemade Jelly Donuts | Tastes Better Than Your Donut Shop!', 'description': 'Join Stephanie as she makes yummy jelly donuts from scratch! Calling all donut lovers! In this video, Stephanie walks you ...', 'thumbnails': {'default': {'url': 'https://i.ytimg.com/vi/6d_9yKilC3M/default.jpg', 'width': 120, 'height': 90}, 'medium': {'url': 'https://i.ytimg.com/vi/6d_9yKilC3M/mqdefault.jpg', 'width': 320, 'height': 180}, 'high': {'url': 'https://i.ytimg.com/vi/6d_9yKilC3M/hqdefault.jpg', 'width': 480, 'height': 360}}, 'channelTitle': 'The Baking Journal', 'liveBroadcastContent': 'none', 'publishTime': '2024-08-26T20:00:06Z'}}, {'kind': 'youtube#searchResult', 'etag': 'QraEONn9fmISC760IOU4i8fILxI', 'id': {'kind': 'youtube#video', 'videoId': 'LF1DNaU9-J0'}, 'snippet': {'publishedAt': '2024-08-25T12:00:17Z', 'channelId': 'UCpXWnrKhGYWD6Jy4HxE0zBw', 'title': 'Crispy Donut | 脆皮甜甜圈', 'description': \"Introducing my latest recipe, the crispy donut. I'm sure everyone tried donut with cream, sugar or chocolate coating before.\", 'thumbnails': {'default': {'url': 'https://i.ytimg.com/vi/LF1DNaU9-J0/default.jpg', 'width': 120, 'height': 90}, 'medium': {'url': 'https://i.ytimg.com/vi/LF1DNaU9-J0/mqdefault.jpg', 'width': 320, 'height': 180}, 'high': {'url': 'https://i.ytimg.com/vi/LF1DNaU9-J0/hqdefault.jpg', 'width': 480, 'height': 360}}, 'channelTitle': 'Autumn Kitchen', 'liveBroadcastContent': 'none', 'publishTime': '2024-08-25T12:00:17Z'}}, {'kind': 'youtube#searchResult', 'etag': 'Fd788_7qKJ9LSEckyEsNgbY0WhM', 'id': {'kind': 'youtube#video', 'videoId': 'LIUrInHaeUM'}, 'snippet': {'publishedAt': '2024-08-17T07:17:13Z', 'channelId': 'UCWqeywz7IQmRI2Tt9xFqnBg', 'title': 'American Classic Fluffy Donut Recipe | How to Make Chocolate Donut At Home | Donut Kaise Banaen', 'description': 'American Classic Fluffy Donut Recipe | How to Make Chocolate Donut At Home | Donut Kaise Banaen Welcome to my cooking ...', 'thumbnails': {'default': {'url': 'https://i.ytimg.com/vi/LIUrInHaeUM/default.jpg', 'width': 120, 'height': 90}, 'medium': {'url': 'https://i.ytimg.com/vi/LIUrInHaeUM/mqdefault.jpg', 'width': 320, 'height': 180}, 'high': {'url': 'https://i.ytimg.com/vi/LIUrInHaeUM/hqdefault.jpg', 'width': 480, 'height': 360}}, 'channelTitle': 'AP Foodilicious By Priyanka', 'liveBroadcastContent': 'none', 'publishTime': '2024-08-17T07:17:13Z'}}, {'kind': 'youtube#searchResult', 'etag': 'RT35HpzSdxx15zeGgb-AHsj0obI', 'id': {'kind': 'youtube#video', 'videoId': 'NR7cjwABTmY'}, 'snippet': {'publishedAt': '2024-08-12T13:30:09Z', 'channelId': 'UCOwqCgdas2ZzZTDWT1z98Lg', 'title': 'Easy DONUT HOLES from scratch - Fried and Delish!', 'description': 'The BEST Easy Donut Holes - this donut hole recipe from scratch is so good and you can coat them with glaze or cinnamon sugar!', 'thumbnails': {'default': {'url': 'https://i.ytimg.com/vi/NR7cjwABTmY/default.jpg', 'width': 120, 'height': 90}, 'medium': {'url': 'https://i.ytimg.com/vi/NR7cjwABTmY/mqdefault.jpg', 'width': 320, 'height': 180}, 'high': {'url': 'https://i.ytimg.com/vi/NR7cjwABTmY/hqdefault.jpg', 'width': 480, 'height': 360}}, 'channelTitle': 'Crazy for Crust', 'liveBroadcastContent': 'none', 'publishTime': '2024-08-12T13:30:09Z'}}, {'kind': 'youtube#searchResult', 'etag': '02uUniqOxex3G4X_uC7SBRs0V4w', 'id': {'kind': 'youtube#video', 'videoId': 'xVHZxRIyAJ8'}, 'snippet': {'publishedAt': '2024-08-12T12:01:04Z', 'channelId': 'UCpk27jP_zLO23Rct5jvsiKg', 'title': '🎉 6 donut recipes to make at home🍩! Incredibly soft  without a mixer 😘', 'description': 'Subtitles are available in all languages! Please enable subtitles translated into your language! ✨ SUBSCRIBE for more video ...', 'thumbnails': {'default': {'url': 'https://i.ytimg.com/vi/xVHZxRIyAJ8/default.jpg', 'width': 120, 'height': 90}, 'medium': {'url': 'https://i.ytimg.com/vi/xVHZxRIyAJ8/mqdefault.jpg', 'width': 320, 'height': 180}, 'high': {'url': 'https://i.ytimg.com/vi/xVHZxRIyAJ8/hqdefault.jpg', 'width': 480, 'height': 360}}, 'channelTitle': 'Tika Recipes', 'liveBroadcastContent': 'none', 'publishTime': '2024-08-12T12:01:04Z'}}, {'kind': 'youtube#searchResult', 'etag': 'E8WLty_quFmLJterNNRAX1PecDk', 'id': {'kind': 'youtube#video', 'videoId': '3wo4bnvItBg'}, 'snippet': {'publishedAt': '2024-08-08T08:53:00Z', 'channelId': 'UCCGeNT4XL_q0ENuRPR0l1fQ', 'title': 'Tanpa Cetakan Donat, Tanpa Bread Improver. Resep Dan Cara Ini Bikin Donatku Berwhite Ring Tinggi.', 'description': 'Donuts oh donuts @VinastarChannel 250 grams of bread flour (strong flour). 35 grams of sugar. 3-4 grams of yeast (if your room ...', 'thumbnails': {'default': {'url': 'https://i.ytimg.com/vi/3wo4bnvItBg/default.jpg', 'width': 120, 'height': 90}, 'medium': {'url': 'https://i.ytimg.com/vi/3wo4bnvItBg/mqdefault.jpg', 'width': 320, 'height': 180}, 'high': {'url': 'https://i.ytimg.com/vi/3wo4bnvItBg/hqdefault.jpg', 'width': 480, 'height': 360}}, 'channelTitle': 'Vinastar Channel', 'liveBroadcastContent': 'none', 'publishTime': '2024-08-08T08:53:00Z'}}, {'kind': 'youtube#searchResult', 'etag': 'CQMItp36B48MamNlRXvsph5iwAc', 'id': {'kind': 'youtube#video', 'videoId': '6TNmBCghOEQ'}, 'snippet': {'publishedAt': '2024-08-02T12:22:20Z', 'channelId': 'UCkb9XmlItH-TNGSAYeMOdsQ', 'title': 'Best DONUT recipe only 7 MINUTES kneading | don&#39;t buy donut outside make now at home!', 'description': \"hello everyone this is a channel for easy home cooking and baking. let's connect! in this video i want to share to you how i make ...\", 'thumbnails': {'default': {'url': 'https://i.ytimg.com/vi/6TNmBCghOEQ/default.jpg', 'width': 120, 'height': 90}, 'medium': {'url': 'https://i.ytimg.com/vi/6TNmBCghOEQ/mqdefault.jpg', 'width': 320, 'height': 180}, 'high': {'url': 'https://i.ytimg.com/vi/6TNmBCghOEQ/hqdefault.jpg', 'width': 480, 'height': 360}}, 'channelTitle': 'yummyteller', 'liveBroadcastContent': 'none', 'publishTime': '2024-08-02T12:22:20Z'}}, {'kind': 'youtube#searchResult', 'etag': '9FQHz4gfXlxO0yaGMCXW9o6mMrs', 'id': {'kind': 'youtube#video', 'videoId': 'TCnV6e9dd48'}, 'snippet': {'publishedAt': '2024-07-23T13:30:10Z', 'channelId': 'UCOa1xkBuhXkZenqJEBoB9eg', 'title': 'DASH Mini Donut Maker Machine for Kid-Friendly Breakfast.Shop shine channel', 'description': 'Shop shine channel. Treat yourself and your family to delightful homemade treats with the DASH Mini Donut Maker Machine!', 'thumbnails': {'default': {'url': 'https://i.ytimg.com/vi/TCnV6e9dd48/default.jpg', 'width': 120, 'height': 90}, 'medium': {'url': 'https://i.ytimg.com/vi/TCnV6e9dd48/mqdefault.jpg', 'width': 320, 'height': 180}, 'high': {'url': 'https://i.ytimg.com/vi/TCnV6e9dd48/hqdefault.jpg', 'width': 480, 'height': 360}}, 'channelTitle': 'Shop shine channel', 'liveBroadcastContent': 'none', 'publishTime': '2024-07-23T13:30:10Z'}}, {'kind': 'youtube#searchResult', 'etag': '8So2DloZvuXXkk3vlnuBjmqZ4L0', 'id': {'kind': 'youtube#video', 'videoId': 'Iftjnyzo4qI'}, 'snippet': {'publishedAt': '2024-07-22T08:35:00Z', 'channelId': 'UCUUECX4byJ9mmZjgV49AnHA', 'title': 'Chicken Donuts Recipe ❤️ | Chicken Nuggets Recipe | Doughnuts | donut', 'description': 'Chicken Donuts Recipe ❤️ | Chicken Nuggets Recipe | Doughnuts | donut @wahhchefstudio Hey Friends, Wahhchef brings you ...', 'thumbnails': {'default': {'url': 'https://i.ytimg.com/vi/Iftjnyzo4qI/default.jpg', 'width': 120, 'height': 90}, 'medium': {'url': 'https://i.ytimg.com/vi/Iftjnyzo4qI/mqdefault.jpg', 'width': 320, 'height': 180}, 'high': {'url': 'https://i.ytimg.com/vi/Iftjnyzo4qI/hqdefault.jpg', 'width': 480, 'height': 360}}, 'channelTitle': 'Wahhchef Studio', 'liveBroadcastContent': 'none', 'publishTime': '2024-07-22T08:35:00Z'}}, {'kind': 'youtube#searchResult', 'etag': 'wx9XZVLTj9zqf_sqeL1v1i7SJJQ', 'id': {'kind': 'youtube#video', 'videoId': 'uNAh-jF6ebw'}, 'snippet': {'publishedAt': '2024-07-18T15:24:39Z', 'channelId': 'UC3aeqld-XTvAmTuAWrhjusw', 'title': 'Try this innovative &amp; creative Flower Donut Recipe |Doughnut|#Trending', 'description': 'kitchenwithzam #donutrecipe #doughnut Try this innovative & creative Flower Donut Recipe|Doughnut|#Trending In this video i ...', 'thumbnails': {'default': {'url': 'https://i.ytimg.com/vi/uNAh-jF6ebw/default.jpg', 'width': 120, 'height': 90}, 'medium': {'url': 'https://i.ytimg.com/vi/uNAh-jF6ebw/mqdefault.jpg', 'width': 320, 'height': 180}, 'high': {'url': 'https://i.ytimg.com/vi/uNAh-jF6ebw/hqdefault.jpg', 'width': 480, 'height': 360}}, 'channelTitle': 'kitchen  with zam', 'liveBroadcastContent': 'none', 'publishTime': '2024-07-18T15:24:39Z'}}, {'kind': 'youtube#searchResult', 'etag': 'RHGJ1gTtAPoTE8-mXPng50RHa00', 'id': {'kind': 'youtube#video', 'videoId': '9uCPcxVIpkI'}, 'snippet': {'publishedAt': '2024-07-07T12:45:01Z', 'channelId': 'UCsGgBdQEC2Nn4HtGF0eXGoA', 'title': 'RESEP DONAT SUPER LEMBUT UNTUK IDE JUALAN', 'description': 'Yuk di simak video nya hingga selesai.. Donat Super Lembut Bahan : 200 gr Tepung Terigu Protein Tinggi 50 gr Tepung ...', 'thumbnails': {'default': {'url': 'https://i.ytimg.com/vi/9uCPcxVIpkI/default.jpg', 'width': 120, 'height': 90}, 'medium': {'url': 'https://i.ytimg.com/vi/9uCPcxVIpkI/mqdefault.jpg', 'width': 320, 'height': 180}, 'high': {'url': 'https://i.ytimg.com/vi/9uCPcxVIpkI/hqdefault.jpg', 'width': 480, 'height': 360}}, 'channelTitle': 'ningsih kangoshi', 'liveBroadcastContent': 'none', 'publishTime': '2024-07-07T12:45:01Z'}}, {'kind': 'youtube#searchResult', 'etag': 'bnkZFL5VOFk9P76t6ybPIlVFS0Q', 'id': {'kind': 'youtube#video', 'videoId': 'p0nHhHBSrlM'}, 'snippet': {'publishedAt': '2024-07-01T13:45:20Z', 'channelId': 'UC3aeqld-XTvAmTuAWrhjusw', 'title': 'Pro Chef Shares Top Donut Recipe Tips|#Trending', 'description': 'kitchenwithzam #donutrecipe #doughnutrecipe Pro Chef Shares Top Donut Recipe Tips|#Trending In this video i will tell you all ...', 'thumbnails': {'default': {'url': 'https://i.ytimg.com/vi/p0nHhHBSrlM/default.jpg', 'width': 120, 'height': 90}, 'medium': {'url': 'https://i.ytimg.com/vi/p0nHhHBSrlM/mqdefault.jpg', 'width': 320, 'height': 180}, 'high': {'url': 'https://i.ytimg.com/vi/p0nHhHBSrlM/hqdefault.jpg', 'width': 480, 'height': 360}}, 'channelTitle': 'kitchen  with zam', 'liveBroadcastContent': 'none', 'publishTime': '2024-07-01T13:45:20Z'}}, {'kind': 'youtube#searchResult', 'etag': 'UetVo0A5762MwJE5kh3tLLF7Teo', 'id': {'kind': 'youtube#video', 'videoId': '3pVk2wQoeUI'}, 'snippet': {'publishedAt': '2024-06-28T08:30:17Z', 'channelId': 'UCA34Z3lq8FozSQzDHsSLcmQ', 'title': 'Donut Recipe I Glazed Donuts I Custard Cream Doughnuts I Pankaj Bhadouria', 'description': 'Donut Recipe I Glazed Donuts I Custard Cream Doughnuts I Pankaj Bhadouria Sharing today a Donut Recipe with which you can ...', 'thumbnails': {'default': {'url': 'https://i.ytimg.com/vi/3pVk2wQoeUI/default.jpg', 'width': 120, 'height': 90}, 'medium': {'url': 'https://i.ytimg.com/vi/3pVk2wQoeUI/mqdefault.jpg', 'width': 320, 'height': 180}, 'high': {'url': 'https://i.ytimg.com/vi/3pVk2wQoeUI/hqdefault.jpg', 'width': 480, 'height': 360}}, 'channelTitle': 'MasterChef Pankaj Bhadouria', 'liveBroadcastContent': 'none', 'publishTime': '2024-06-28T08:30:17Z'}}, {'kind': 'youtube#searchResult', 'etag': 'BFDgAd-eYzDyGBnEB8f8NUM2ke0', 'id': {'kind': 'youtube#video', 'videoId': 'q-Xv8ham0Ao'}, 'snippet': {'publishedAt': '2024-05-30T18:15:02Z', 'channelId': 'UCgsVyXYeHOr9aQoTTJofPQw', 'title': 'Easy Donut Recipe || Delicious Homemade Donuts', 'description': 'Easy Donut Recipe || Delicious Homemade Donuts Thanks for watching, like and subscribe Let me know in the comments if ...', 'thumbnails': {'default': {'url': 'https://i.ytimg.com/vi/q-Xv8ham0Ao/default.jpg', 'width': 120, 'height': 90}, 'medium': {'url': 'https://i.ytimg.com/vi/q-Xv8ham0Ao/mqdefault.jpg', 'width': 320, 'height': 180}, 'high': {'url': 'https://i.ytimg.com/vi/q-Xv8ham0Ao/hqdefault.jpg', 'width': 480, 'height': 360}}, 'channelTitle': 'Momoka Home Cafe', 'liveBroadcastContent': 'none', 'publishTime': '2024-05-30T18:15:02Z'}}, {'kind': 'youtube#searchResult', 'etag': 'LLT0t4En7MOlsARqB2gNr4V2zOA', 'id': {'kind': 'youtube#video', 'videoId': 'cgHnMh0yxJk'}, 'snippet': {'publishedAt': '2024-05-07T10:25:49Z', 'channelId': 'UCkb9XmlItH-TNGSAYeMOdsQ', 'title': 'homemade NO KNEAD DONUT RECIPE ! | with tips !, soft, airy and fluffy', 'description': \"hello everyone this is a channel for easy home cooking and baking. let's connect! in this video i want to share to you how i make ...\", 'thumbnails': {'default': {'url': 'https://i.ytimg.com/vi/cgHnMh0yxJk/default.jpg', 'width': 120, 'height': 90}, 'medium': {'url': 'https://i.ytimg.com/vi/cgHnMh0yxJk/mqdefault.jpg', 'width': 320, 'height': 180}, 'high': {'url': 'https://i.ytimg.com/vi/cgHnMh0yxJk/hqdefault.jpg', 'width': 480, 'height': 360}}, 'channelTitle': 'yummyteller', 'liveBroadcastContent': 'none', 'publishTime': '2024-05-07T10:25:49Z'}}, {'kind': 'youtube#searchResult', 'etag': 'bqt6ZN7xqD6dTdRv9fV-EOKEwN8', 'id': {'kind': 'youtube#video', 'videoId': 'UhQOIMWHeBY'}, 'snippet': {'publishedAt': '2024-05-02T16:38:12Z', 'channelId': 'UC9nY7iR-4MHFczWRpCPUjrQ', 'title': 'Jam Donut French Toast Recipe | Easy Donut Recipes | Delicious Dessert Recipe', 'description': 'welcome to Honey Kitchen. @honeykitchenDot In this video, Chef Honey Dot shares his delicious recipe for homemade Jam ...', 'thumbnails': {'default': {'url': 'https://i.ytimg.com/vi/UhQOIMWHeBY/default.jpg', 'width': 120, 'height': 90}, 'medium': {'url': 'https://i.ytimg.com/vi/UhQOIMWHeBY/mqdefault.jpg', 'width': 320, 'height': 180}, 'high': {'url': 'https://i.ytimg.com/vi/UhQOIMWHeBY/hqdefault.jpg', 'width': 480, 'height': 360}}, 'channelTitle': 'Honey Kitchen.', 'liveBroadcastContent': 'none', 'publishTime': '2024-05-02T16:38:12Z'}}, {'kind': 'youtube#searchResult', 'etag': '7ObaFDHup1OwO-1_hW2HiSZvN6Y', 'id': {'kind': 'youtube#video', 'videoId': 'J92nQL-97sY'}, 'snippet': {'publishedAt': '2024-05-02T16:04:43Z', 'channelId': 'UC5RTWbepJ4OJV5AEiCp9RGg', 'title': 'Perfect Doughnuts Recipe 😋  By Chef Hafsa', 'description': \"Today's recipe is Perfect Doughnuts Recipe By Chef Hafsa you'll need following ingredients to make it 1/2 cup sugar 1 egg ...\", 'thumbnails': {'default': {'url': 'https://i.ytimg.com/vi/J92nQL-97sY/default.jpg', 'width': 120, 'height': 90}, 'medium': {'url': 'https://i.ytimg.com/vi/J92nQL-97sY/mqdefault.jpg', 'width': 320, 'height': 180}, 'high': {'url': 'https://i.ytimg.com/vi/J92nQL-97sY/hqdefault.jpg', 'width': 480, 'height': 360}}, 'channelTitle': \"Hafsa's Kitchen\", 'liveBroadcastContent': 'none', 'publishTime': '2024-05-02T16:04:43Z'}}, {'kind': 'youtube#searchResult', 'etag': 'KGQCgr2aCjoBvqz4Jj7JJFWLn1w', 'id': {'kind': 'youtube#video', 'videoId': '8X5THjUVh6c'}, 'snippet': {'publishedAt': '2024-04-10T18:16:39Z', 'channelId': 'UCKM1vTSoITm1WW3VDis-Kvg', 'title': 'The SECRET to PERFECT Donut Holes: You Won’t Believe What I Used!', 'description': 'How To MAKE Amazing Donut Holes As A BEGINNER (For Less) #DonutHoleRecipe ...', 'thumbnails': {'default': {'url': 'https://i.ytimg.com/vi/8X5THjUVh6c/default.jpg', 'width': 120, 'height': 90}, 'medium': {'url': 'https://i.ytimg.com/vi/8X5THjUVh6c/mqdefault.jpg', 'width': 320, 'height': 180}, 'high': {'url': 'https://i.ytimg.com/vi/8X5THjUVh6c/hqdefault.jpg', 'width': 480, 'height': 360}}, 'channelTitle': \"Elijah' Recipes \", 'liveBroadcastContent': 'none', 'publishTime': '2024-04-10T18:16:39Z'}}, {'kind': 'youtube#searchResult', 'etag': 'xa_I1P48y-lnCuCGbU4KO99-fXI', 'id': {'kind': 'youtube#video', 'videoId': 'uSkHyXmJOQU'}, 'snippet': {'publishedAt': '2024-04-06T14:30:17Z', 'channelId': 'UCcCENFoaxiPdLUlZ_Jp1P8Q', 'title': 'donut recipe . secrets of homemade fluffy donut recipe', 'description': 'Hello everyone, welcome to my channel \"Enjoy cooking at home\" today we will cook together the most delicious donuts at home.', 'thumbnails': {'default': {'url': 'https://i.ytimg.com/vi/uSkHyXmJOQU/default.jpg', 'width': 120, 'height': 90}, 'medium': {'url': 'https://i.ytimg.com/vi/uSkHyXmJOQU/mqdefault.jpg', 'width': 320, 'height': 180}, 'high': {'url': 'https://i.ytimg.com/vi/uSkHyXmJOQU/hqdefault.jpg', 'width': 480, 'height': 360}}, 'channelTitle': 'enjoy cooking home ', 'liveBroadcastContent': 'none', 'publishTime': '2024-04-06T14:30:17Z'}}, {'kind': 'youtube#searchResult', 'etag': 'FU-xwu0mZMvDXkf5oCZOsW6aN64', 'id': {'kind': 'youtube#video', 'videoId': 'l-VaYx8h_7Y'}, 'snippet': {'publishedAt': '2024-04-03T12:00:42Z', 'channelId': 'UCpk27jP_zLO23Rct5jvsiKg', 'title': '5 EASY &amp; QUICK Homemade Donut Recipes to Make at Home! Soft Donuts Without a MIXER', 'description': 'Subtitles are available in all languages! Please enable subtitles translated into your language! On mobile, tap \"CC\" in the top right ...', 'thumbnails': {'default': {'url': 'https://i.ytimg.com/vi/l-VaYx8h_7Y/default.jpg', 'width': 120, 'height': 90}, 'medium': {'url': 'https://i.ytimg.com/vi/l-VaYx8h_7Y/mqdefault.jpg', 'width': 320, 'height': 180}, 'high': {'url': 'https://i.ytimg.com/vi/l-VaYx8h_7Y/hqdefault.jpg', 'width': 480, 'height': 360}}, 'channelTitle': 'Tika Recipes', 'liveBroadcastContent': 'none', 'publishTime': '2024-04-03T12:00:42Z'}}, {'kind': 'youtube#searchResult', 'etag': 'khzNF1OapdbSzNWKKb2nQnYfGc0', 'id': {'kind': 'youtube#video', 'videoId': 'ZIDmCGlmpJI'}, 'snippet': {'publishedAt': '2024-03-29T11:30:17Z', 'channelId': 'UCyZCL31zz2VS_ZwLcOYizwQ', 'title': 'Chocolate glazed donut/Fluffy donut recipe/snack recipe', 'description': 'Chocolate glazed donut/Fluffy donut recipe/snack recipe #chocolatedonuts #donuts #snacks #fried @Vasanthignanavel ...', 'thumbnails': {'default': {'url': 'https://i.ytimg.com/vi/ZIDmCGlmpJI/default.jpg', 'width': 120, 'height': 90}, 'medium': {'url': 'https://i.ytimg.com/vi/ZIDmCGlmpJI/mqdefault.jpg', 'width': 320, 'height': 180}, 'high': {'url': 'https://i.ytimg.com/vi/ZIDmCGlmpJI/hqdefault.jpg', 'width': 480, 'height': 360}}, 'channelTitle': 'Tasty cooking', 'liveBroadcastContent': 'none', 'publishTime': '2024-03-29T11:30:17Z'}}, {'kind': 'youtube#searchResult', 'etag': 'c2uPNtjwxhX2giyUoLGWSfE1hvU', 'id': {'kind': 'youtube#video', 'videoId': 'NFlsRD_ogts'}, 'snippet': {'publishedAt': '2024-03-22T18:15:03Z', 'channelId': 'UCnTzym6VmmyDiVEOnBIFfsg', 'title': 'Donut with Sugar, Why You&#39;ll Never Want Plain Donuts Again', 'description': \"Donut with sugar, The classic combo getting a major upgrade you won't want to miss.\", 'thumbnails': {'default': {'url': 'https://i.ytimg.com/vi/NFlsRD_ogts/default.jpg', 'width': 120, 'height': 90}, 'medium': {'url': 'https://i.ytimg.com/vi/NFlsRD_ogts/mqdefault.jpg', 'width': 320, 'height': 180}, 'high': {'url': 'https://i.ytimg.com/vi/NFlsRD_ogts/hqdefault.jpg', 'width': 480, 'height': 360}}, 'channelTitle': 'VARGASAVOUR RECIPES ', 'liveBroadcastContent': 'none', 'publishTime': '2024-03-22T18:15:03Z'}}, {'kind': 'youtube#searchResult', 'etag': 'wXM1x4rx824Ji8dmO2VqEhJPfoc', 'id': {'kind': 'youtube#video', 'videoId': '_WgsQuCr39c'}, 'snippet': {'publishedAt': '2024-03-12T21:00:23Z', 'channelId': 'UCt9QmBpmrwdkfAyrlZk7t1w', 'title': 'ESSE MINI CAKE DONUT CUSTA MENOS DE R$0,20! | Fofinhos, deliciosos e muito econômicos!', 'description': 'Hoje eu vou te ensinar a fazer Mini Cake Donuts, o produto que é a febre do momento. Eles são super fáceis de fazer, deliciosos, ...', 'thumbnails': {'default': {'url': 'https://i.ytimg.com/vi/_WgsQuCr39c/default.jpg', 'width': 120, 'height': 90}, 'medium': {'url': 'https://i.ytimg.com/vi/_WgsQuCr39c/mqdefault.jpg', 'width': 320, 'height': 180}, 'high': {'url': 'https://i.ytimg.com/vi/_WgsQuCr39c/hqdefault.jpg', 'width': 480, 'height': 360}}, 'channelTitle': 'Anelyse Martins', 'liveBroadcastContent': 'none', 'publishTime': '2024-03-12T21:00:23Z'}}, {'kind': 'youtube#searchResult', 'etag': 'YwRKgrByQMxkSQS6pot_H8Jmvgg', 'id': {'kind': 'youtube#video', 'videoId': '26Qb_dYPLI8'}, 'snippet': {'publishedAt': '2024-03-09T06:00:01Z', 'channelId': 'UC0-PxLev0aapBd3XH5IxgGw', 'title': 'Chicken Donut Recipe | Crispy Chicken Donuts | Chicken Nuggets Recipe | Ramadan Special Recipe', 'description': 'Chicken Donut Recipe | Crispy Chicken Donuts | Chicken Nuggets Recipe | Ramadan Special Recipe by Shukar Foods.', 'thumbnails': {'default': {'url': 'https://i.ytimg.com/vi/26Qb_dYPLI8/default.jpg', 'width': 120, 'height': 90}, 'medium': {'url': 'https://i.ytimg.com/vi/26Qb_dYPLI8/mqdefault.jpg', 'width': 320, 'height': 180}, 'high': {'url': 'https://i.ytimg.com/vi/26Qb_dYPLI8/hqdefault.jpg', 'width': 480, 'height': 360}}, 'channelTitle': 'Shukar Foods', 'liveBroadcastContent': 'none', 'publishTime': '2024-03-09T06:00:01Z'}}, {'kind': 'youtube#searchResult', 'etag': 'lG1pEueW8x6SevRPIywikb6ARwo', 'id': {'kind': 'youtube#video', 'videoId': 'QbrsIJTE4vc'}, 'snippet': {'publishedAt': '2024-02-29T12:00:31Z', 'channelId': 'UCpk27jP_zLO23Rct5jvsiKg', 'title': 'NO KNEAD ! EASY &amp; QUICK Homemade Donut Recipe !  Extremely SOFT &amp; FLUFFY donuts for days', 'description': 'Subtitles are available in all languages! Please enable subtitles translated into your language! On mobile, tap \"CC\" in the top right ...', 'thumbnails': {'default': {'url': 'https://i.ytimg.com/vi/QbrsIJTE4vc/default.jpg', 'width': 120, 'height': 90}, 'medium': {'url': 'https://i.ytimg.com/vi/QbrsIJTE4vc/mqdefault.jpg', 'width': 320, 'height': 180}, 'high': {'url': 'https://i.ytimg.com/vi/QbrsIJTE4vc/hqdefault.jpg', 'width': 480, 'height': 360}}, 'channelTitle': 'Tika Recipes', 'liveBroadcastContent': 'none', 'publishTime': '2024-02-29T12:00:31Z'}}, {'kind': 'youtube#searchResult', 'etag': 'Fz_3O3XSQUA7836E5IiWM3slM6o', 'id': {'kind': 'youtube#video', 'videoId': 'ELOGVMSx4WE'}, 'snippet': {'publishedAt': '2024-02-29T11:30:12Z', 'channelId': 'UCkb9XmlItH-TNGSAYeMOdsQ', 'title': 'BEST HOMEMADE DONUT RECIPE | SUPER FLUFFY', 'description': \"hello everyone this is a channel for easy home cooking and baking. let's connect! in this video i want to share to you how i make ...\", 'thumbnails': {'default': {'url': 'https://i.ytimg.com/vi/ELOGVMSx4WE/default.jpg', 'width': 120, 'height': 90}, 'medium': {'url': 'https://i.ytimg.com/vi/ELOGVMSx4WE/mqdefault.jpg', 'width': 320, 'height': 180}, 'high': {'url': 'https://i.ytimg.com/vi/ELOGVMSx4WE/hqdefault.jpg', 'width': 480, 'height': 360}}, 'channelTitle': 'yummyteller', 'liveBroadcastContent': 'none', 'publishTime': '2024-02-29T11:30:12Z'}}, {'kind': 'youtube#searchResult', 'etag': 'ybZwQDuBhvxCyD7jnMl_s_f7vlw', 'id': {'kind': 'youtube#video', 'videoId': 'sIrC3_NErp8'}, 'snippet': {'publishedAt': '2024-02-28T14:25:13Z', 'channelId': 'UC3ni-FDzRhG3r6bbHFGYSIw', 'title': 'Nepali Donut Recipe | How To make Nepali Donut At Home | Nepali Style Doughnut | डाेनट', 'description': \"Welcome to Before You Try and I'm Sushant. Get ready for the greatest donut experience you'll ever have at home. In this video of ...\", 'thumbnails': {'default': {'url': 'https://i.ytimg.com/vi/sIrC3_NErp8/default.jpg', 'width': 120, 'height': 90}, 'medium': {'url': 'https://i.ytimg.com/vi/sIrC3_NErp8/mqdefault.jpg', 'width': 320, 'height': 180}, 'high': {'url': 'https://i.ytimg.com/vi/sIrC3_NErp8/hqdefault.jpg', 'width': 480, 'height': 360}}, 'channelTitle': 'BEFORE YOU TRY ', 'liveBroadcastContent': 'none', 'publishTime': '2024-02-28T14:25:13Z'}}, {'kind': 'youtube#searchResult', 'etag': 'qXBsAKSThrw4EiF_kCQflLDB4-I', 'id': {'kind': 'youtube#video', 'videoId': 'NmbMYkkGYUU'}, 'snippet': {'publishedAt': '2024-02-27T18:30:17Z', 'channelId': 'UCpfCtIpypVRjQHsU0vyw_ew', 'title': 'How To Make Bulk Perfect Shape Donuts | No Donut Cutter | Glazed &amp; Jam Doughnuts | Glory Homemaker', 'description': 'Hello beautiful people, we are here with a video on how to make the best of homemade donuts/doughnuts. These donuts tastes ...', 'thumbnails': {'default': {'url': 'https://i.ytimg.com/vi/NmbMYkkGYUU/default.jpg', 'width': 120, 'height': 90}, 'medium': {'url': 'https://i.ytimg.com/vi/NmbMYkkGYUU/mqdefault.jpg', 'width': 320, 'height': 180}, 'high': {'url': 'https://i.ytimg.com/vi/NmbMYkkGYUU/hqdefault.jpg', 'width': 480, 'height': 360}}, 'channelTitle': 'Glory HomeMaker', 'liveBroadcastContent': 'none', 'publishTime': '2024-02-27T18:30:17Z'}}, {'kind': 'youtube#searchResult', 'etag': 'glgiajyu_8uGdlz0yfV_4tKvQfk', 'id': {'kind': 'youtube#video', 'videoId': 'DbL2q9O7klA'}, 'snippet': {'publishedAt': '2024-02-23T02:00:06Z', 'channelId': 'UCSWhJgF5-ak05LcoI7E-x9Q', 'title': 'Ramadan special 🌙 chicken donuts | chicken donuts recipe | chicken donut | chicken recipe', 'description': 'chicken donuts,chicken donuts recipe,chicken,chicken donut,chicken recipe,chicken doughnuts,crispy chicken donuts,chicken ...', 'thumbnails': {'default': {'url': 'https://i.ytimg.com/vi/DbL2q9O7klA/default.jpg', 'width': 120, 'height': 90}, 'medium': {'url': 'https://i.ytimg.com/vi/DbL2q9O7klA/mqdefault.jpg', 'width': 320, 'height': 180}, 'high': {'url': 'https://i.ytimg.com/vi/DbL2q9O7klA/hqdefault.jpg', 'width': 480, 'height': 360}}, 'channelTitle': 'Ice and spice Recipes ', 'liveBroadcastContent': 'none', 'publishTime': '2024-02-23T02:00:06Z'}}, {'kind': 'youtube#searchResult', 'etag': 'HMXtSBK931kLTN7Xl3ZfMxjyMwg', 'id': {'kind': 'youtube#video', 'videoId': 'Cf8eVjXyQZo'}, 'snippet': {'publishedAt': '2024-02-19T12:00:08Z', 'channelId': 'UCpk27jP_zLO23Rct5jvsiKg', 'title': 'EASY &amp; QUICK Donut Recipe with 4 Ingredients Only! Extremely soft &amp; fluffy donuts without eggs/mixer', 'description': 'Please enable subtitles translated into your language! On mobile, tap \"CC\" in the top right corner of the video. On your computer ...', 'thumbnails': {'default': {'url': 'https://i.ytimg.com/vi/Cf8eVjXyQZo/default.jpg', 'width': 120, 'height': 90}, 'medium': {'url': 'https://i.ytimg.com/vi/Cf8eVjXyQZo/mqdefault.jpg', 'width': 320, 'height': 180}, 'high': {'url': 'https://i.ytimg.com/vi/Cf8eVjXyQZo/hqdefault.jpg', 'width': 480, 'height': 360}}, 'channelTitle': 'Tika Recipes', 'liveBroadcastContent': 'none', 'publishTime': '2024-02-19T12:00:08Z'}}, {'kind': 'youtube#searchResult', 'etag': 'jBN0sed4gy0rfS4cwhDrxk60oCc', 'id': {'kind': 'youtube#video', 'videoId': 'S7VTmRiXYEM'}, 'snippet': {'publishedAt': '2024-02-18T18:26:45Z', 'channelId': 'UCCgZbqmP7rUl5ZwHORA56Kg', 'title': 'Only Eggs &amp; DONUT ! Delicious Eggs and Bagel  DONUT Recipe! The Best 5 Minute Breakfast Recipe!', 'description': 'Only eggs & DONUT ! Delicious Eggs and Bagel DONUT Recipe! The Best 5 Minute Breakfast Recipe! Hello everyone Today I ...', 'thumbnails': {'default': {'url': 'https://i.ytimg.com/vi/S7VTmRiXYEM/default.jpg', 'width': 120, 'height': 90}, 'medium': {'url': 'https://i.ytimg.com/vi/S7VTmRiXYEM/mqdefault.jpg', 'width': 320, 'height': 180}, 'high': {'url': 'https://i.ytimg.com/vi/S7VTmRiXYEM/hqdefault.jpg', 'width': 480, 'height': 360}}, 'channelTitle': 'Eli Cooking', 'liveBroadcastContent': 'none', 'publishTime': '2024-02-18T18:26:45Z'}}, {'kind': 'youtube#searchResult', 'etag': 'fQeEnCWERmz1gCd3PJHYGdrVwew', 'id': {'kind': 'youtube#video', 'videoId': 'd1jYP_6l2LE'}, 'snippet': {'publishedAt': '2024-02-17T15:45:25Z', 'channelId': 'UCKM1vTSoITm1WW3VDis-Kvg', 'title': 'UNBELIEVEABLE: This Donut Recipe Will CHANGE Everything', 'description': 'HOWTOmakeglazeddonutslikeKRISPYKREMEathome(but Cheaper!) #Easykrispykremedonutrecipe #Krispykremedonutrecipe ...', 'thumbnails': {'default': {'url': 'https://i.ytimg.com/vi/d1jYP_6l2LE/default.jpg', 'width': 120, 'height': 90}, 'medium': {'url': 'https://i.ytimg.com/vi/d1jYP_6l2LE/mqdefault.jpg', 'width': 320, 'height': 180}, 'high': {'url': 'https://i.ytimg.com/vi/d1jYP_6l2LE/hqdefault.jpg', 'width': 480, 'height': 360}}, 'channelTitle': \"Elijah' Recipes \", 'liveBroadcastContent': 'none', 'publishTime': '2024-02-17T15:45:25Z'}}, {'kind': 'youtube#searchResult', 'etag': 'OKJJsBI-eZTJW6ijIjv2pyqpWzE', 'id': {'kind': 'youtube#video', 'videoId': 'nprfmzmXeto'}, 'snippet': {'publishedAt': '2024-02-14T11:30:07Z', 'channelId': 'UCpk27jP_zLO23Rct5jvsiKg', 'title': 'No - Knead. QUICK &amp; EASY Donut Recipe . The softest donuts I have ever made. Homemade Donuts', 'description': 'Please enable subtitles translated into your language! Tips: • Bread flour is a high-protein flour which produces more gluten.', 'thumbnails': {'default': {'url': 'https://i.ytimg.com/vi/nprfmzmXeto/default.jpg', 'width': 120, 'height': 90}, 'medium': {'url': 'https://i.ytimg.com/vi/nprfmzmXeto/mqdefault.jpg', 'width': 320, 'height': 180}, 'high': {'url': 'https://i.ytimg.com/vi/nprfmzmXeto/hqdefault.jpg', 'width': 480, 'height': 360}}, 'channelTitle': 'Tika Recipes', 'liveBroadcastContent': 'none', 'publishTime': '2024-02-14T11:30:07Z'}}, {'kind': 'youtube#searchResult', 'etag': 'JxRYCBSMsI6M68mE2cBzagn31JU', 'id': {'kind': 'youtube#video', 'videoId': 'u9TJ_C0gavA'}, 'snippet': {'publishedAt': '2024-02-12T12:00:45Z', 'channelId': 'UCpk27jP_zLO23Rct5jvsiKg', 'title': 'Make Donuts Easily at home !! Extremely Soft Donut Recipe without Eggs, Milk &amp; Butter', 'description': 'Please enable subtitles translated into your language! On mobile, tap \"CC\" in the top right corner of the video. On your computer ...', 'thumbnails': {'default': {'url': 'https://i.ytimg.com/vi/u9TJ_C0gavA/default.jpg', 'width': 120, 'height': 90}, 'medium': {'url': 'https://i.ytimg.com/vi/u9TJ_C0gavA/mqdefault.jpg', 'width': 320, 'height': 180}, 'high': {'url': 'https://i.ytimg.com/vi/u9TJ_C0gavA/hqdefault.jpg', 'width': 480, 'height': 360}}, 'channelTitle': 'Tika Recipes', 'liveBroadcastContent': 'none', 'publishTime': '2024-02-12T12:00:45Z'}}, {'kind': 'youtube#searchResult', 'etag': 'OSoAU6EXoX9ZWw4Y8NYyrwP2K-I', 'id': {'kind': 'youtube#video', 'videoId': 'lbZHqkKJeVU'}, 'snippet': {'publishedAt': '2024-02-01T12:00:44Z', 'channelId': 'UCpk27jP_zLO23Rct5jvsiKg', 'title': 'EASY &amp; QUICK HOMEMADE Donut Recipe . THE BEST SOFT Eggless DONUTS ! No Milk, No Butter, No Oil', 'description': 'Please Enable Subtitles translated into your language! On your mobile, tap \"CC\" in the top right corner of the video. On your ...', 'thumbnails': {'default': {'url': 'https://i.ytimg.com/vi/lbZHqkKJeVU/default.jpg', 'width': 120, 'height': 90}, 'medium': {'url': 'https://i.ytimg.com/vi/lbZHqkKJeVU/mqdefault.jpg', 'width': 320, 'height': 180}, 'high': {'url': 'https://i.ytimg.com/vi/lbZHqkKJeVU/hqdefault.jpg', 'width': 480, 'height': 360}}, 'channelTitle': 'Tika Recipes', 'liveBroadcastContent': 'none', 'publishTime': '2024-02-01T12:00:44Z'}}, {'kind': 'youtube#searchResult', 'etag': 'DqM_bpLsY02sFQ7EyoiuH7CcdL8', 'id': {'kind': 'youtube#video', 'videoId': 'IZeFX9KZVg4'}, 'snippet': {'publishedAt': '2024-01-30T12:08:15Z', 'channelId': 'UCkb9XmlItH-TNGSAYeMOdsQ', 'title': 'SOFT | HOMEMADE DONUT RECIPE', 'description': \"hello everyone this is a channel for easy home cooking and baking. let's connect! here is the full recipe: 250 Grams of flour 40 ...\", 'thumbnails': {'default': {'url': 'https://i.ytimg.com/vi/IZeFX9KZVg4/default.jpg', 'width': 120, 'height': 90}, 'medium': {'url': 'https://i.ytimg.com/vi/IZeFX9KZVg4/mqdefault.jpg', 'width': 320, 'height': 180}, 'high': {'url': 'https://i.ytimg.com/vi/IZeFX9KZVg4/hqdefault.jpg', 'width': 480, 'height': 360}}, 'channelTitle': 'yummyteller', 'liveBroadcastContent': 'none', 'publishTime': '2024-01-30T12:08:15Z'}}, {'kind': 'youtube#searchResult', 'etag': 'UqyhFJqT2DbwpBLk4ZhRxY4nkA8', 'id': {'kind': 'youtube#video', 'videoId': 'fIY72NlJJr8'}, 'snippet': {'publishedAt': '2024-01-22T12:00:37Z', 'channelId': 'UCpk27jP_zLO23Rct5jvsiKg', 'title': 'The EASIEST &amp; FASTEST Donut Recipe Ever! Extremely Soft and Fluffy lasts for days. No Eggs, No Milk', 'description': 'The easiest & fastest donut recipe ever! Extremely soft and fluffy lasts for days. No eggs, No milk Please enable subtitles ...', 'thumbnails': {'default': {'url': 'https://i.ytimg.com/vi/fIY72NlJJr8/default.jpg', 'width': 120, 'height': 90}, 'medium': {'url': 'https://i.ytimg.com/vi/fIY72NlJJr8/mqdefault.jpg', 'width': 320, 'height': 180}, 'high': {'url': 'https://i.ytimg.com/vi/fIY72NlJJr8/hqdefault.jpg', 'width': 480, 'height': 360}}, 'channelTitle': 'Tika Recipes', 'liveBroadcastContent': 'none', 'publishTime': '2024-01-22T12:00:37Z'}}, {'kind': 'youtube#searchResult', 'etag': 'uLW7SS0RiHp5JeXvRv5UFMKr8_E', 'id': {'kind': 'youtube#video', 'videoId': 'd6uAg8W93XI'}, 'snippet': {'publishedAt': '2024-01-21T21:09:35Z', 'channelId': 'UCkb9XmlItH-TNGSAYeMOdsQ', 'title': '4 recipes soft DONUT. easy and delicious!', 'description': \"hello everyone this is a channel for easy home cooking and baking. let's connect! in this video i want to share to you 4 ideas of soft ...\", 'thumbnails': {'default': {'url': 'https://i.ytimg.com/vi/d6uAg8W93XI/default.jpg', 'width': 120, 'height': 90}, 'medium': {'url': 'https://i.ytimg.com/vi/d6uAg8W93XI/mqdefault.jpg', 'width': 320, 'height': 180}, 'high': {'url': 'https://i.ytimg.com/vi/d6uAg8W93XI/hqdefault.jpg', 'width': 480, 'height': 360}}, 'channelTitle': 'yummyteller', 'liveBroadcastContent': 'none', 'publishTime': '2024-01-21T21:09:35Z'}}, {'kind': 'youtube#searchResult', 'etag': 'Yw2-ZZfr8ytTsRazKMzQ9jc58oE', 'id': {'kind': 'youtube#video', 'videoId': 'sG7Yswf_PFs'}, 'snippet': {'publishedAt': '2024-01-04T15:40:00Z', 'channelId': 'UCNy26s9NDvONWLbUZLrBNMA', 'title': 'Luftig, fluffig, lecker: Verwerte reife Bananen mit diesem köstlichen Donut-Rezept!', 'description': 'Hallo du, entdecke mit mir ein einfaches und leckeres Rezept für Bananendonuts! Verwende reife Bananen, um diesen luftigen ...', 'thumbnails': {'default': {'url': 'https://i.ytimg.com/vi/sG7Yswf_PFs/default.jpg', 'width': 120, 'height': 90}, 'medium': {'url': 'https://i.ytimg.com/vi/sG7Yswf_PFs/mqdefault.jpg', 'width': 320, 'height': 180}, 'high': {'url': 'https://i.ytimg.com/vi/sG7Yswf_PFs/hqdefault.jpg', 'width': 480, 'height': 360}}, 'channelTitle': 'Die Aus Finnland', 'liveBroadcastContent': 'none', 'publishTime': '2024-01-04T15:40:00Z'}}]}\n"
     ]
    }
   ],
   "source": [
    "print(response)"
   ]
  },
  {
   "cell_type": "code",
   "execution_count": 12,
   "id": "bb52ebf7",
   "metadata": {
    "execution": {
     "iopub.execute_input": "2025-01-19T08:52:03.969063Z",
     "iopub.status.busy": "2025-01-19T08:52:03.968687Z",
     "iopub.status.idle": "2025-01-19T08:52:03.972527Z",
     "shell.execute_reply": "2025-01-19T08:52:03.971507Z"
    },
    "papermill": {
     "duration": 0.022553,
     "end_time": "2025-01-19T08:52:03.974130",
     "exception": false,
     "start_time": "2025-01-19T08:52:03.951577",
     "status": "completed"
    },
    "tags": []
   },
   "outputs": [],
   "source": [
    "# !pwd  # To print the current working directory\n"
   ]
  },
  {
   "cell_type": "code",
   "execution_count": 13,
   "id": "9411de1a",
   "metadata": {
    "execution": {
     "iopub.execute_input": "2025-01-19T08:52:04.008701Z",
     "iopub.status.busy": "2025-01-19T08:52:04.008377Z",
     "iopub.status.idle": "2025-01-19T08:52:04.012346Z",
     "shell.execute_reply": "2025-01-19T08:52:04.011143Z"
    },
    "papermill": {
     "duration": 0.023373,
     "end_time": "2025-01-19T08:52:04.014080",
     "exception": false,
     "start_time": "2025-01-19T08:52:03.990707",
     "status": "completed"
    },
    "tags": []
   },
   "outputs": [],
   "source": [
    "# !ls  # List files in the current directory\n"
   ]
  },
  {
   "cell_type": "code",
   "execution_count": 14,
   "id": "8694f0ee",
   "metadata": {
    "execution": {
     "iopub.execute_input": "2025-01-19T08:52:04.048370Z",
     "iopub.status.busy": "2025-01-19T08:52:04.047982Z",
     "iopub.status.idle": "2025-01-19T08:52:04.051881Z",
     "shell.execute_reply": "2025-01-19T08:52:04.051002Z"
    },
    "papermill": {
     "duration": 0.022972,
     "end_time": "2025-01-19T08:52:04.053547",
     "exception": false,
     "start_time": "2025-01-19T08:52:04.030575",
     "status": "completed"
    },
    "tags": []
   },
   "outputs": [],
   "source": [
    "# %cd /YouTubeFoodChannelAnalysis  # Change directory to the cloned repository\n"
   ]
  },
  {
   "cell_type": "code",
   "execution_count": 15,
   "id": "b6f96ae7",
   "metadata": {
    "execution": {
     "iopub.execute_input": "2025-01-19T08:52:04.088389Z",
     "iopub.status.busy": "2025-01-19T08:52:04.088012Z",
     "iopub.status.idle": "2025-01-19T08:52:04.091613Z",
     "shell.execute_reply": "2025-01-19T08:52:04.090742Z"
    },
    "papermill": {
     "duration": 0.022684,
     "end_time": "2025-01-19T08:52:04.093381",
     "exception": false,
     "start_time": "2025-01-19T08:52:04.070697",
     "status": "completed"
    },
    "tags": []
   },
   "outputs": [],
   "source": [
    "# %cd YouTubeFoodChannelAnalysis  # Change to the existing directory\n",
    "# !git pull                       # Pull the latest changes\n"
   ]
  },
  {
   "cell_type": "code",
   "execution_count": 16,
   "id": "00739bcb",
   "metadata": {
    "execution": {
     "iopub.execute_input": "2025-01-19T08:52:04.128254Z",
     "iopub.status.busy": "2025-01-19T08:52:04.127860Z",
     "iopub.status.idle": "2025-01-19T08:52:04.131627Z",
     "shell.execute_reply": "2025-01-19T08:52:04.130649Z"
    },
    "papermill": {
     "duration": 0.023329,
     "end_time": "2025-01-19T08:52:04.133467",
     "exception": false,
     "start_time": "2025-01-19T08:52:04.110138",
     "status": "completed"
    },
    "tags": []
   },
   "outputs": [],
   "source": [
    "# !ls /kaggle/working\n",
    "\n"
   ]
  },
  {
   "cell_type": "code",
   "execution_count": 17,
   "id": "b8e7677b",
   "metadata": {
    "execution": {
     "iopub.execute_input": "2025-01-19T08:52:04.169271Z",
     "iopub.status.busy": "2025-01-19T08:52:04.168584Z",
     "iopub.status.idle": "2025-01-19T08:52:04.172971Z",
     "shell.execute_reply": "2025-01-19T08:52:04.171930Z"
    },
    "papermill": {
     "duration": 0.024356,
     "end_time": "2025-01-19T08:52:04.174663",
     "exception": false,
     "start_time": "2025-01-19T08:52:04.150307",
     "status": "completed"
    },
    "tags": []
   },
   "outputs": [],
   "source": [
    "# !rm -rf /kaggle/working/YouTubeFoodChannelAnalysis  # Remove the existing folder if it's not a Git repo\n"
   ]
  },
  {
   "cell_type": "code",
   "execution_count": 18,
   "id": "a6328e26",
   "metadata": {
    "execution": {
     "iopub.execute_input": "2025-01-19T08:52:04.209565Z",
     "iopub.status.busy": "2025-01-19T08:52:04.209177Z",
     "iopub.status.idle": "2025-01-19T08:52:04.212868Z",
     "shell.execute_reply": "2025-01-19T08:52:04.211751Z"
    },
    "papermill": {
     "duration": 0.022802,
     "end_time": "2025-01-19T08:52:04.214505",
     "exception": false,
     "start_time": "2025-01-19T08:52:04.191703",
     "status": "completed"
    },
    "tags": []
   },
   "outputs": [],
   "source": [
    "# !ls -al ~/.ssh"
   ]
  }
 ],
 "metadata": {
  "kaggle": {
   "accelerator": "none",
   "dataSources": [],
   "dockerImageVersionId": 30822,
   "isGpuEnabled": false,
   "isInternetEnabled": true,
   "language": "python",
   "sourceType": "notebook"
  },
  "kernelspec": {
   "display_name": "Python 3",
   "language": "python",
   "name": "python3"
  },
  "language_info": {
   "codemirror_mode": {
    "name": "ipython",
    "version": 3
   },
   "file_extension": ".py",
   "mimetype": "text/x-python",
   "name": "python",
   "nbconvert_exporter": "python",
   "pygments_lexer": "ipython3",
   "version": "3.10.12"
  },
  "papermill": {
   "default_parameters": {},
   "duration": 10.090209,
   "end_time": "2025-01-19T08:52:04.851413",
   "environment_variables": {},
   "exception": null,
   "input_path": "__notebook__.ipynb",
   "output_path": "__notebook__.ipynb",
   "parameters": {},
   "start_time": "2025-01-19T08:51:54.761204",
   "version": "2.6.0"
  }
 },
 "nbformat": 4,
 "nbformat_minor": 5
}
