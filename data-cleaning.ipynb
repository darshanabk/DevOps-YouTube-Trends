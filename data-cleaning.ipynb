{
 "cells": [
  {
   "cell_type": "code",
   "execution_count": 1,
   "id": "3ce3f6d7",
   "metadata": {
    "execution": {
     "iopub.execute_input": "2025-01-27T23:56:03.768277Z",
     "iopub.status.busy": "2025-01-27T23:56:03.767886Z",
     "iopub.status.idle": "2025-01-27T23:56:13.888384Z",
     "shell.execute_reply": "2025-01-27T23:56:13.886824Z"
    },
    "papermill": {
     "duration": 10.128952,
     "end_time": "2025-01-27T23:56:13.891051",
     "exception": false,
     "start_time": "2025-01-27T23:56:03.762099",
     "status": "completed"
    },
    "tags": []
   },
   "outputs": [
    {
     "name": "stdout",
     "output_type": "stream",
     "text": [
      "Collecting deep_translator\r\n",
      "  Downloading deep_translator-1.11.4-py3-none-any.whl.metadata (30 kB)\r\n",
      "Requirement already satisfied: beautifulsoup4<5.0.0,>=4.9.1 in /usr/local/lib/python3.10/dist-packages (from deep_translator) (4.12.3)\r\n",
      "Requirement already satisfied: requests<3.0.0,>=2.23.0 in /usr/local/lib/python3.10/dist-packages (from deep_translator) (2.32.3)\r\n",
      "Requirement already satisfied: soupsieve>1.2 in /usr/local/lib/python3.10/dist-packages (from beautifulsoup4<5.0.0,>=4.9.1->deep_translator) (2.6)\r\n",
      "Requirement already satisfied: charset-normalizer<4,>=2 in /usr/local/lib/python3.10/dist-packages (from requests<3.0.0,>=2.23.0->deep_translator) (3.4.0)\r\n",
      "Requirement already satisfied: idna<4,>=2.5 in /usr/local/lib/python3.10/dist-packages (from requests<3.0.0,>=2.23.0->deep_translator) (3.10)\r\n",
      "Requirement already satisfied: urllib3<3,>=1.21.1 in /usr/local/lib/python3.10/dist-packages (from requests<3.0.0,>=2.23.0->deep_translator) (2.2.3)\r\n",
      "Requirement already satisfied: certifi>=2017.4.17 in /usr/local/lib/python3.10/dist-packages (from requests<3.0.0,>=2.23.0->deep_translator) (2024.12.14)\r\n",
      "Downloading deep_translator-1.11.4-py3-none-any.whl (42 kB)\r\n",
      "\u001b[2K   \u001b[90m━━━━━━━━━━━━━━━━━━━━━━━━━━━━━━━━━━━━━━━━\u001b[0m \u001b[32m42.3/42.3 kB\u001b[0m \u001b[31m1.9 MB/s\u001b[0m eta \u001b[36m0:00:00\u001b[0m\r\n",
      "\u001b[?25hInstalling collected packages: deep_translator\r\n",
      "Successfully installed deep_translator-1.11.4\r\n",
      "Requirement already satisfied: emoji in /usr/local/lib/python3.10/dist-packages (2.14.0)\r\n"
     ]
    }
   ],
   "source": [
    "!pip install deep_translator\n",
    "!pip install emoji"
   ]
  },
  {
   "cell_type": "code",
   "execution_count": 2,
   "id": "8bc8e66e",
   "metadata": {
    "_cell_guid": "6ef0d001-3c99-4d1b-aec3-65b76250d732",
    "_uuid": "dbb07c64-7818-4b95-8c42-5121cb3442de",
    "collapsed": false,
    "execution": {
     "iopub.execute_input": "2025-01-27T23:56:13.902013Z",
     "iopub.status.busy": "2025-01-27T23:56:13.901622Z",
     "iopub.status.idle": "2025-01-27T23:56:15.883805Z",
     "shell.execute_reply": "2025-01-27T23:56:15.882788Z"
    },
    "jupyter": {
     "outputs_hidden": false
    },
    "papermill": {
     "duration": 1.989982,
     "end_time": "2025-01-27T23:56:15.885945",
     "exception": false,
     "start_time": "2025-01-27T23:56:13.895963",
     "status": "completed"
    },
    "tags": []
   },
   "outputs": [],
   "source": [
    "import os  \n",
    "import git \n",
    "from git import Repo  \n",
    "import datetime  \n",
    "from pytz import timezone\n",
    "import pandas as pd\n",
    "import deep_translator\n",
    "from deep_translator import GoogleTranslator\n",
    "from pytz import timezone \n",
    "import shutil\n",
    "import emoji\n",
    "import re\n",
    "import html\n",
    "from kaggle_secrets import UserSecretsClient\n",
    "user_secrets = UserSecretsClient()\n",
    "secret_value_0 = user_secrets.get_secret(\"dataCleanRepoUrl\")"
   ]
  },
  {
   "cell_type": "code",
   "execution_count": 3,
   "id": "d13473de",
   "metadata": {
    "_cell_guid": "58007077-abd7-4cbb-9afb-2e3d72475213",
    "_uuid": "a8d303d0-e0a9-47dd-812f-0506d277f8e8",
    "collapsed": false,
    "execution": {
     "iopub.execute_input": "2025-01-27T23:56:15.897115Z",
     "iopub.status.busy": "2025-01-27T23:56:15.896507Z",
     "iopub.status.idle": "2025-01-27T23:56:15.941163Z",
     "shell.execute_reply": "2025-01-27T23:56:15.940112Z"
    },
    "jupyter": {
     "outputs_hidden": false
    },
    "papermill": {
     "duration": 0.052758,
     "end_time": "2025-01-27T23:56:15.943501",
     "exception": false,
     "start_time": "2025-01-27T23:56:15.890743",
     "status": "completed"
    },
    "tags": []
   },
   "outputs": [],
   "source": [
    "repo_url = secret_value_0\n",
    "ist = timezone('Asia/Kolkata')\n",
    "kaggle_repo_url = '/kaggle/working/YouTubeFoodChannelAnalysis'\n",
    "destination_path = '/kaggle/working/YouTubeFoodChannelAnalysis/DataCleaning/Daily'\n",
    "source_path = '/kaggle/working/YouTubeFoodChannelAnalysis/Source/Daily'"
   ]
  },
  {
   "cell_type": "code",
   "execution_count": 4,
   "id": "58c02e7d",
   "metadata": {
    "_cell_guid": "95240f5c-8357-4249-939c-11355dc870c5",
    "_uuid": "27cc33a1-443f-4444-9284-1f8dc00edebc",
    "collapsed": false,
    "execution": {
     "iopub.execute_input": "2025-01-27T23:56:15.954807Z",
     "iopub.status.busy": "2025-01-27T23:56:15.954369Z",
     "iopub.status.idle": "2025-01-27T23:56:18.413699Z",
     "shell.execute_reply": "2025-01-27T23:56:18.412430Z"
    },
    "jupyter": {
     "outputs_hidden": false
    },
    "papermill": {
     "duration": 2.467355,
     "end_time": "2025-01-27T23:56:18.415767",
     "exception": false,
     "start_time": "2025-01-27T23:56:15.948412",
     "status": "completed"
    },
    "tags": []
   },
   "outputs": [
    {
     "name": "stdout",
     "output_type": "stream",
     "text": [
      "Successfully cloned the git repo\n"
     ]
    }
   ],
   "source": [
    "if os.path.exists(kaggle_repo_url):\n",
    "    print(\"Already cloned and the repo file exists\")\n",
    "    repo = git.Repo(kaggle_repo_url)  # Access the existing repository\n",
    "    origin = repo.remote(name='origin')  # Get the remote repository\n",
    "    origin.pull()  # Pull the latest changes from the repository\n",
    "    print(\"Successfully pulled the git repo before push\")\n",
    "else:\n",
    "    # Clone the repository if it doesn't exist\n",
    "    repo = git.Repo.clone_from(repo_url, kaggle_repo_url)\n",
    "    print(\"Successfully cloned the git repo\")"
   ]
  },
  {
   "cell_type": "code",
   "execution_count": 5,
   "id": "7a4bf897",
   "metadata": {
    "_cell_guid": "dcb4ede6-f42f-4be3-9ed4-e10dc9878f79",
    "_uuid": "3cbdc252-dd70-49a4-b3e5-b22300cd830e",
    "collapsed": false,
    "execution": {
     "iopub.execute_input": "2025-01-27T23:56:18.426482Z",
     "iopub.status.busy": "2025-01-27T23:56:18.426150Z",
     "iopub.status.idle": "2025-01-27T23:56:18.488251Z",
     "shell.execute_reply": "2025-01-27T23:56:18.487103Z"
    },
    "jupyter": {
     "outputs_hidden": false
    },
    "papermill": {
     "duration": 0.069535,
     "end_time": "2025-01-27T23:56:18.490201",
     "exception": false,
     "start_time": "2025-01-27T23:56:18.420666",
     "status": "completed"
    },
    "tags": []
   },
   "outputs": [],
   "source": [
    "output_files = os.listdir(source_path)\n",
    "Target_File = max([i for i in output_files if i.startswith(\"S_\") and i.endswith('records.json')])\n",
    "Target_File = pd.read_json(f'{source_path}/{Target_File}')"
   ]
  },
  {
   "cell_type": "markdown",
   "id": "a8d7e6d4",
   "metadata": {
    "_cell_guid": "77403444-565c-4629-8e75-963d39346ad0",
    "_uuid": "d21d04f3-0df2-4b2e-a435-a0f1812db540",
    "collapsed": false,
    "jupyter": {
     "outputs_hidden": false
    },
    "papermill": {
     "duration": 0.004448,
     "end_time": "2025-01-27T23:56:18.499436",
     "exception": false,
     "start_time": "2025-01-27T23:56:18.494988",
     "status": "completed"
    },
    "tags": []
   },
   "source": [
    "---\n",
    "**Observation:**  \n",
    "\n",
    "1. Null values are present in the following columns:\n",
    "   - **`videoDefaultLanguage`**  (will be dropped after data cleaning)\n",
    "   - **`videoDefaultAudioLanguage`** \n",
    "   - **`channelCountry`**\n",
    "\n",
    "---\n",
    "\n",
    "2. The following columns will be dropped as part of data cleaning:\n",
    "   - **`videoDescription`**: Reserved for analysis in future NLP project with a broader dataset.  \n",
    "   - **`videoLiveBroadcastContent`**: All values are `'none'`, providing no variability or insights. \n",
    "   - **`videoFavoriteCount`**: All values are `0`, making it redundant.  \n",
    "   - **`videoTags`**: Reserved for analysis in future NLP project with a broader dataset.  \n",
    "   - **`videoUniqueId`**: Identified as a duplicate column.  \n",
    "   - **`channelIdUnique`**: Identified as a duplicate column.  \n",
    "   - **`channelTitleCheck`**: Identified as a duplicate column.  \n",
    "   - **`channelDescription`**: Reserved for analysis in future NLP project with a broader dataset.\n",
    "---"
   ]
  },
  {
   "cell_type": "code",
   "execution_count": 6,
   "id": "4b5f990e",
   "metadata": {
    "_cell_guid": "83efa5a5-11c5-4bf5-a856-d85cf2bd4db9",
    "_uuid": "e1f4feae-c6ca-4c66-9100-154746a080b0",
    "collapsed": false,
    "execution": {
     "iopub.execute_input": "2025-01-27T23:56:18.509917Z",
     "iopub.status.busy": "2025-01-27T23:56:18.509521Z",
     "iopub.status.idle": "2025-01-27T23:56:18.539670Z",
     "shell.execute_reply": "2025-01-27T23:56:18.538512Z"
    },
    "jupyter": {
     "outputs_hidden": false
    },
    "papermill": {
     "duration": 0.037631,
     "end_time": "2025-01-27T23:56:18.541662",
     "exception": false,
     "start_time": "2025-01-27T23:56:18.504031",
     "status": "completed"
    },
    "tags": []
   },
   "outputs": [
    {
     "name": "stdout",
     "output_type": "stream",
     "text": [
      "Count of none in videoLiveBroadcastContent: 509\n",
      "\n",
      "Count of 0 in videoFavoriteCount: 509\n",
      "\n",
      "<class 'pandas.core.frame.DataFrame'>\n",
      "RangeIndex: 509 entries, 0 to 508\n",
      "Data columns (total 43 columns):\n",
      " #   Column                       Non-Null Count  Dtype \n",
      "---  ------                       --------------  ----- \n",
      " 0   currentDate                  509 non-null    object\n",
      " 1   channelId                    509 non-null    object\n",
      " 2   channelName                  509 non-null    object\n",
      " 3   videoId                      509 non-null    object\n",
      " 4   videoTitle                   509 non-null    object\n",
      " 5   videoPublishYear             509 non-null    int64 \n",
      " 6   videoPublishMonth            509 non-null    int64 \n",
      " 7   videoPublishDay              509 non-null    int64 \n",
      " 8   videoPublishTime             509 non-null    object\n",
      " 9   videoPublishedOn             509 non-null    object\n",
      " 10  videoPublishedOnInSeconds    509 non-null    int64 \n",
      " 11  videoUniqueId                509 non-null    object\n",
      " 12  videoViewCount               509 non-null    int64 \n",
      " 13  videoLikeCount               509 non-null    int64 \n",
      " 14  videoFavoriteCount           509 non-null    int64 \n",
      " 15  videoCommentCount            509 non-null    int64 \n",
      " 16  videoDescription             509 non-null    object\n",
      " 17  videoTags                    509 non-null    object\n",
      " 18  videoCategoryId              509 non-null    int64 \n",
      " 19  videoLiveBroadcastContent    509 non-null    object\n",
      " 20  videoDefaultLanguage         259 non-null    object\n",
      " 21  videoDefaultAudioLanguage    490 non-null    object\n",
      " 22  videoDuration                509 non-null    int64 \n",
      " 23  videoDurationInSeconds       509 non-null    int64 \n",
      " 24  videoDimension               509 non-null    object\n",
      " 25  videoDefinition              509 non-null    object\n",
      " 26  videoCaption                 509 non-null    object\n",
      " 27  videoLicensedContent         509 non-null    bool  \n",
      " 28  videoProjection              509 non-null    object\n",
      " 29  channelIdUnique              509 non-null    object\n",
      " 30  channelTitleCheck            509 non-null    object\n",
      " 31  channelDescription           509 non-null    object\n",
      " 32  channelCustomUrl             509 non-null    object\n",
      " 33  channelPublishYear           509 non-null    int64 \n",
      " 34  channelPublishMonth          509 non-null    int64 \n",
      " 35  channelPublishDay            509 non-null    int64 \n",
      " 36  channelPublishTime           509 non-null    object\n",
      " 37  channelPublishedOn           509 non-null    object\n",
      " 38  channelPublishedOnInSeconds  509 non-null    int64 \n",
      " 39  channelCountry               449 non-null    object\n",
      " 40  channelViewCount             509 non-null    int64 \n",
      " 41  channelSubscriberCount       509 non-null    int64 \n",
      " 42  channelVideoCount            509 non-null    int64 \n",
      "dtypes: bool(1), int64(18), object(24)\n",
      "memory usage: 167.6+ KB\n"
     ]
    }
   ],
   "source": [
    "count= 0\n",
    "for i in Target_File['videoLiveBroadcastContent']:\n",
    "    if i == 'none':\n",
    "        count +=1\n",
    "print(f'Count of none in videoLiveBroadcastContent: {count}\\n')\n",
    "count =0\n",
    "for i in Target_File['videoFavoriteCount']:\n",
    "    if i == 0:\n",
    "        count +=1\n",
    "print(f'Count of 0 in videoFavoriteCount: {count}\\n')\n",
    "Target_File.info()"
   ]
  },
  {
   "cell_type": "code",
   "execution_count": 7,
   "id": "7514c7ac",
   "metadata": {
    "_cell_guid": "f2ab4e91-39c9-4833-b617-1a8cd895ad52",
    "_uuid": "913dec87-50e0-4e35-9cf5-3c4dd44880a8",
    "collapsed": false,
    "execution": {
     "iopub.execute_input": "2025-01-27T23:56:18.552548Z",
     "iopub.status.busy": "2025-01-27T23:56:18.552215Z",
     "iopub.status.idle": "2025-01-27T23:56:18.579645Z",
     "shell.execute_reply": "2025-01-27T23:56:18.578350Z"
    },
    "jupyter": {
     "outputs_hidden": false
    },
    "papermill": {
     "duration": 0.035067,
     "end_time": "2025-01-27T23:56:18.581587",
     "exception": false,
     "start_time": "2025-01-27T23:56:18.546520",
     "status": "completed"
    },
    "tags": []
   },
   "outputs": [
    {
     "name": "stdout",
     "output_type": "stream",
     "text": [
      "<class 'pandas.core.frame.DataFrame'>\n",
      "RangeIndex: 509 entries, 0 to 508\n",
      "Data columns (total 35 columns):\n",
      " #   Column                       Non-Null Count  Dtype \n",
      "---  ------                       --------------  ----- \n",
      " 0   currentDate                  509 non-null    object\n",
      " 1   channelId                    509 non-null    object\n",
      " 2   channelName                  509 non-null    object\n",
      " 3   videoId                      509 non-null    object\n",
      " 4   videoTitle                   509 non-null    object\n",
      " 5   videoPublishYear             509 non-null    int64 \n",
      " 6   videoPublishMonth            509 non-null    int64 \n",
      " 7   videoPublishDay              509 non-null    int64 \n",
      " 8   videoPublishTime             509 non-null    object\n",
      " 9   videoPublishedOn             509 non-null    object\n",
      " 10  videoPublishedOnInSeconds    509 non-null    int64 \n",
      " 11  videoViewCount               509 non-null    int64 \n",
      " 12  videoLikeCount               509 non-null    int64 \n",
      " 13  videoCommentCount            509 non-null    int64 \n",
      " 14  videoCategoryId              509 non-null    int64 \n",
      " 15  videoDefaultLanguage         259 non-null    object\n",
      " 16  videoDefaultAudioLanguage    490 non-null    object\n",
      " 17  videoDuration                509 non-null    int64 \n",
      " 18  videoDurationInSeconds       509 non-null    int64 \n",
      " 19  videoDimension               509 non-null    object\n",
      " 20  videoDefinition              509 non-null    object\n",
      " 21  videoCaption                 509 non-null    object\n",
      " 22  videoLicensedContent         509 non-null    bool  \n",
      " 23  videoProjection              509 non-null    object\n",
      " 24  channelCustomUrl             509 non-null    object\n",
      " 25  channelPublishYear           509 non-null    int64 \n",
      " 26  channelPublishMonth          509 non-null    int64 \n",
      " 27  channelPublishDay            509 non-null    int64 \n",
      " 28  channelPublishTime           509 non-null    object\n",
      " 29  channelPublishedOn           509 non-null    object\n",
      " 30  channelPublishedOnInSeconds  509 non-null    int64 \n",
      " 31  channelCountry               449 non-null    object\n",
      " 32  channelViewCount             509 non-null    int64 \n",
      " 33  channelSubscriberCount       509 non-null    int64 \n",
      " 34  channelVideoCount            509 non-null    int64 \n",
      "dtypes: bool(1), int64(17), object(17)\n",
      "memory usage: 135.8+ KB\n"
     ]
    }
   ],
   "source": [
    "# Dropped the columns\n",
    "Target_File = Target_File.drop(['videoDescription','videoLiveBroadcastContent','videoFavoriteCount','videoTags','videoUniqueId','channelIdUnique','channelTitleCheck','channelDescription'],axis=1)\n",
    "\n",
    "Target_File.info()\n",
    "\n",
    "# Below script prevents all columns and rows from getting truncated while display\n",
    "pd.set_option(\"display.max_columns\", None)\n",
    "pd.set_option(\"display.max_rows\",None)\n",
    "\n",
    "# Removing Duplicates\n",
    "Target_File  = Target_File.drop_duplicates(ignore_index=True)\n",
    "\n",
    "# Remving the videos which has videoDefaultAudioLanguage as None or not starts with en\n",
    "Target_File_EN = Target_File[Target_File['videoDefaultAudioLanguage'].str.startswith(\"en\",na=False)].reset_index(drop=True)\n",
    "# GroupBYLang = Target_File_EN.groupby('videoDefaultAudioLanguage').count()\n",
    "# display(GroupBYLang)\n",
    "# len(Target_File_EN)"
   ]
  },
  {
   "cell_type": "markdown",
   "id": "63f47a84",
   "metadata": {
    "_cell_guid": "913e16aa-6a92-4fd0-916e-db9859c5fa2a",
    "_uuid": "93d239ff-3f35-41b5-9f13-ebd2eec731b4",
    "collapsed": false,
    "jupyter": {
     "outputs_hidden": false
    },
    "papermill": {
     "duration": 0.010745,
     "end_time": "2025-01-27T23:56:18.597263",
     "exception": false,
     "start_time": "2025-01-27T23:56:18.586518",
     "status": "completed"
    },
    "tags": []
   },
   "source": [
    "---\n",
    "\n",
    "**Observation:**  \n",
    "\n",
    "The columns **`channelName`** and **`videoTitle`** require further processing due to the presence of:  \n",
    "- Multilingual text.  \n",
    "- Emojis and special characters.  \n",
    "\n",
    "---"
   ]
  },
  {
   "cell_type": "code",
   "execution_count": 8,
   "id": "fb5bb288",
   "metadata": {
    "_cell_guid": "7a413e3c-780e-4cc3-bb9f-43637ef83188",
    "_uuid": "219b9ecd-b28b-4c0b-a31f-2ea89a55c9dd",
    "collapsed": false,
    "execution": {
     "iopub.execute_input": "2025-01-27T23:56:18.608480Z",
     "iopub.status.busy": "2025-01-27T23:56:18.608138Z",
     "iopub.status.idle": "2025-01-27T23:56:21.580527Z",
     "shell.execute_reply": "2025-01-27T23:56:21.579606Z"
    },
    "jupyter": {
     "outputs_hidden": false
    },
    "papermill": {
     "duration": 2.980336,
     "end_time": "2025-01-27T23:56:21.582543",
     "exception": false,
     "start_time": "2025-01-27T23:56:18.602207",
     "status": "completed"
    },
    "tags": []
   },
   "outputs": [],
   "source": [
    "for i in range(len(Target_File_EN['channelName'])):\n",
    "    try:\n",
    "        # Check and translate non-ASCII characters\n",
    "        if not Target_File_EN['channelName'][i].isascii():\n",
    "            Target_File_EN.loc[i, 'channelName'] = GoogleTranslator(source='auto', target='en').translate(Target_File_EN['channelName'][i])\n",
    "        if not Target_File_EN['videoTitle'][i].isascii():\n",
    "            Target_File_EN.loc[i, 'videoTitle'] = GoogleTranslator(source='auto', target='en').translate(Target_File_EN['videoTitle'][i])\n",
    "\n",
    "        # Remove emojis\n",
    "        Target_File_EN.loc[i, 'channelName'] = emoji.replace_emoji(Target_File_EN['channelName'][i], replace='')\n",
    "        Target_File_EN.loc[i, 'videoTitle'] = emoji.replace_emoji(Target_File_EN['videoTitle'][i], replace='')\n",
    "\n",
    "        # Decode HTML entities like &amp; and &#39;\n",
    "        Target_File_EN.loc[i, 'channelName'] = html.unescape(Target_File_EN['channelName'][i])\n",
    "        Target_File_EN.loc[i, 'videoTitle'] = html.unescape(Target_File_EN['videoTitle'][i])\n",
    "\n",
    "        # Remove non-ASCII characters\n",
    "        Target_File_EN.loc[i, 'channelName'] = re.sub(r'[^\\x00-\\x7F]+', '', Target_File_EN['channelName'][i])\n",
    "        Target_File_EN.loc[i, 'videoTitle'] = re.sub(r'[^\\x00-\\x7F]+', '', Target_File_EN['videoTitle'][i])\n",
    "\n",
    "        # print(Target_File_EN['channelName'][i])\n",
    "        # print(Target_File_EN['videoTitle'][i])\n",
    "    except Exception as e:\n",
    "        print(e)\n",
    "\n",
    "# Removing Duplicates\n",
    "Target_File_EN  = Target_File_EN.drop_duplicates(ignore_index=True)"
   ]
  },
  {
   "cell_type": "code",
   "execution_count": 9,
   "id": "7b079ad6",
   "metadata": {
    "_cell_guid": "09d61f24-0fbe-4450-9cb5-85c5104fa513",
    "_uuid": "06b3daee-6194-45f0-833c-5918db6838f3",
    "collapsed": false,
    "execution": {
     "iopub.execute_input": "2025-01-27T23:56:21.593579Z",
     "iopub.status.busy": "2025-01-27T23:56:21.593248Z",
     "iopub.status.idle": "2025-01-27T23:56:21.606536Z",
     "shell.execute_reply": "2025-01-27T23:56:21.604986Z"
    },
    "jupyter": {
     "outputs_hidden": false
    },
    "papermill": {
     "duration": 0.020835,
     "end_time": "2025-01-27T23:56:21.608275",
     "exception": false,
     "start_time": "2025-01-27T23:56:21.587440",
     "status": "completed"
    },
    "tags": []
   },
   "outputs": [
    {
     "name": "stdout",
     "output_type": "stream",
     "text": [
      "<class 'pandas.core.frame.DataFrame'>\n",
      "RangeIndex: 421 entries, 0 to 420\n",
      "Data columns (total 35 columns):\n",
      " #   Column                       Non-Null Count  Dtype \n",
      "---  ------                       --------------  ----- \n",
      " 0   currentDate                  421 non-null    object\n",
      " 1   channelId                    421 non-null    object\n",
      " 2   channelName                  421 non-null    object\n",
      " 3   videoId                      421 non-null    object\n",
      " 4   videoTitle                   421 non-null    object\n",
      " 5   videoPublishYear             421 non-null    int64 \n",
      " 6   videoPublishMonth            421 non-null    int64 \n",
      " 7   videoPublishDay              421 non-null    int64 \n",
      " 8   videoPublishTime             421 non-null    object\n",
      " 9   videoPublishedOn             421 non-null    object\n",
      " 10  videoPublishedOnInSeconds    421 non-null    int64 \n",
      " 11  videoViewCount               421 non-null    int64 \n",
      " 12  videoLikeCount               421 non-null    int64 \n",
      " 13  videoCommentCount            421 non-null    int64 \n",
      " 14  videoCategoryId              421 non-null    int64 \n",
      " 15  videoDefaultLanguage         211 non-null    object\n",
      " 16  videoDefaultAudioLanguage    421 non-null    object\n",
      " 17  videoDuration                421 non-null    int64 \n",
      " 18  videoDurationInSeconds       421 non-null    int64 \n",
      " 19  videoDimension               421 non-null    object\n",
      " 20  videoDefinition              421 non-null    object\n",
      " 21  videoCaption                 421 non-null    object\n",
      " 22  videoLicensedContent         421 non-null    bool  \n",
      " 23  videoProjection              421 non-null    object\n",
      " 24  channelCustomUrl             421 non-null    object\n",
      " 25  channelPublishYear           421 non-null    int64 \n",
      " 26  channelPublishMonth          421 non-null    int64 \n",
      " 27  channelPublishDay            421 non-null    int64 \n",
      " 28  channelPublishTime           421 non-null    object\n",
      " 29  channelPublishedOn           421 non-null    object\n",
      " 30  channelPublishedOnInSeconds  421 non-null    int64 \n",
      " 31  channelCountry               373 non-null    object\n",
      " 32  channelViewCount             421 non-null    int64 \n",
      " 33  channelSubscriberCount       421 non-null    int64 \n",
      " 34  channelVideoCount            421 non-null    int64 \n",
      "dtypes: bool(1), int64(17), object(17)\n",
      "memory usage: 112.4+ KB\n"
     ]
    }
   ],
   "source": [
    "Target_File_EN.info()"
   ]
  },
  {
   "cell_type": "code",
   "execution_count": 10,
   "id": "7b7d6d47",
   "metadata": {
    "_cell_guid": "8fc332b9-8ed4-413a-af69-4e154cebc95e",
    "_uuid": "28ec50ed-1057-4f63-a16e-f909aabf1b83",
    "collapsed": false,
    "execution": {
     "iopub.execute_input": "2025-01-27T23:56:21.619382Z",
     "iopub.status.busy": "2025-01-27T23:56:21.619052Z",
     "iopub.status.idle": "2025-01-27T23:56:21.622696Z",
     "shell.execute_reply": "2025-01-27T23:56:21.621862Z"
    },
    "jupyter": {
     "outputs_hidden": false
    },
    "papermill": {
     "duration": 0.010912,
     "end_time": "2025-01-27T23:56:21.624240",
     "exception": false,
     "start_time": "2025-01-27T23:56:21.613328",
     "status": "completed"
    },
    "tags": []
   },
   "outputs": [],
   "source": [
    "# print(Target_File_EN)\n",
    "# Target_File_EN_NULL = Target_File_EN.isnull().any(axis=1)\n",
    "# null_rows = Target_File_EN[Target_File_EN_NULL]\n",
    "# display(null_rows)"
   ]
  },
  {
   "cell_type": "code",
   "execution_count": 11,
   "id": "9c03c256",
   "metadata": {
    "_cell_guid": "3d918893-eea7-41cd-a4b3-e78a6fda4b3c",
    "_uuid": "f4556821-2a4a-4706-b523-98f01976ebd8",
    "collapsed": false,
    "execution": {
     "iopub.execute_input": "2025-01-27T23:56:21.635420Z",
     "iopub.status.busy": "2025-01-27T23:56:21.635068Z",
     "iopub.status.idle": "2025-01-27T23:56:21.641652Z",
     "shell.execute_reply": "2025-01-27T23:56:21.640738Z"
    },
    "jupyter": {
     "outputs_hidden": false
    },
    "papermill": {
     "duration": 0.014103,
     "end_time": "2025-01-27T23:56:21.643309",
     "exception": false,
     "start_time": "2025-01-27T23:56:21.629206",
     "status": "completed"
    },
    "tags": []
   },
   "outputs": [],
   "source": [
    "Target_File_EN = Target_File_EN.drop(['videoDefaultLanguage'],axis=1)\n",
    "Target_File_EN['channelCountry'] = Target_File_EN['channelCountry'].fillna('Unknown')"
   ]
  },
  {
   "cell_type": "code",
   "execution_count": 12,
   "id": "74ba936d",
   "metadata": {
    "_cell_guid": "c54e2df3-a441-4cc0-a5e9-504daac1bb7b",
    "_uuid": "e6dd150b-70d1-4e52-8c84-600926543736",
    "collapsed": false,
    "execution": {
     "iopub.execute_input": "2025-01-27T23:56:21.654465Z",
     "iopub.status.busy": "2025-01-27T23:56:21.654119Z",
     "iopub.status.idle": "2025-01-27T23:56:23.119110Z",
     "shell.execute_reply": "2025-01-27T23:56:23.117871Z"
    },
    "jupyter": {
     "outputs_hidden": false
    },
    "papermill": {
     "duration": 1.472908,
     "end_time": "2025-01-27T23:56:23.121137",
     "exception": false,
     "start_time": "2025-01-27T23:56:21.648229",
     "status": "completed"
    },
    "tags": []
   },
   "outputs": [
    {
     "name": "stdout",
     "output_type": "stream",
     "text": [
      "DataFrame saved as DC_2025-01-28_05:26:21_421_records.json\n",
      "Destination directory already exists\n",
      "Push successful.\n"
     ]
    }
   ],
   "source": [
    "record_count = len(Target_File_EN)\n",
    "\n",
    "# Generate a timestamp for the file name using the current time in IST (Indian Standard Time).\n",
    "timestamp = datetime.datetime.now(ist).strftime(\"%Y-%m-%d_%H:%M:%S\")\n",
    "\n",
    "# Create a filename using the generated timestamp to ensure uniqueness with number of records.\n",
    "filename = f\"DC_{timestamp}_{record_count}_records.json\"\n",
    "\n",
    "# Save the DataFrame to a JSON file with readable formatting.\n",
    "Target_File_EN.to_json(filename, orient=\"records\", indent=4)\n",
    "print(f\"DataFrame saved as {filename}\")\n",
    "\n",
    "if not os.path.exists(destination_path):\n",
    "    # Create the destination directory if it doesn't exist\n",
    "    os.makedirs(destination_path)\n",
    "    print('created the destination directory, DataCleaning/Daily')\n",
    "    shutil.copyfile(f'/kaggle/working/{filename}', f'{destination_path}/{filename}')\n",
    "else:\n",
    "    print('Destination directory already exists')\n",
    "    shutil.copyfile(f'/kaggle/working/{filename}', f'{destination_path}/{filename}')\n",
    "\n",
    "# Initialize the repository for git operations\n",
    "repo = Repo(kaggle_repo_url)\n",
    "\n",
    "# Add the copied file to the staging area\n",
    "repo.index.add([f\"{destination_path}/{filename}\"])\n",
    "\n",
    "# Create a timestamp for the commit message\n",
    "timestamp = datetime.datetime.now(ist).strftime(\"%Y-%m-%d_%H:%M:%S\")\n",
    "# Commit the changes with a message including the timestamp\n",
    "repo.index.commit(f\"{timestamp} Added files from Kaggle notebook, {filename}\")\n",
    "\n",
    "# Push the changes to the remote repository\n",
    "origin = repo.remote(name=\"origin\")\n",
    "push_result = origin.push()\n",
    "if push_result:\n",
    "    print(\"Push successful.\")\n",
    "else:\n",
    "    print(\"Push failed.\")"
   ]
  }
 ],
 "metadata": {
  "kaggle": {
   "accelerator": "none",
   "dataSources": [],
   "dockerImageVersionId": 30839,
   "isGpuEnabled": false,
   "isInternetEnabled": true,
   "language": "python",
   "sourceType": "notebook"
  },
  "kernelspec": {
   "display_name": "Python 3",
   "language": "python",
   "name": "python3"
  },
  "language_info": {
   "codemirror_mode": {
    "name": "ipython",
    "version": 3
   },
   "file_extension": ".py",
   "mimetype": "text/x-python",
   "name": "python",
   "nbconvert_exporter": "python",
   "pygments_lexer": "ipython3",
   "version": "3.10.12"
  },
  "papermill": {
   "default_parameters": {},
   "duration": 22.881029,
   "end_time": "2025-01-27T23:56:23.848092",
   "environment_variables": {},
   "exception": null,
   "input_path": "__notebook__.ipynb",
   "output_path": "__notebook__.ipynb",
   "parameters": {},
   "start_time": "2025-01-27T23:56:00.967063",
   "version": "2.6.0"
  }
 },
 "nbformat": 4,
 "nbformat_minor": 5
}
