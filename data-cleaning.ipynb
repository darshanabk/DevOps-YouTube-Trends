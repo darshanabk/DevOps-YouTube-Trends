{
 "cells": [
  {
   "cell_type": "code",
   "execution_count": 1,
   "id": "2c2df70a",
   "metadata": {
    "execution": {
     "iopub.execute_input": "2025-01-28T14:24:42.776685Z",
     "iopub.status.busy": "2025-01-28T14:24:42.776194Z",
     "iopub.status.idle": "2025-01-28T14:24:52.735630Z",
     "shell.execute_reply": "2025-01-28T14:24:52.733787Z"
    },
    "papermill": {
     "duration": 9.968601,
     "end_time": "2025-01-28T14:24:52.738385",
     "exception": false,
     "start_time": "2025-01-28T14:24:42.769784",
     "status": "completed"
    },
    "tags": []
   },
   "outputs": [
    {
     "name": "stdout",
     "output_type": "stream",
     "text": [
      "Collecting deep_translator\r\n",
      "  Downloading deep_translator-1.11.4-py3-none-any.whl.metadata (30 kB)\r\n",
      "Requirement already satisfied: beautifulsoup4<5.0.0,>=4.9.1 in /usr/local/lib/python3.10/dist-packages (from deep_translator) (4.12.3)\r\n",
      "Requirement already satisfied: requests<3.0.0,>=2.23.0 in /usr/local/lib/python3.10/dist-packages (from deep_translator) (2.32.3)\r\n",
      "Requirement already satisfied: soupsieve>1.2 in /usr/local/lib/python3.10/dist-packages (from beautifulsoup4<5.0.0,>=4.9.1->deep_translator) (2.6)\r\n",
      "Requirement already satisfied: charset-normalizer<4,>=2 in /usr/local/lib/python3.10/dist-packages (from requests<3.0.0,>=2.23.0->deep_translator) (3.4.0)\r\n",
      "Requirement already satisfied: idna<4,>=2.5 in /usr/local/lib/python3.10/dist-packages (from requests<3.0.0,>=2.23.0->deep_translator) (3.10)\r\n",
      "Requirement already satisfied: urllib3<3,>=1.21.1 in /usr/local/lib/python3.10/dist-packages (from requests<3.0.0,>=2.23.0->deep_translator) (2.2.3)\r\n",
      "Requirement already satisfied: certifi>=2017.4.17 in /usr/local/lib/python3.10/dist-packages (from requests<3.0.0,>=2.23.0->deep_translator) (2024.12.14)\r\n",
      "Downloading deep_translator-1.11.4-py3-none-any.whl (42 kB)\r\n",
      "\u001b[2K   \u001b[90m━━━━━━━━━━━━━━━━━━━━━━━━━━━━━━━━━━━━━━━━\u001b[0m \u001b[32m42.3/42.3 kB\u001b[0m \u001b[31m2.2 MB/s\u001b[0m eta \u001b[36m0:00:00\u001b[0m\r\n",
      "\u001b[?25hInstalling collected packages: deep_translator\r\n",
      "Successfully installed deep_translator-1.11.4\r\n",
      "Requirement already satisfied: emoji in /usr/local/lib/python3.10/dist-packages (2.14.0)\r\n"
     ]
    }
   ],
   "source": [
    "!pip install deep_translator\n",
    "!pip install emoji"
   ]
  },
  {
   "cell_type": "code",
   "execution_count": 2,
   "id": "abc5df19",
   "metadata": {
    "execution": {
     "iopub.execute_input": "2025-01-28T14:24:52.749849Z",
     "iopub.status.busy": "2025-01-28T14:24:52.749478Z",
     "iopub.status.idle": "2025-01-28T14:24:52.756112Z",
     "shell.execute_reply": "2025-01-28T14:24:52.754781Z"
    },
    "papermill": {
     "duration": 0.014381,
     "end_time": "2025-01-28T14:24:52.757947",
     "exception": false,
     "start_time": "2025-01-28T14:24:52.743566",
     "status": "completed"
    },
    "tags": []
   },
   "outputs": [],
   "source": [
    "def Source_File_Extraction(repo_url,kaggle_repo_url):\n",
    "    if os.path.exists(kaggle_repo_url):\n",
    "        print(\"Already cloned and the repo file exists\")\n",
    "        repo = git.Repo(kaggle_repo_url)  # Access the existing repository\n",
    "        origin = repo.remote(name='origin')  # Get the remote repository\n",
    "        origin.pull()  # Pull the latest changes from the repository\n",
    "        print(\"Successfully pulled the git repo before push\")\n",
    "    else:\n",
    "        # Clone the repository if it doesn't exist\n",
    "        repo = git.Repo.clone_from(repo_url, kaggle_repo_url)\n",
    "        print(\"Successfully cloned the git repo\")\n",
    "    output_files = os.listdir(source_path)\n",
    "    Target_File = max([i for i in output_files if i.startswith(\"S_\") and i.endswith('records.json')])\n",
    "    Target_File = pd.read_json(f'{source_path}/{Target_File}')\n",
    "    return Target_File"
   ]
  },
  {
   "cell_type": "markdown",
   "id": "40db5756",
   "metadata": {
    "_cell_guid": "77403444-565c-4629-8e75-963d39346ad0",
    "_uuid": "d21d04f3-0df2-4b2e-a435-a0f1812db540",
    "collapsed": false,
    "jupyter": {
     "outputs_hidden": false
    },
    "papermill": {
     "duration": 0.004847,
     "end_time": "2025-01-28T14:24:52.768411",
     "exception": false,
     "start_time": "2025-01-28T14:24:52.763564",
     "status": "completed"
    },
    "tags": []
   },
   "source": [
    "---\n",
    "**Observation:**  \n",
    "\n",
    "1. Null values are present in the following columns:\n",
    "   - **`videoDefaultLanguage`**  (will be dropped after data cleaning)\n",
    "   - **`videoDefaultAudioLanguage`** \n",
    "   - **`channelCountry`**\n",
    "\n",
    "---\n",
    "\n",
    "2. The following columns will be dropped as part of data cleaning:\n",
    "   - **`videoDescription`**: Reserved for analysis in future NLP project with a broader dataset.  \n",
    "   - **`videoLiveBroadcastContent`**: All values are `'none'`, providing no variability or insights. \n",
    "   - **`videoFavoriteCount`**: All values are `0`, making it redundant.  \n",
    "   - **`videoTags`**: Reserved for analysis in future NLP project with a broader dataset.  \n",
    "   - **`videoUniqueId`**: Identified as a duplicate column.  \n",
    "   - **`channelIdUnique`**: Identified as a duplicate column.  \n",
    "   - **`channelTitleCheck`**: Identified as a duplicate column.  \n",
    "   - **`channelDescription`**: Reserved for analysis in future NLP project with a broader dataset.\n",
    "---\n",
    "\n",
    "3. The columns **`channelName`** and **`videoTitle`** require further processing due to the presence of:\n",
    "    - Multilingual text.  \n",
    "    - Emojis and special characters.  \n",
    "\n",
    "---"
   ]
  },
  {
   "cell_type": "markdown",
   "id": "7e788ae5",
   "metadata": {
    "_cell_guid": "913e16aa-6a92-4fd0-916e-db9859c5fa2a",
    "_uuid": "93d239ff-3f35-41b5-9f13-ebd2eec731b4",
    "collapsed": false,
    "jupyter": {
     "outputs_hidden": false
    },
    "papermill": {
     "duration": 0.005335,
     "end_time": "2025-01-28T14:24:52.778858",
     "exception": false,
     "start_time": "2025-01-28T14:24:52.773523",
     "status": "completed"
    },
    "tags": []
   },
   "source": [
    "---\n",
    "\n"
   ]
  },
  {
   "cell_type": "code",
   "execution_count": 3,
   "id": "d7b7099a",
   "metadata": {
    "execution": {
     "iopub.execute_input": "2025-01-28T14:24:52.790226Z",
     "iopub.status.busy": "2025-01-28T14:24:52.789841Z",
     "iopub.status.idle": "2025-01-28T14:24:52.800524Z",
     "shell.execute_reply": "2025-01-28T14:24:52.798887Z"
    },
    "papermill": {
     "duration": 0.0188,
     "end_time": "2025-01-28T14:24:52.802480",
     "exception": false,
     "start_time": "2025-01-28T14:24:52.783680",
     "status": "completed"
    },
    "tags": []
   },
   "outputs": [],
   "source": [
    "def DataCleaning(Target_File):\n",
    "    # Dropped the columns\n",
    "    Target_File = Target_File.drop(['videoDescription','videoLiveBroadcastContent','videoFavoriteCount','videoTags','videoUniqueId','channelIdUnique','channelTitleCheck','channelDescription'],axis=1)\n",
    "    \n",
    "    # Removing Duplicates\n",
    "    Target_File  = Target_File.drop_duplicates(ignore_index=True)\n",
    "    \n",
    "    # Remving the videos which has videoDefaultAudioLanguage as None or not starts with en\n",
    "    Target_File_EN = Target_File[Target_File['videoDefaultAudioLanguage'].str.startswith(\"en\",na=False)].reset_index(drop=True)\n",
    "\n",
    "    for i in range(len(Target_File_EN['channelName'])):\n",
    "        try:\n",
    "            # Check and translate non-ASCII characters\n",
    "            if not Target_File_EN['channelName'][i].isascii():\n",
    "                Target_File_EN.loc[i, 'channelName'] = GoogleTranslator(source='auto', target='en').translate(Target_File_EN['channelName'][i])\n",
    "            if not Target_File_EN['videoTitle'][i].isascii():\n",
    "                Target_File_EN.loc[i, 'videoTitle'] = GoogleTranslator(source='auto', target='en').translate(Target_File_EN['videoTitle'][i])\n",
    "    \n",
    "            # Remove emojis\n",
    "            Target_File_EN.loc[i, 'channelName'] = emoji.replace_emoji(Target_File_EN['channelName'][i], replace='')\n",
    "            Target_File_EN.loc[i, 'videoTitle'] = emoji.replace_emoji(Target_File_EN['videoTitle'][i], replace='')\n",
    "    \n",
    "            # Decode HTML entities like &amp; and &#39;\n",
    "            Target_File_EN.loc[i, 'channelName'] = html.unescape(Target_File_EN['channelName'][i])\n",
    "            Target_File_EN.loc[i, 'videoTitle'] = html.unescape(Target_File_EN['videoTitle'][i])\n",
    "    \n",
    "            # Remove non-ASCII characters\n",
    "            Target_File_EN.loc[i, 'channelName'] = re.sub(r'[^\\x00-\\x7F]+', '', Target_File_EN['channelName'][i])\n",
    "            Target_File_EN.loc[i, 'videoTitle'] = re.sub(r'[^\\x00-\\x7F]+', '', Target_File_EN['videoTitle'][i])\n",
    "    \n",
    "            # print(Target_File_EN['channelName'][i])\n",
    "            # print(Target_File_EN['videoTitle'][i])\n",
    "        except Exception as e:\n",
    "            print(e)\n",
    "    \n",
    "    # Removing Duplicates\n",
    "    Target_File_EN  = Target_File_EN.drop_duplicates(ignore_index=True)\n",
    "    Target_File_EN = Target_File_EN.drop(['videoDefaultLanguage'],axis=1)\n",
    "    Target_File_EN['channelCountry'] = Target_File_EN['channelCountry'].fillna('Unknown')\n",
    "    return Target_File_EN\n"
   ]
  },
  {
   "cell_type": "code",
   "execution_count": 4,
   "id": "e90838ec",
   "metadata": {
    "_cell_guid": "c54e2df3-a441-4cc0-a5e9-504daac1bb7b",
    "_uuid": "e6dd150b-70d1-4e52-8c84-600926543736",
    "collapsed": false,
    "execution": {
     "iopub.execute_input": "2025-01-28T14:24:52.813716Z",
     "iopub.status.busy": "2025-01-28T14:24:52.813316Z",
     "iopub.status.idle": "2025-01-28T14:24:52.820260Z",
     "shell.execute_reply": "2025-01-28T14:24:52.819306Z"
    },
    "jupyter": {
     "outputs_hidden": false
    },
    "papermill": {
     "duration": 0.014582,
     "end_time": "2025-01-28T14:24:52.821947",
     "exception": false,
     "start_time": "2025-01-28T14:24:52.807365",
     "status": "completed"
    },
    "tags": []
   },
   "outputs": [],
   "source": [
    "def GitHubPush(Target_File_EN):\n",
    "    record_count = len(Target_File_EN)\n",
    "    \n",
    "    # Generate a timestamp for the file name using the current time in IST (Indian Standard Time).\n",
    "    timestamp = datetime.datetime.now(ist).strftime(\"%Y-%m-%d_%H:%M:%S\")\n",
    "    \n",
    "    # Create a filename using the generated timestamp to ensure uniqueness with number of records.\n",
    "    filename = f\"DC_{timestamp}_{record_count}_records.json\"\n",
    "    \n",
    "    # Save the DataFrame to a JSON file with readable formatting.\n",
    "    Target_File_EN.to_json(filename, orient=\"records\", indent=4)\n",
    "    print(f\"DataFrame saved as {filename}\")\n",
    "    \n",
    "    if not os.path.exists(destination_path):\n",
    "        # Create the destination directory if it doesn't exist\n",
    "        os.makedirs(destination_path)\n",
    "        print('created the destination directory, DataCleaning/Daily')\n",
    "        shutil.copyfile(f'/kaggle/working/{filename}', f'{destination_path}/{filename}')\n",
    "    else:\n",
    "        print('Destination directory already exists')\n",
    "        shutil.copyfile(f'/kaggle/working/{filename}', f'{destination_path}/{filename}')\n",
    "    \n",
    "    # Initialize the repository for git operations\n",
    "    repo = Repo(kaggle_repo_url)\n",
    "    \n",
    "    # Add the copied file to the staging area\n",
    "    repo.index.add([f\"{destination_path}/{filename}\"])\n",
    "    \n",
    "    # Create a timestamp for the commit message\n",
    "    timestamp = datetime.datetime.now(ist).strftime(\"%Y-%m-%d_%H:%M:%S\")\n",
    "    # Commit the changes with a message including the timestamp\n",
    "    repo.index.commit(f\"{timestamp} Added files from Kaggle notebook, {filename}\")\n",
    "    \n",
    "    # Push the changes to the remote repository\n",
    "    origin = repo.remote(name=\"origin\")\n",
    "    push_result = origin.push()\n",
    "    if push_result:\n",
    "        print(\"Push successful.\")\n",
    "    else:\n",
    "        print(\"Push failed.\")"
   ]
  },
  {
   "cell_type": "code",
   "execution_count": 5,
   "id": "ab68c150",
   "metadata": {
    "execution": {
     "iopub.execute_input": "2025-01-28T14:24:52.833380Z",
     "iopub.status.busy": "2025-01-28T14:24:52.833003Z",
     "iopub.status.idle": "2025-01-28T14:24:52.837638Z",
     "shell.execute_reply": "2025-01-28T14:24:52.836473Z"
    },
    "papermill": {
     "duration": 0.012607,
     "end_time": "2025-01-28T14:24:52.839916",
     "exception": false,
     "start_time": "2025-01-28T14:24:52.827309",
     "status": "completed"
    },
    "tags": []
   },
   "outputs": [],
   "source": [
    "def main():\n",
    "    Source_File = Source_File_Extraction(repo_url,kaggle_repo_url)\n",
    "    Cleaned_File = DataCleaning(Source_File)\n",
    "    GitHubPush(Cleaned_File)"
   ]
  },
  {
   "cell_type": "code",
   "execution_count": 6,
   "id": "aa02eac8",
   "metadata": {
    "execution": {
     "iopub.execute_input": "2025-01-28T14:24:52.850881Z",
     "iopub.status.busy": "2025-01-28T14:24:52.850545Z",
     "iopub.status.idle": "2025-01-28T14:25:19.779997Z",
     "shell.execute_reply": "2025-01-28T14:25:19.778864Z"
    },
    "papermill": {
     "duration": 26.93732,
     "end_time": "2025-01-28T14:25:19.782122",
     "exception": false,
     "start_time": "2025-01-28T14:24:52.844802",
     "status": "completed"
    },
    "tags": []
   },
   "outputs": [
    {
     "name": "stdout",
     "output_type": "stream",
     "text": [
      "Successfully cloned the git repo\n",
      "DataFrame saved as DC_2025-01-28_19:55:17_402_records.json\n",
      "Destination directory already exists\n",
      "Push successful.\n"
     ]
    }
   ],
   "source": [
    "if __name__ == \"__main__\":\n",
    "    import os  \n",
    "    import git \n",
    "    from git import Repo  \n",
    "    import datetime  \n",
    "    from pytz import timezone\n",
    "    import pandas as pd\n",
    "    import deep_translator\n",
    "    from deep_translator import GoogleTranslator\n",
    "    from pytz import timezone \n",
    "    import shutil\n",
    "    import emoji\n",
    "    import re\n",
    "    import html\n",
    "    from kaggle_secrets import UserSecretsClient\n",
    "    user_secrets = UserSecretsClient()\n",
    "    secret_value_0 = user_secrets.get_secret(\"dataCleanRepoUrl\")\n",
    "    repo_url = secret_value_0\n",
    "    ist = timezone('Asia/Kolkata')\n",
    "    kaggle_repo_url = '/kaggle/working/YouTubeFoodChannelAnalysis'\n",
    "    destination_path = '/kaggle/working/YouTubeFoodChannelAnalysis/DataCleaning/Daily'\n",
    "    source_path = '/kaggle/working/YouTubeFoodChannelAnalysis/Source/Daily'\n",
    "    main()"
   ]
  },
  {
   "cell_type": "code",
   "execution_count": 7,
   "id": "41c53b0a",
   "metadata": {
    "_cell_guid": "83efa5a5-11c5-4bf5-a856-d85cf2bd4db9",
    "_uuid": "e1f4feae-c6ca-4c66-9100-154746a080b0",
    "collapsed": false,
    "execution": {
     "iopub.execute_input": "2025-01-28T14:25:19.793601Z",
     "iopub.status.busy": "2025-01-28T14:25:19.793183Z",
     "iopub.status.idle": "2025-01-28T14:25:19.797225Z",
     "shell.execute_reply": "2025-01-28T14:25:19.796163Z"
    },
    "jupyter": {
     "outputs_hidden": false
    },
    "papermill": {
     "duration": 0.011564,
     "end_time": "2025-01-28T14:25:19.798911",
     "exception": false,
     "start_time": "2025-01-28T14:25:19.787347",
     "status": "completed"
    },
    "tags": []
   },
   "outputs": [],
   "source": [
    "# count= 0\n",
    "# for i in Target_File['videoLiveBroadcastContent']:\n",
    "#     if i == 'none':\n",
    "#         count +=1\n",
    "# print(f'Count of none in videoLiveBroadcastContent: {count}\\n')\n",
    "# count =0\n",
    "# for i in Target_File['videoFavoriteCount']:\n",
    "#     if i == 0:\n",
    "#         count +=1\n",
    "# print(f'Count of 0 in videoFavoriteCount: {count}\\n')\n",
    "# Target_File.info()"
   ]
  },
  {
   "cell_type": "code",
   "execution_count": 8,
   "id": "c8906742",
   "metadata": {
    "_cell_guid": "f2ab4e91-39c9-4833-b617-1a8cd895ad52",
    "_uuid": "913dec87-50e0-4e35-9cf5-3c4dd44880a8",
    "collapsed": false,
    "execution": {
     "iopub.execute_input": "2025-01-28T14:25:19.810242Z",
     "iopub.status.busy": "2025-01-28T14:25:19.809863Z",
     "iopub.status.idle": "2025-01-28T14:25:19.814064Z",
     "shell.execute_reply": "2025-01-28T14:25:19.812966Z"
    },
    "jupyter": {
     "outputs_hidden": false
    },
    "papermill": {
     "duration": 0.011561,
     "end_time": "2025-01-28T14:25:19.815640",
     "exception": false,
     "start_time": "2025-01-28T14:25:19.804079",
     "status": "completed"
    },
    "tags": []
   },
   "outputs": [],
   "source": [
    "# # Dropped the columns\n",
    "# Target_File = Target_File.drop(['videoDescription','videoLiveBroadcastContent','videoFavoriteCount','videoTags','videoUniqueId','channelIdUnique','channelTitleCheck','channelDescription'],axis=1)\n",
    "\n",
    "# Target_File.info()\n",
    "\n",
    "# # Below script prevents all columns and rows from getting truncated while display\n",
    "# pd.set_option(\"display.max_columns\", None)\n",
    "# pd.set_option(\"display.max_rows\",None)\n",
    "\n",
    "# # Removing Duplicates\n",
    "# Target_File  = Target_File.drop_duplicates(ignore_index=True)\n",
    "\n",
    "# # Remving the videos which has videoDefaultAudioLanguage as None or not starts with en\n",
    "# Target_File_EN = Target_File[Target_File['videoDefaultAudioLanguage'].str.startswith(\"en\",na=False)].reset_index(drop=True)\n",
    "# # GroupBYLang = Target_File_EN.groupby('videoDefaultAudioLanguage').count()\n",
    "# # display(GroupBYLang)\n",
    "# # len(Target_File_EN)"
   ]
  },
  {
   "cell_type": "code",
   "execution_count": 9,
   "id": "4e960838",
   "metadata": {
    "_cell_guid": "7a413e3c-780e-4cc3-bb9f-43637ef83188",
    "_uuid": "219b9ecd-b28b-4c0b-a31f-2ea89a55c9dd",
    "collapsed": false,
    "execution": {
     "iopub.execute_input": "2025-01-28T14:25:19.826837Z",
     "iopub.status.busy": "2025-01-28T14:25:19.826476Z",
     "iopub.status.idle": "2025-01-28T14:25:19.831090Z",
     "shell.execute_reply": "2025-01-28T14:25:19.829807Z"
    },
    "jupyter": {
     "outputs_hidden": false
    },
    "papermill": {
     "duration": 0.012171,
     "end_time": "2025-01-28T14:25:19.832800",
     "exception": false,
     "start_time": "2025-01-28T14:25:19.820629",
     "status": "completed"
    },
    "tags": []
   },
   "outputs": [],
   "source": [
    "# for i in range(len(Target_File_EN['channelName'])):\n",
    "#     try:\n",
    "#         # Check and translate non-ASCII characters\n",
    "#         if not Target_File_EN['channelName'][i].isascii():\n",
    "#             Target_File_EN.loc[i, 'channelName'] = GoogleTranslator(source='auto', target='en').translate(Target_File_EN['channelName'][i])\n",
    "#         if not Target_File_EN['videoTitle'][i].isascii():\n",
    "#             Target_File_EN.loc[i, 'videoTitle'] = GoogleTranslator(source='auto', target='en').translate(Target_File_EN['videoTitle'][i])\n",
    "\n",
    "#         # Remove emojis\n",
    "#         Target_File_EN.loc[i, 'channelName'] = emoji.replace_emoji(Target_File_EN['channelName'][i], replace='')\n",
    "#         Target_File_EN.loc[i, 'videoTitle'] = emoji.replace_emoji(Target_File_EN['videoTitle'][i], replace='')\n",
    "\n",
    "#         # Decode HTML entities like &amp; and &#39;\n",
    "#         Target_File_EN.loc[i, 'channelName'] = html.unescape(Target_File_EN['channelName'][i])\n",
    "#         Target_File_EN.loc[i, 'videoTitle'] = html.unescape(Target_File_EN['videoTitle'][i])\n",
    "\n",
    "#         # Remove non-ASCII characters\n",
    "#         Target_File_EN.loc[i, 'channelName'] = re.sub(r'[^\\x00-\\x7F]+', '', Target_File_EN['channelName'][i])\n",
    "#         Target_File_EN.loc[i, 'videoTitle'] = re.sub(r'[^\\x00-\\x7F]+', '', Target_File_EN['videoTitle'][i])\n",
    "\n",
    "#         # print(Target_File_EN['channelName'][i])\n",
    "#         # print(Target_File_EN['videoTitle'][i])\n",
    "#     except Exception as e:\n",
    "#         print(e)\n",
    "\n",
    "# # Removing Duplicates\n",
    "# Target_File_EN  = Target_File_EN.drop_duplicates(ignore_index=True)"
   ]
  },
  {
   "cell_type": "code",
   "execution_count": 10,
   "id": "36093131",
   "metadata": {
    "_cell_guid": "09d61f24-0fbe-4450-9cb5-85c5104fa513",
    "_uuid": "06b3daee-6194-45f0-833c-5918db6838f3",
    "collapsed": false,
    "execution": {
     "iopub.execute_input": "2025-01-28T14:25:19.843956Z",
     "iopub.status.busy": "2025-01-28T14:25:19.843617Z",
     "iopub.status.idle": "2025-01-28T14:25:19.847560Z",
     "shell.execute_reply": "2025-01-28T14:25:19.846572Z"
    },
    "jupyter": {
     "outputs_hidden": false
    },
    "papermill": {
     "duration": 0.011225,
     "end_time": "2025-01-28T14:25:19.849091",
     "exception": false,
     "start_time": "2025-01-28T14:25:19.837866",
     "status": "completed"
    },
    "tags": []
   },
   "outputs": [],
   "source": [
    "# Target_File_EN.info()"
   ]
  },
  {
   "cell_type": "code",
   "execution_count": 11,
   "id": "d9ac9276",
   "metadata": {
    "_cell_guid": "8fc332b9-8ed4-413a-af69-4e154cebc95e",
    "_uuid": "28ec50ed-1057-4f63-a16e-f909aabf1b83",
    "collapsed": false,
    "execution": {
     "iopub.execute_input": "2025-01-28T14:25:19.859984Z",
     "iopub.status.busy": "2025-01-28T14:25:19.859650Z",
     "iopub.status.idle": "2025-01-28T14:25:19.863551Z",
     "shell.execute_reply": "2025-01-28T14:25:19.862512Z"
    },
    "jupyter": {
     "outputs_hidden": false
    },
    "papermill": {
     "duration": 0.011293,
     "end_time": "2025-01-28T14:25:19.865242",
     "exception": false,
     "start_time": "2025-01-28T14:25:19.853949",
     "status": "completed"
    },
    "tags": []
   },
   "outputs": [],
   "source": [
    "# print(Target_File_EN)\n",
    "# Target_File_EN_NULL = Target_File_EN.isnull().any(axis=1)\n",
    "# null_rows = Target_File_EN[Target_File_EN_NULL]\n",
    "# display(null_rows)"
   ]
  },
  {
   "cell_type": "code",
   "execution_count": 12,
   "id": "fc399c3f",
   "metadata": {
    "_cell_guid": "3d918893-eea7-41cd-a4b3-e78a6fda4b3c",
    "_uuid": "f4556821-2a4a-4706-b523-98f01976ebd8",
    "collapsed": false,
    "execution": {
     "iopub.execute_input": "2025-01-28T14:25:19.876339Z",
     "iopub.status.busy": "2025-01-28T14:25:19.875978Z",
     "iopub.status.idle": "2025-01-28T14:25:19.880720Z",
     "shell.execute_reply": "2025-01-28T14:25:19.879771Z"
    },
    "jupyter": {
     "outputs_hidden": false
    },
    "papermill": {
     "duration": 0.01203,
     "end_time": "2025-01-28T14:25:19.882319",
     "exception": false,
     "start_time": "2025-01-28T14:25:19.870289",
     "status": "completed"
    },
    "tags": []
   },
   "outputs": [],
   "source": [
    "# Target_File_EN = Target_File_EN.drop(['videoDefaultLanguage'],axis=1)\n",
    "# Target_File_EN['channelCountry'] = Target_File_EN['channelCountry'].fillna('Unknown')"
   ]
  },
  {
   "cell_type": "code",
   "execution_count": 13,
   "id": "c3dfe4ea",
   "metadata": {
    "execution": {
     "iopub.execute_input": "2025-01-28T14:25:19.893578Z",
     "iopub.status.busy": "2025-01-28T14:25:19.893233Z",
     "iopub.status.idle": "2025-01-28T14:25:19.897203Z",
     "shell.execute_reply": "2025-01-28T14:25:19.896159Z"
    },
    "papermill": {
     "duration": 0.011383,
     "end_time": "2025-01-28T14:25:19.898833",
     "exception": false,
     "start_time": "2025-01-28T14:25:19.887450",
     "status": "completed"
    },
    "tags": []
   },
   "outputs": [],
   "source": [
    "# from datetime import timedelta\n",
    "# print(timedelta(hours=90, minutes=39, seconds=56))\n",
    "# print(90*3600+39*60+56)"
   ]
  },
  {
   "cell_type": "code",
   "execution_count": 14,
   "id": "edc4e745",
   "metadata": {
    "execution": {
     "iopub.execute_input": "2025-01-28T14:25:19.909781Z",
     "iopub.status.busy": "2025-01-28T14:25:19.909371Z",
     "iopub.status.idle": "2025-01-28T14:25:19.913388Z",
     "shell.execute_reply": "2025-01-28T14:25:19.912379Z"
    },
    "papermill": {
     "duration": 0.011443,
     "end_time": "2025-01-28T14:25:19.915083",
     "exception": false,
     "start_time": "2025-01-28T14:25:19.903640",
     "status": "completed"
    },
    "tags": []
   },
   "outputs": [],
   "source": [
    "# Target_File_EN.head()"
   ]
  }
 ],
 "metadata": {
  "kaggle": {
   "accelerator": "none",
   "dataSources": [],
   "dockerImageVersionId": 30839,
   "isGpuEnabled": false,
   "isInternetEnabled": true,
   "language": "python",
   "sourceType": "notebook"
  },
  "kernelspec": {
   "display_name": "Python 3",
   "language": "python",
   "name": "python3"
  },
  "language_info": {
   "codemirror_mode": {
    "name": "ipython",
    "version": 3
   },
   "file_extension": ".py",
   "mimetype": "text/x-python",
   "name": "python",
   "nbconvert_exporter": "python",
   "pygments_lexer": "ipython3",
   "version": "3.10.12"
  },
  "papermill": {
   "default_parameters": {},
   "duration": 40.710397,
   "end_time": "2025-01-28T14:25:20.641370",
   "environment_variables": {},
   "exception": null,
   "input_path": "__notebook__.ipynb",
   "output_path": "__notebook__.ipynb",
   "parameters": {},
   "start_time": "2025-01-28T14:24:39.930973",
   "version": "2.6.0"
  }
 },
 "nbformat": 4,
 "nbformat_minor": 5
}
