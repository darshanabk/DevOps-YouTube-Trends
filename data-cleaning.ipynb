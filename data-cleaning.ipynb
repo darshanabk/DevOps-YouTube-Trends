{
 "cells": [
  {
   "cell_type": "code",
   "execution_count": 1,
   "id": "b3b09c3b",
   "metadata": {
    "execution": {
     "iopub.execute_input": "2025-01-28T04:52:25.961133Z",
     "iopub.status.busy": "2025-01-28T04:52:25.960623Z",
     "iopub.status.idle": "2025-01-28T04:52:36.470902Z",
     "shell.execute_reply": "2025-01-28T04:52:36.469536Z"
    },
    "papermill": {
     "duration": 10.518763,
     "end_time": "2025-01-28T04:52:36.473132",
     "exception": false,
     "start_time": "2025-01-28T04:52:25.954369",
     "status": "completed"
    },
    "tags": []
   },
   "outputs": [
    {
     "name": "stdout",
     "output_type": "stream",
     "text": [
      "Collecting deep_translator\r\n",
      "  Downloading deep_translator-1.11.4-py3-none-any.whl.metadata (30 kB)\r\n",
      "Requirement already satisfied: beautifulsoup4<5.0.0,>=4.9.1 in /usr/local/lib/python3.10/dist-packages (from deep_translator) (4.12.3)\r\n",
      "Requirement already satisfied: requests<3.0.0,>=2.23.0 in /usr/local/lib/python3.10/dist-packages (from deep_translator) (2.32.3)\r\n",
      "Requirement already satisfied: soupsieve>1.2 in /usr/local/lib/python3.10/dist-packages (from beautifulsoup4<5.0.0,>=4.9.1->deep_translator) (2.6)\r\n",
      "Requirement already satisfied: charset-normalizer<4,>=2 in /usr/local/lib/python3.10/dist-packages (from requests<3.0.0,>=2.23.0->deep_translator) (3.4.0)\r\n",
      "Requirement already satisfied: idna<4,>=2.5 in /usr/local/lib/python3.10/dist-packages (from requests<3.0.0,>=2.23.0->deep_translator) (3.10)\r\n",
      "Requirement already satisfied: urllib3<3,>=1.21.1 in /usr/local/lib/python3.10/dist-packages (from requests<3.0.0,>=2.23.0->deep_translator) (2.2.3)\r\n",
      "Requirement already satisfied: certifi>=2017.4.17 in /usr/local/lib/python3.10/dist-packages (from requests<3.0.0,>=2.23.0->deep_translator) (2024.12.14)\r\n",
      "Downloading deep_translator-1.11.4-py3-none-any.whl (42 kB)\r\n",
      "\u001b[2K   \u001b[90m━━━━━━━━━━━━━━━━━━━━━━━━━━━━━━━━━━━━━━━━\u001b[0m \u001b[32m42.3/42.3 kB\u001b[0m \u001b[31m1.7 MB/s\u001b[0m eta \u001b[36m0:00:00\u001b[0m\r\n",
      "\u001b[?25hInstalling collected packages: deep_translator\r\n",
      "Successfully installed deep_translator-1.11.4\r\n",
      "Requirement already satisfied: emoji in /usr/local/lib/python3.10/dist-packages (2.14.0)\r\n"
     ]
    }
   ],
   "source": [
    "!pip install deep_translator\n",
    "!pip install emoji"
   ]
  },
  {
   "cell_type": "code",
   "execution_count": 2,
   "id": "e99ce825",
   "metadata": {
    "execution": {
     "iopub.execute_input": "2025-01-28T04:52:36.484377Z",
     "iopub.status.busy": "2025-01-28T04:52:36.484030Z",
     "iopub.status.idle": "2025-01-28T04:52:36.490782Z",
     "shell.execute_reply": "2025-01-28T04:52:36.489637Z"
    },
    "papermill": {
     "duration": 0.014109,
     "end_time": "2025-01-28T04:52:36.492433",
     "exception": false,
     "start_time": "2025-01-28T04:52:36.478324",
     "status": "completed"
    },
    "tags": []
   },
   "outputs": [],
   "source": [
    "def Source_File_Extraction(repo_url,kaggle_repo_url):\n",
    "    if os.path.exists(kaggle_repo_url):\n",
    "        print(\"Already cloned and the repo file exists\")\n",
    "        repo = git.Repo(kaggle_repo_url)  # Access the existing repository\n",
    "        origin = repo.remote(name='origin')  # Get the remote repository\n",
    "        origin.pull()  # Pull the latest changes from the repository\n",
    "        print(\"Successfully pulled the git repo before push\")\n",
    "    else:\n",
    "        # Clone the repository if it doesn't exist\n",
    "        repo = git.Repo.clone_from(repo_url, kaggle_repo_url)\n",
    "        print(\"Successfully cloned the git repo\")\n",
    "    output_files = os.listdir(source_path)\n",
    "    Target_File = max([i for i in output_files if i.startswith(\"S_\") and i.endswith('records.json')])\n",
    "    Target_File = pd.read_json(f'{source_path}/{Target_File}')\n",
    "    return Target_File"
   ]
  },
  {
   "cell_type": "markdown",
   "id": "3b1086c5",
   "metadata": {
    "_cell_guid": "77403444-565c-4629-8e75-963d39346ad0",
    "_uuid": "d21d04f3-0df2-4b2e-a435-a0f1812db540",
    "collapsed": false,
    "jupyter": {
     "outputs_hidden": false
    },
    "papermill": {
     "duration": 0.004216,
     "end_time": "2025-01-28T04:52:36.501356",
     "exception": false,
     "start_time": "2025-01-28T04:52:36.497140",
     "status": "completed"
    },
    "tags": []
   },
   "source": [
    "---\n",
    "**Observation:**  \n",
    "\n",
    "1. Null values are present in the following columns:\n",
    "   - **`videoDefaultLanguage`**  (will be dropped after data cleaning)\n",
    "   - **`videoDefaultAudioLanguage`** \n",
    "   - **`channelCountry`**\n",
    "\n",
    "---\n",
    "\n",
    "2. The following columns will be dropped as part of data cleaning:\n",
    "   - **`videoDescription`**: Reserved for analysis in future NLP project with a broader dataset.  \n",
    "   - **`videoLiveBroadcastContent`**: All values are `'none'`, providing no variability or insights. \n",
    "   - **`videoFavoriteCount`**: All values are `0`, making it redundant.  \n",
    "   - **`videoTags`**: Reserved for analysis in future NLP project with a broader dataset.  \n",
    "   - **`videoUniqueId`**: Identified as a duplicate column.  \n",
    "   - **`channelIdUnique`**: Identified as a duplicate column.  \n",
    "   - **`channelTitleCheck`**: Identified as a duplicate column.  \n",
    "   - **`channelDescription`**: Reserved for analysis in future NLP project with a broader dataset.\n",
    "---\n",
    "\n",
    "3. The columns **`channelName`** and **`videoTitle`** require further processing due to the presence of:\n",
    "    - Multilingual text.  \n",
    "    - Emojis and special characters.  \n",
    "\n",
    "---"
   ]
  },
  {
   "cell_type": "markdown",
   "id": "bd896c58",
   "metadata": {
    "_cell_guid": "913e16aa-6a92-4fd0-916e-db9859c5fa2a",
    "_uuid": "93d239ff-3f35-41b5-9f13-ebd2eec731b4",
    "collapsed": false,
    "jupyter": {
     "outputs_hidden": false
    },
    "papermill": {
     "duration": 0.004951,
     "end_time": "2025-01-28T04:52:36.511785",
     "exception": false,
     "start_time": "2025-01-28T04:52:36.506834",
     "status": "completed"
    },
    "tags": []
   },
   "source": [
    "---\n",
    "\n"
   ]
  },
  {
   "cell_type": "code",
   "execution_count": 3,
   "id": "e30d60f2",
   "metadata": {
    "execution": {
     "iopub.execute_input": "2025-01-28T04:52:36.522565Z",
     "iopub.status.busy": "2025-01-28T04:52:36.522205Z",
     "iopub.status.idle": "2025-01-28T04:52:36.532331Z",
     "shell.execute_reply": "2025-01-28T04:52:36.531031Z"
    },
    "papermill": {
     "duration": 0.018048,
     "end_time": "2025-01-28T04:52:36.534485",
     "exception": false,
     "start_time": "2025-01-28T04:52:36.516437",
     "status": "completed"
    },
    "tags": []
   },
   "outputs": [],
   "source": [
    "def DataCleaning(Target_File):\n",
    "    # Dropped the columns\n",
    "    Target_File = Target_File.drop(['videoDescription','videoLiveBroadcastContent','videoFavoriteCount','videoTags','videoUniqueId','channelIdUnique','channelTitleCheck','channelDescription'],axis=1)\n",
    "    \n",
    "    # Removing Duplicates\n",
    "    Target_File  = Target_File.drop_duplicates(ignore_index=True)\n",
    "    \n",
    "    # Remving the videos which has videoDefaultAudioLanguage as None or not starts with en\n",
    "    Target_File_EN = Target_File[Target_File['videoDefaultAudioLanguage'].str.startswith(\"en\",na=False)].reset_index(drop=True)\n",
    "\n",
    "    for i in range(len(Target_File_EN['channelName'])):\n",
    "        try:\n",
    "            # Check and translate non-ASCII characters\n",
    "            if not Target_File_EN['channelName'][i].isascii():\n",
    "                Target_File_EN.loc[i, 'channelName'] = GoogleTranslator(source='auto', target='en').translate(Target_File_EN['channelName'][i])\n",
    "            if not Target_File_EN['videoTitle'][i].isascii():\n",
    "                Target_File_EN.loc[i, 'videoTitle'] = GoogleTranslator(source='auto', target='en').translate(Target_File_EN['videoTitle'][i])\n",
    "    \n",
    "            # Remove emojis\n",
    "            Target_File_EN.loc[i, 'channelName'] = emoji.replace_emoji(Target_File_EN['channelName'][i], replace='')\n",
    "            Target_File_EN.loc[i, 'videoTitle'] = emoji.replace_emoji(Target_File_EN['videoTitle'][i], replace='')\n",
    "    \n",
    "            # Decode HTML entities like &amp; and &#39;\n",
    "            Target_File_EN.loc[i, 'channelName'] = html.unescape(Target_File_EN['channelName'][i])\n",
    "            Target_File_EN.loc[i, 'videoTitle'] = html.unescape(Target_File_EN['videoTitle'][i])\n",
    "    \n",
    "            # Remove non-ASCII characters\n",
    "            Target_File_EN.loc[i, 'channelName'] = re.sub(r'[^\\x00-\\x7F]+', '', Target_File_EN['channelName'][i])\n",
    "            Target_File_EN.loc[i, 'videoTitle'] = re.sub(r'[^\\x00-\\x7F]+', '', Target_File_EN['videoTitle'][i])\n",
    "    \n",
    "            # print(Target_File_EN['channelName'][i])\n",
    "            # print(Target_File_EN['videoTitle'][i])\n",
    "        except Exception as e:\n",
    "            print(e)\n",
    "    \n",
    "    # Removing Duplicates\n",
    "    Target_File_EN  = Target_File_EN.drop_duplicates(ignore_index=True)\n",
    "    Target_File_EN = Target_File_EN.drop(['videoDefaultLanguage'],axis=1)\n",
    "    Target_File_EN['channelCountry'] = Target_File_EN['channelCountry'].fillna('Unknown')\n",
    "    return Target_File_EN\n"
   ]
  },
  {
   "cell_type": "code",
   "execution_count": 4,
   "id": "aed4f008",
   "metadata": {
    "_cell_guid": "c54e2df3-a441-4cc0-a5e9-504daac1bb7b",
    "_uuid": "e6dd150b-70d1-4e52-8c84-600926543736",
    "collapsed": false,
    "execution": {
     "iopub.execute_input": "2025-01-28T04:52:36.546329Z",
     "iopub.status.busy": "2025-01-28T04:52:36.545901Z",
     "iopub.status.idle": "2025-01-28T04:52:36.553227Z",
     "shell.execute_reply": "2025-01-28T04:52:36.552272Z"
    },
    "jupyter": {
     "outputs_hidden": false
    },
    "papermill": {
     "duration": 0.015016,
     "end_time": "2025-01-28T04:52:36.555002",
     "exception": false,
     "start_time": "2025-01-28T04:52:36.539986",
     "status": "completed"
    },
    "tags": []
   },
   "outputs": [],
   "source": [
    "def GitHubPush(Target_File_EN):\n",
    "    record_count = len(Target_File_EN)\n",
    "    \n",
    "    # Generate a timestamp for the file name using the current time in IST (Indian Standard Time).\n",
    "    timestamp = datetime.datetime.now(ist).strftime(\"%Y-%m-%d_%H:%M:%S\")\n",
    "    \n",
    "    # Create a filename using the generated timestamp to ensure uniqueness with number of records.\n",
    "    filename = f\"DC_{timestamp}_{record_count}_records.json\"\n",
    "    \n",
    "    # Save the DataFrame to a JSON file with readable formatting.\n",
    "    Target_File_EN.to_json(filename, orient=\"records\", indent=4)\n",
    "    print(f\"DataFrame saved as {filename}\")\n",
    "    \n",
    "    if not os.path.exists(destination_path):\n",
    "        # Create the destination directory if it doesn't exist\n",
    "        os.makedirs(destination_path)\n",
    "        print('created the destination directory, DataCleaning/Daily')\n",
    "        shutil.copyfile(f'/kaggle/working/{filename}', f'{destination_path}/{filename}')\n",
    "    else:\n",
    "        print('Destination directory already exists')\n",
    "        shutil.copyfile(f'/kaggle/working/{filename}', f'{destination_path}/{filename}')\n",
    "    \n",
    "    # Initialize the repository for git operations\n",
    "    repo = Repo(kaggle_repo_url)\n",
    "    \n",
    "    # Add the copied file to the staging area\n",
    "    repo.index.add([f\"{destination_path}/{filename}\"])\n",
    "    \n",
    "    # Create a timestamp for the commit message\n",
    "    timestamp = datetime.datetime.now(ist).strftime(\"%Y-%m-%d_%H:%M:%S\")\n",
    "    # Commit the changes with a message including the timestamp\n",
    "    repo.index.commit(f\"{timestamp} Added files from Kaggle notebook, {filename}\")\n",
    "    \n",
    "    # Push the changes to the remote repository\n",
    "    origin = repo.remote(name=\"origin\")\n",
    "    push_result = origin.push()\n",
    "    if push_result:\n",
    "        print(\"Push successful.\")\n",
    "    else:\n",
    "        print(\"Push failed.\")"
   ]
  },
  {
   "cell_type": "code",
   "execution_count": 5,
   "id": "bfc55428",
   "metadata": {
    "execution": {
     "iopub.execute_input": "2025-01-28T04:52:36.565660Z",
     "iopub.status.busy": "2025-01-28T04:52:36.565331Z",
     "iopub.status.idle": "2025-01-28T04:52:36.569827Z",
     "shell.execute_reply": "2025-01-28T04:52:36.568687Z"
    },
    "papermill": {
     "duration": 0.011832,
     "end_time": "2025-01-28T04:52:36.571626",
     "exception": false,
     "start_time": "2025-01-28T04:52:36.559794",
     "status": "completed"
    },
    "tags": []
   },
   "outputs": [],
   "source": [
    "def main():\n",
    "    Source_File = Source_File_Extraction(repo_url,kaggle_repo_url)\n",
    "    Cleaned_File = DataCleaning(Source_File)\n",
    "    GitHubPush(Cleaned_File)"
   ]
  },
  {
   "cell_type": "code",
   "execution_count": 6,
   "id": "d599275c",
   "metadata": {
    "execution": {
     "iopub.execute_input": "2025-01-28T04:52:36.582539Z",
     "iopub.status.busy": "2025-01-28T04:52:36.582209Z",
     "iopub.status.idle": "2025-01-28T04:52:43.709507Z",
     "shell.execute_reply": "2025-01-28T04:52:43.708207Z"
    },
    "papermill": {
     "duration": 7.135084,
     "end_time": "2025-01-28T04:52:43.711581",
     "exception": false,
     "start_time": "2025-01-28T04:52:36.576497",
     "status": "completed"
    },
    "tags": []
   },
   "outputs": [
    {
     "name": "stdout",
     "output_type": "stream",
     "text": [
      "Successfully cloned the git repo\n",
      "DataFrame saved as DC_2025-01-28_10:22:42_421_records.json\n",
      "Destination directory already exists\n",
      "Push successful.\n"
     ]
    }
   ],
   "source": [
    "if __name__ == \"__main__\":\n",
    "    import os  \n",
    "    import git \n",
    "    from git import Repo  \n",
    "    import datetime  \n",
    "    from pytz import timezone\n",
    "    import pandas as pd\n",
    "    import deep_translator\n",
    "    from deep_translator import GoogleTranslator\n",
    "    from pytz import timezone \n",
    "    import shutil\n",
    "    import emoji\n",
    "    import re\n",
    "    import html\n",
    "    from kaggle_secrets import UserSecretsClient\n",
    "    user_secrets = UserSecretsClient()\n",
    "    secret_value_0 = user_secrets.get_secret(\"dataCleanRepoUrl\")\n",
    "    repo_url = secret_value_0\n",
    "    ist = timezone('Asia/Kolkata')\n",
    "    kaggle_repo_url = '/kaggle/working/YouTubeFoodChannelAnalysis'\n",
    "    destination_path = '/kaggle/working/YouTubeFoodChannelAnalysis/DataCleaning/Daily'\n",
    "    source_path = '/kaggle/working/YouTubeFoodChannelAnalysis/Source/Daily'\n",
    "    main()"
   ]
  },
  {
   "cell_type": "code",
   "execution_count": 7,
   "id": "9973992a",
   "metadata": {
    "_cell_guid": "83efa5a5-11c5-4bf5-a856-d85cf2bd4db9",
    "_uuid": "e1f4feae-c6ca-4c66-9100-154746a080b0",
    "collapsed": false,
    "execution": {
     "iopub.execute_input": "2025-01-28T04:52:43.722860Z",
     "iopub.status.busy": "2025-01-28T04:52:43.722494Z",
     "iopub.status.idle": "2025-01-28T04:52:43.726555Z",
     "shell.execute_reply": "2025-01-28T04:52:43.725333Z"
    },
    "jupyter": {
     "outputs_hidden": false
    },
    "papermill": {
     "duration": 0.011538,
     "end_time": "2025-01-28T04:52:43.728234",
     "exception": false,
     "start_time": "2025-01-28T04:52:43.716696",
     "status": "completed"
    },
    "tags": []
   },
   "outputs": [],
   "source": [
    "# count= 0\n",
    "# for i in Target_File['videoLiveBroadcastContent']:\n",
    "#     if i == 'none':\n",
    "#         count +=1\n",
    "# print(f'Count of none in videoLiveBroadcastContent: {count}\\n')\n",
    "# count =0\n",
    "# for i in Target_File['videoFavoriteCount']:\n",
    "#     if i == 0:\n",
    "#         count +=1\n",
    "# print(f'Count of 0 in videoFavoriteCount: {count}\\n')\n",
    "# Target_File.info()"
   ]
  },
  {
   "cell_type": "code",
   "execution_count": 8,
   "id": "2500f318",
   "metadata": {
    "_cell_guid": "f2ab4e91-39c9-4833-b617-1a8cd895ad52",
    "_uuid": "913dec87-50e0-4e35-9cf5-3c4dd44880a8",
    "collapsed": false,
    "execution": {
     "iopub.execute_input": "2025-01-28T04:52:43.739400Z",
     "iopub.status.busy": "2025-01-28T04:52:43.739062Z",
     "iopub.status.idle": "2025-01-28T04:52:43.743411Z",
     "shell.execute_reply": "2025-01-28T04:52:43.742251Z"
    },
    "jupyter": {
     "outputs_hidden": false
    },
    "papermill": {
     "duration": 0.011958,
     "end_time": "2025-01-28T04:52:43.745178",
     "exception": false,
     "start_time": "2025-01-28T04:52:43.733220",
     "status": "completed"
    },
    "tags": []
   },
   "outputs": [],
   "source": [
    "# # Dropped the columns\n",
    "# Target_File = Target_File.drop(['videoDescription','videoLiveBroadcastContent','videoFavoriteCount','videoTags','videoUniqueId','channelIdUnique','channelTitleCheck','channelDescription'],axis=1)\n",
    "\n",
    "# Target_File.info()\n",
    "\n",
    "# # Below script prevents all columns and rows from getting truncated while display\n",
    "# pd.set_option(\"display.max_columns\", None)\n",
    "# pd.set_option(\"display.max_rows\",None)\n",
    "\n",
    "# # Removing Duplicates\n",
    "# Target_File  = Target_File.drop_duplicates(ignore_index=True)\n",
    "\n",
    "# # Remving the videos which has videoDefaultAudioLanguage as None or not starts with en\n",
    "# Target_File_EN = Target_File[Target_File['videoDefaultAudioLanguage'].str.startswith(\"en\",na=False)].reset_index(drop=True)\n",
    "# # GroupBYLang = Target_File_EN.groupby('videoDefaultAudioLanguage').count()\n",
    "# # display(GroupBYLang)\n",
    "# # len(Target_File_EN)"
   ]
  },
  {
   "cell_type": "code",
   "execution_count": 9,
   "id": "46b6dc75",
   "metadata": {
    "_cell_guid": "7a413e3c-780e-4cc3-bb9f-43637ef83188",
    "_uuid": "219b9ecd-b28b-4c0b-a31f-2ea89a55c9dd",
    "collapsed": false,
    "execution": {
     "iopub.execute_input": "2025-01-28T04:52:43.757013Z",
     "iopub.status.busy": "2025-01-28T04:52:43.756607Z",
     "iopub.status.idle": "2025-01-28T04:52:43.761103Z",
     "shell.execute_reply": "2025-01-28T04:52:43.759858Z"
    },
    "jupyter": {
     "outputs_hidden": false
    },
    "papermill": {
     "duration": 0.012433,
     "end_time": "2025-01-28T04:52:43.763077",
     "exception": false,
     "start_time": "2025-01-28T04:52:43.750644",
     "status": "completed"
    },
    "tags": []
   },
   "outputs": [],
   "source": [
    "# for i in range(len(Target_File_EN['channelName'])):\n",
    "#     try:\n",
    "#         # Check and translate non-ASCII characters\n",
    "#         if not Target_File_EN['channelName'][i].isascii():\n",
    "#             Target_File_EN.loc[i, 'channelName'] = GoogleTranslator(source='auto', target='en').translate(Target_File_EN['channelName'][i])\n",
    "#         if not Target_File_EN['videoTitle'][i].isascii():\n",
    "#             Target_File_EN.loc[i, 'videoTitle'] = GoogleTranslator(source='auto', target='en').translate(Target_File_EN['videoTitle'][i])\n",
    "\n",
    "#         # Remove emojis\n",
    "#         Target_File_EN.loc[i, 'channelName'] = emoji.replace_emoji(Target_File_EN['channelName'][i], replace='')\n",
    "#         Target_File_EN.loc[i, 'videoTitle'] = emoji.replace_emoji(Target_File_EN['videoTitle'][i], replace='')\n",
    "\n",
    "#         # Decode HTML entities like &amp; and &#39;\n",
    "#         Target_File_EN.loc[i, 'channelName'] = html.unescape(Target_File_EN['channelName'][i])\n",
    "#         Target_File_EN.loc[i, 'videoTitle'] = html.unescape(Target_File_EN['videoTitle'][i])\n",
    "\n",
    "#         # Remove non-ASCII characters\n",
    "#         Target_File_EN.loc[i, 'channelName'] = re.sub(r'[^\\x00-\\x7F]+', '', Target_File_EN['channelName'][i])\n",
    "#         Target_File_EN.loc[i, 'videoTitle'] = re.sub(r'[^\\x00-\\x7F]+', '', Target_File_EN['videoTitle'][i])\n",
    "\n",
    "#         # print(Target_File_EN['channelName'][i])\n",
    "#         # print(Target_File_EN['videoTitle'][i])\n",
    "#     except Exception as e:\n",
    "#         print(e)\n",
    "\n",
    "# # Removing Duplicates\n",
    "# Target_File_EN  = Target_File_EN.drop_duplicates(ignore_index=True)"
   ]
  },
  {
   "cell_type": "code",
   "execution_count": 10,
   "id": "a4cb6fad",
   "metadata": {
    "_cell_guid": "09d61f24-0fbe-4450-9cb5-85c5104fa513",
    "_uuid": "06b3daee-6194-45f0-833c-5918db6838f3",
    "collapsed": false,
    "execution": {
     "iopub.execute_input": "2025-01-28T04:52:43.775366Z",
     "iopub.status.busy": "2025-01-28T04:52:43.774997Z",
     "iopub.status.idle": "2025-01-28T04:52:43.779589Z",
     "shell.execute_reply": "2025-01-28T04:52:43.778320Z"
    },
    "jupyter": {
     "outputs_hidden": false
    },
    "papermill": {
     "duration": 0.01233,
     "end_time": "2025-01-28T04:52:43.781461",
     "exception": false,
     "start_time": "2025-01-28T04:52:43.769131",
     "status": "completed"
    },
    "tags": []
   },
   "outputs": [],
   "source": [
    "# Target_File_EN.info()"
   ]
  },
  {
   "cell_type": "code",
   "execution_count": 11,
   "id": "9b8a2491",
   "metadata": {
    "_cell_guid": "8fc332b9-8ed4-413a-af69-4e154cebc95e",
    "_uuid": "28ec50ed-1057-4f63-a16e-f909aabf1b83",
    "collapsed": false,
    "execution": {
     "iopub.execute_input": "2025-01-28T04:52:43.792892Z",
     "iopub.status.busy": "2025-01-28T04:52:43.792538Z",
     "iopub.status.idle": "2025-01-28T04:52:43.796883Z",
     "shell.execute_reply": "2025-01-28T04:52:43.795818Z"
    },
    "jupyter": {
     "outputs_hidden": false
    },
    "papermill": {
     "duration": 0.012109,
     "end_time": "2025-01-28T04:52:43.798827",
     "exception": false,
     "start_time": "2025-01-28T04:52:43.786718",
     "status": "completed"
    },
    "tags": []
   },
   "outputs": [],
   "source": [
    "# print(Target_File_EN)\n",
    "# Target_File_EN_NULL = Target_File_EN.isnull().any(axis=1)\n",
    "# null_rows = Target_File_EN[Target_File_EN_NULL]\n",
    "# display(null_rows)"
   ]
  },
  {
   "cell_type": "code",
   "execution_count": 12,
   "id": "5512e861",
   "metadata": {
    "_cell_guid": "3d918893-eea7-41cd-a4b3-e78a6fda4b3c",
    "_uuid": "f4556821-2a4a-4706-b523-98f01976ebd8",
    "collapsed": false,
    "execution": {
     "iopub.execute_input": "2025-01-28T04:52:43.809800Z",
     "iopub.status.busy": "2025-01-28T04:52:43.809478Z",
     "iopub.status.idle": "2025-01-28T04:52:43.813551Z",
     "shell.execute_reply": "2025-01-28T04:52:43.812447Z"
    },
    "jupyter": {
     "outputs_hidden": false
    },
    "papermill": {
     "duration": 0.0114,
     "end_time": "2025-01-28T04:52:43.815179",
     "exception": false,
     "start_time": "2025-01-28T04:52:43.803779",
     "status": "completed"
    },
    "tags": []
   },
   "outputs": [],
   "source": [
    "# Target_File_EN = Target_File_EN.drop(['videoDefaultLanguage'],axis=1)\n",
    "# Target_File_EN['channelCountry'] = Target_File_EN['channelCountry'].fillna('Unknown')"
   ]
  },
  {
   "cell_type": "code",
   "execution_count": 13,
   "id": "f59cb962",
   "metadata": {
    "execution": {
     "iopub.execute_input": "2025-01-28T04:52:43.826462Z",
     "iopub.status.busy": "2025-01-28T04:52:43.826094Z",
     "iopub.status.idle": "2025-01-28T04:52:43.830281Z",
     "shell.execute_reply": "2025-01-28T04:52:43.829173Z"
    },
    "papermill": {
     "duration": 0.012094,
     "end_time": "2025-01-28T04:52:43.832300",
     "exception": false,
     "start_time": "2025-01-28T04:52:43.820206",
     "status": "completed"
    },
    "tags": []
   },
   "outputs": [],
   "source": [
    "# from datetime import timedelta\n",
    "# print(timedelta(hours=90, minutes=39, seconds=56))\n",
    "# print(90*3600+39*60+56)"
   ]
  },
  {
   "cell_type": "code",
   "execution_count": 14,
   "id": "5d7cc930",
   "metadata": {
    "execution": {
     "iopub.execute_input": "2025-01-28T04:52:43.844498Z",
     "iopub.status.busy": "2025-01-28T04:52:43.844147Z",
     "iopub.status.idle": "2025-01-28T04:52:43.848336Z",
     "shell.execute_reply": "2025-01-28T04:52:43.847072Z"
    },
    "papermill": {
     "duration": 0.012794,
     "end_time": "2025-01-28T04:52:43.850209",
     "exception": false,
     "start_time": "2025-01-28T04:52:43.837415",
     "status": "completed"
    },
    "tags": []
   },
   "outputs": [],
   "source": [
    "# Target_File_EN.head()"
   ]
  }
 ],
 "metadata": {
  "kaggle": {
   "accelerator": "none",
   "dataSources": [],
   "dockerImageVersionId": 30839,
   "isGpuEnabled": false,
   "isInternetEnabled": true,
   "language": "python",
   "sourceType": "notebook"
  },
  "kernelspec": {
   "display_name": "Python 3",
   "language": "python",
   "name": "python3"
  },
  "language_info": {
   "codemirror_mode": {
    "name": "ipython",
    "version": 3
   },
   "file_extension": ".py",
   "mimetype": "text/x-python",
   "name": "python",
   "nbconvert_exporter": "python",
   "pygments_lexer": "ipython3",
   "version": "3.10.12"
  },
  "papermill": {
   "default_parameters": {},
   "duration": 21.578906,
   "end_time": "2025-01-28T04:52:44.576208",
   "environment_variables": {},
   "exception": null,
   "input_path": "__notebook__.ipynb",
   "output_path": "__notebook__.ipynb",
   "parameters": {},
   "start_time": "2025-01-28T04:52:22.997302",
   "version": "2.6.0"
  }
 },
 "nbformat": 4,
 "nbformat_minor": 5
}
