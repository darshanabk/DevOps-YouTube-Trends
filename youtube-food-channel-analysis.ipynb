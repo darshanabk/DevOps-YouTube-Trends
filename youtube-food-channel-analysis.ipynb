{
 "cells": [
  {
   "cell_type": "code",
   "execution_count": 1,
   "id": "ee8cccff",
   "metadata": {
    "_cell_guid": "b1076dfc-b9ad-4769-8c92-a6c4dae69d19",
    "_uuid": "8f2839f25d086af736a60e9eeb907d3b93b6e0e5",
    "execution": {
     "iopub.execute_input": "2025-01-13T12:40:32.297378Z",
     "iopub.status.busy": "2025-01-13T12:40:32.297029Z",
     "iopub.status.idle": "2025-01-13T12:40:32.696974Z",
     "shell.execute_reply": "2025-01-13T12:40:32.695847Z"
    },
    "papermill": {
     "duration": 0.40692,
     "end_time": "2025-01-13T12:40:32.698985",
     "exception": false,
     "start_time": "2025-01-13T12:40:32.292065",
     "status": "completed"
    },
    "tags": []
   },
   "outputs": [],
   "source": [
    "import smtplib\n",
    "from email.mime.text import MIMEText\n",
    "from email.mime.multipart import MIMEMultipart\n",
    "from googleapiclient.discovery import build\n",
    "import csv\n",
    "import re\n",
    "import datetime\n",
    "from kaggle_secrets import UserSecretsClient"
   ]
  },
  {
   "cell_type": "code",
   "execution_count": 2,
   "id": "3377dcb9",
   "metadata": {
    "execution": {
     "iopub.execute_input": "2025-01-13T12:40:32.706987Z",
     "iopub.status.busy": "2025-01-13T12:40:32.706419Z",
     "iopub.status.idle": "2025-01-13T12:40:32.883175Z",
     "shell.execute_reply": "2025-01-13T12:40:32.882231Z"
    },
    "papermill": {
     "duration": 0.182555,
     "end_time": "2025-01-13T12:40:32.885082",
     "exception": false,
     "start_time": "2025-01-13T12:40:32.702527",
     "status": "completed"
    },
    "tags": []
   },
   "outputs": [],
   "source": [
    "user_secrets = UserSecretsClient()\n",
    "api_key = user_secrets.get_secret(\"YouTubeAPIKey\")\n",
    "youtube = build('youtube', 'v3', developerKey=api_key)"
   ]
  },
  {
   "cell_type": "code",
   "execution_count": 3,
   "id": "98c164c8",
   "metadata": {
    "execution": {
     "iopub.execute_input": "2025-01-13T12:40:32.892438Z",
     "iopub.status.busy": "2025-01-13T12:40:32.892119Z",
     "iopub.status.idle": "2025-01-13T12:40:32.897350Z",
     "shell.execute_reply": "2025-01-13T12:40:32.896484Z"
    },
    "papermill": {
     "duration": 0.010738,
     "end_time": "2025-01-13T12:40:32.899082",
     "exception": false,
     "start_time": "2025-01-13T12:40:32.888344",
     "status": "completed"
    },
    "tags": []
   },
   "outputs": [],
   "source": [
    "def parse_duration(duration):\n",
    "    \"\"\"\n",
    "    Parses the ISO 8601 duration string (e.g., PT14M22S) into total seconds.\n",
    "    \"\"\"\n",
    "    minutes = 0\n",
    "    seconds = 0\n",
    "\n",
    "    minutes_match = re.search(r'(\\d+)M', duration)\n",
    "    if minutes_match:\n",
    "        minutes = int(minutes_match.group(1))\n",
    "\n",
    "    seconds_match = re.search(r'(\\d+)S', duration)\n",
    "    if seconds_match:\n",
    "        seconds = int(seconds_match.group(1))\n",
    "\n",
    "    # Convert everything to seconds\n",
    "    total_seconds = minutes * 60 + seconds\n",
    "    return total_seconds"
   ]
  },
  {
   "cell_type": "code",
   "execution_count": 4,
   "id": "9174f030",
   "metadata": {
    "execution": {
     "iopub.execute_input": "2025-01-13T12:40:32.906222Z",
     "iopub.status.busy": "2025-01-13T12:40:32.905850Z",
     "iopub.status.idle": "2025-01-13T12:40:32.913630Z",
     "shell.execute_reply": "2025-01-13T12:40:32.912455Z"
    },
    "papermill": {
     "duration": 0.012969,
     "end_time": "2025-01-13T12:40:32.915194",
     "exception": false,
     "start_time": "2025-01-13T12:40:32.902225",
     "status": "completed"
    },
    "tags": []
   },
   "outputs": [],
   "source": [
    "def get_video_details(video_ids):\n",
    "    \"\"\"\n",
    "    Fetch detailed video information, including likes, dislikes, comment count, videoId, publishedAt, and channelId.\n",
    "    \"\"\"\n",
    "    request = youtube.videos().list(\n",
    "        part='snippet,statistics,contentDetails',\n",
    "        id=','.join(video_ids)\n",
    "    )\n",
    "    response = request.execute()\n",
    "\n",
    "    video_details = []\n",
    "    for item in response['items']:\n",
    "        video_data = {\n",
    "            'videoId': item['id'],  # Adding videoId\n",
    "            'publishedAt': item['snippet']['publishedAt'],  # Adding publishedAt\n",
    "            'channelId': item['snippet']['channelId'],  # Adding channelId\n",
    "            'title': item['snippet']['title'],\n",
    "            'description': item['snippet']['description'],\n",
    "            'video_url': f\"https://www.youtube.com/watch?v={item['id']}\",\n",
    "            'likes': item['statistics'].get('likeCount', 'N/A'),\n",
    "            'dislikes': item['statistics'].get('dislikeCount', 'N/A'),\n",
    "            'comment_count': item['statistics'].get('commentCount', 'N/A'),\n",
    "        }\n",
    "        video_details.append(video_data)\n",
    "\n",
    "    return video_details\n"
   ]
  },
  {
   "cell_type": "code",
   "execution_count": 5,
   "id": "64786b90",
   "metadata": {
    "execution": {
     "iopub.execute_input": "2025-01-13T12:40:32.922342Z",
     "iopub.status.busy": "2025-01-13T12:40:32.922031Z",
     "iopub.status.idle": "2025-01-13T12:40:32.928445Z",
     "shell.execute_reply": "2025-01-13T12:40:32.927395Z"
    },
    "papermill": {
     "duration": 0.01186,
     "end_time": "2025-01-13T12:40:32.930147",
     "exception": false,
     "start_time": "2025-01-13T12:40:32.918287",
     "status": "completed"
    },
    "tags": []
   },
   "outputs": [],
   "source": [
    "def get_trending_food_videos():\n",
    "    \"\"\"\n",
    "    Fetch top 50 trending food videos based on a query and filter out shorts (duration <= 60 seconds).\n",
    "    \"\"\"\n",
    "    query = 'healthy meals OR quick recipes OR plant-based meals OR meal prep OR vegan recipes OR fitness meals'\n",
    "\n",
    "    # Get video data based on the search query\n",
    "    request = youtube.search().list(\n",
    "        q=query,  # Broad query for food-related videos\n",
    "        part='snippet',\n",
    "        type='video',\n",
    "        order='relevance',  # Sort by relevance to get videos\n",
    "        maxResults=50,  # Get top 50 results\n",
    "        videoCategoryId =26\n",
    "    )\n",
    "    response = request.execute()\n",
    "\n",
    "    video_ids = []\n",
    "    for item in response['items']:\n",
    "        video_ids.append(item['id']['videoId'])\n",
    "\n",
    "    # Fetch detailed information (likes, dislikes, comments)\n",
    "    videos = get_video_details(video_ids)\n",
    "\n",
    "    # Filter out Shorts (duration <= 60 seconds)\n",
    "    filtered_videos = []\n",
    "    for video in videos:\n",
    "        video_id = video['video_url'].split('v=')[1]\n",
    "        request = youtube.videos().list(\n",
    "            part='contentDetails',\n",
    "            id=video_id\n",
    "        )\n",
    "        video_duration_response = request.execute()\n",
    "        duration = video_duration_response['items'][0]['contentDetails']['duration']\n",
    "\n",
    "        # Parse the duration string and check if it's longer than 60 seconds\n",
    "        duration_seconds = parse_duration(duration)\n",
    "        if duration_seconds > 60:\n",
    "            filtered_videos.append(video)\n",
    "\n",
    "    return filtered_videos\n"
   ]
  },
  {
   "cell_type": "code",
   "execution_count": 6,
   "id": "a7c401d1",
   "metadata": {
    "execution": {
     "iopub.execute_input": "2025-01-13T12:40:32.937795Z",
     "iopub.status.busy": "2025-01-13T12:40:32.937455Z",
     "iopub.status.idle": "2025-01-13T12:40:32.942843Z",
     "shell.execute_reply": "2025-01-13T12:40:32.941977Z"
    },
    "papermill": {
     "duration": 0.011323,
     "end_time": "2025-01-13T12:40:32.944762",
     "exception": false,
     "start_time": "2025-01-13T12:40:32.933439",
     "status": "completed"
    },
    "tags": []
   },
   "outputs": [],
   "source": [
    "def get_trending_shorts():\n",
    "    \"\"\"\n",
    "    Fetch top 100 trending shorts related to food.\n",
    "    \"\"\"\n",
    "    query = 'healthy meals OR quick recipes OR plant-based meals OR meal prep OR vegan recipes OR fitness meals'\n",
    "\n",
    "    # Get top 100 trending shorts related to food\n",
    "    request = youtube.search().list(\n",
    "        q=query,  # Search query\n",
    "        part='snippet',\n",
    "        type='video',\n",
    "        videoDuration='short',  # Filters for videos with duration less than 60 seconds (Shorts)\n",
    "        order='relevance',  # Sort by relevance to get shorts\n",
    "        maxResults=50, # Get top 50 results\n",
    "        videoCategoryId =26\n",
    "    )\n",
    "    response = request.execute()\n",
    "\n",
    "    video_ids = []\n",
    "    for item in response['items']:\n",
    "        video_ids.append(item['id']['videoId'])\n",
    "\n",
    "    # Fetch detailed information (likes, dislikes, comments)\n",
    "    shorts = get_video_details(video_ids)\n",
    "\n",
    "    return shorts\n"
   ]
  },
  {
   "cell_type": "code",
   "execution_count": 7,
   "id": "78d3f394",
   "metadata": {
    "execution": {
     "iopub.execute_input": "2025-01-13T12:40:32.952644Z",
     "iopub.status.busy": "2025-01-13T12:40:32.952160Z",
     "iopub.status.idle": "2025-01-13T12:40:32.959141Z",
     "shell.execute_reply": "2025-01-13T12:40:32.957771Z"
    },
    "papermill": {
     "duration": 0.012993,
     "end_time": "2025-01-13T12:40:32.961007",
     "exception": false,
     "start_time": "2025-01-13T12:40:32.948014",
     "status": "completed"
    },
    "tags": []
   },
   "outputs": [],
   "source": [
    "def save_data_to_csv(data, filename):\n",
    "    \"\"\"\n",
    "    Save video data to a CSV file, including videoId, publishedAt, and channelId.\n",
    "    \"\"\"\n",
    "    # Updated headers to include 'videoId', 'publishedAt', and 'channelId'\n",
    "    headers = ['videoId', 'publishedAt', 'channelId', 'title', 'description', 'video_url', 'likes', 'dislikes', 'comment_count']\n",
    "    \n",
    "    with open(filename, mode='w', newline='', encoding='utf-8') as file:\n",
    "        writer = csv.DictWriter(file, fieldnames=headers)\n",
    "        writer.writeheader()\n",
    "        \n",
    "        # Write each video data to the CSV with the new fields\n",
    "        for item in data:\n",
    "            writer.writerow(item)"
   ]
  },
  {
   "cell_type": "code",
   "execution_count": 8,
   "id": "56cb4584",
   "metadata": {
    "execution": {
     "iopub.execute_input": "2025-01-13T12:40:32.969750Z",
     "iopub.status.busy": "2025-01-13T12:40:32.969249Z",
     "iopub.status.idle": "2025-01-13T12:40:32.974859Z",
     "shell.execute_reply": "2025-01-13T12:40:32.974030Z"
    },
    "papermill": {
     "duration": 0.012192,
     "end_time": "2025-01-13T12:40:32.976388",
     "exception": false,
     "start_time": "2025-01-13T12:40:32.964196",
     "status": "completed"
    },
    "tags": []
   },
   "outputs": [],
   "source": [
    "def send_email(subject, body):\n",
    "    \"\"\"\n",
    "    Send an email notification after the script runs successfully.\n",
    "    \"\"\"\n",
    "    sender_email = \"darshanabk1112@gmail.com\"\n",
    "    receiver_email = \"darshanabk1112@gmail.com\"\n",
    "    password = \"gcae fzim tvzd ibaj\"  # Use environment variables for security\n",
    "\n",
    "    message = MIMEMultipart()\n",
    "    message[\"From\"] = sender_email\n",
    "    message[\"To\"] = receiver_email\n",
    "    message[\"Subject\"] = subject\n",
    "\n",
    "    message.attach(MIMEText(body, \"plain\"))\n",
    "\n",
    "    try:\n",
    "        with smtplib.SMTP_SSL(\"smtp.gmail.com\", 465) as server:\n",
    "            server.login(sender_email, password)\n",
    "            server.sendmail(sender_email, receiver_email, message.as_string())\n",
    "        print(\"Email sent successfully.\")\n",
    "    except Exception as e:\n",
    "        print(f\"Failed to send email: {e}\")"
   ]
  },
  {
   "cell_type": "code",
   "execution_count": 9,
   "id": "fcce7408",
   "metadata": {
    "execution": {
     "iopub.execute_input": "2025-01-13T12:40:32.983500Z",
     "iopub.status.busy": "2025-01-13T12:40:32.983176Z",
     "iopub.status.idle": "2025-01-13T12:40:32.988004Z",
     "shell.execute_reply": "2025-01-13T12:40:32.987030Z"
    },
    "papermill": {
     "duration": 0.009997,
     "end_time": "2025-01-13T12:40:32.989529",
     "exception": false,
     "start_time": "2025-01-13T12:40:32.979532",
     "status": "completed"
    },
    "tags": []
   },
   "outputs": [],
   "source": [
    "def main():\n",
    "    # Get the current week number for naming the file\n",
    "    TimeStamp = datetime.datetime.now().strftime(\"%Y-%m-%d %H:%M:%S\")\n",
    "\n",
    "    # Get top 50 trending food videos\n",
    "    videos = get_trending_food_videos()\n",
    "    # print(\"Top 50 Trending Food Videos:\")\n",
    "    # for video in videos:\n",
    "    #     print(video)\n",
    "\n",
    "    # Get top 50 trending Shorts\n",
    "    shorts = get_trending_shorts()\n",
    "    # print(\"\\nTop 50 Trending Shorts:\")\n",
    "    # for short in shorts:\n",
    "    #     print(short)\n",
    "\n",
    "    # Save data to CSV\n",
    "    save_data_to_csv(videos, f'top_50_trending_food_videos_{TimeStamp}.csv')\n",
    "    save_data_to_csv(shorts, f'top_50_trending_food_shorts_{TimeStamp}.csv')\n",
    "\n",
    "    # Send email notification after successful completion\n",
    "    send_email(\n",
    "        \"Weekly Trending Food Videos and Shorts Update\",\n",
    "        f\"The weekly update for the top trending food videos and shorts has been successfully fetched and saved.\"\n",
    "    )\n"
   ]
  },
  {
   "cell_type": "code",
   "execution_count": 10,
   "id": "d2272d5e",
   "metadata": {
    "execution": {
     "iopub.execute_input": "2025-01-13T12:40:32.996456Z",
     "iopub.status.busy": "2025-01-13T12:40:32.996146Z",
     "iopub.status.idle": "2025-01-13T12:40:37.458249Z",
     "shell.execute_reply": "2025-01-13T12:40:37.456890Z"
    },
    "papermill": {
     "duration": 4.467516,
     "end_time": "2025-01-13T12:40:37.460122",
     "exception": false,
     "start_time": "2025-01-13T12:40:32.992606",
     "status": "completed"
    },
    "tags": []
   },
   "outputs": [
    {
     "name": "stdout",
     "output_type": "stream",
     "text": [
      "Email sent successfully.\n"
     ]
    }
   ],
   "source": [
    "if __name__ == \"__main__\":\n",
    "    main()"
   ]
  },
  {
   "cell_type": "code",
   "execution_count": null,
   "id": "f04bfc7a",
   "metadata": {
    "papermill": {
     "duration": 0.002866,
     "end_time": "2025-01-13T12:40:37.466281",
     "exception": false,
     "start_time": "2025-01-13T12:40:37.463415",
     "status": "completed"
    },
    "tags": []
   },
   "outputs": [],
   "source": []
  }
 ],
 "metadata": {
  "kaggle": {
   "accelerator": "none",
   "dataSources": [],
   "dockerImageVersionId": 30822,
   "isGpuEnabled": false,
   "isInternetEnabled": true,
   "language": "python",
   "sourceType": "notebook"
  },
  "kernelspec": {
   "display_name": "Python 3",
   "language": "python",
   "name": "python3"
  },
  "language_info": {
   "codemirror_mode": {
    "name": "ipython",
    "version": 3
   },
   "file_extension": ".py",
   "mimetype": "text/x-python",
   "name": "python",
   "nbconvert_exporter": "python",
   "pygments_lexer": "ipython3",
   "version": "3.10.12"
  },
  "papermill": {
   "default_parameters": {},
   "duration": 7.854701,
   "end_time": "2025-01-13T12:40:37.989661",
   "environment_variables": {},
   "exception": null,
   "input_path": "__notebook__.ipynb",
   "output_path": "__notebook__.ipynb",
   "parameters": {},
   "start_time": "2025-01-13T12:40:30.134960",
   "version": "2.6.0"
  }
 },
 "nbformat": 4,
 "nbformat_minor": 5
}
