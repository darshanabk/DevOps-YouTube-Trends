{
 "cells": [
  {
   "cell_type": "code",
   "execution_count": 1,
   "id": "ba60621d",
   "metadata": {
    "_cell_guid": "b1076dfc-b9ad-4769-8c92-a6c4dae69d19",
    "_uuid": "8f2839f25d086af736a60e9eeb907d3b93b6e0e5",
    "execution": {
     "iopub.execute_input": "2025-01-13T12:06:46.723612Z",
     "iopub.status.busy": "2025-01-13T12:06:46.723190Z",
     "iopub.status.idle": "2025-01-13T12:06:47.116903Z",
     "shell.execute_reply": "2025-01-13T12:06:47.115856Z"
    },
    "papermill": {
     "duration": 0.400504,
     "end_time": "2025-01-13T12:06:47.118747",
     "exception": false,
     "start_time": "2025-01-13T12:06:46.718243",
     "status": "completed"
    },
    "tags": []
   },
   "outputs": [],
   "source": [
    "import smtplib\n",
    "from email.mime.text import MIMEText\n",
    "from email.mime.multipart import MIMEMultipart\n",
    "from googleapiclient.discovery import build\n",
    "import csv\n",
    "import re\n",
    "import datetime\n",
    "from kaggle_secrets import UserSecretsClient"
   ]
  },
  {
   "cell_type": "code",
   "execution_count": 2,
   "id": "e678f861",
   "metadata": {
    "execution": {
     "iopub.execute_input": "2025-01-13T12:06:47.126821Z",
     "iopub.status.busy": "2025-01-13T12:06:47.126367Z",
     "iopub.status.idle": "2025-01-13T12:06:47.305663Z",
     "shell.execute_reply": "2025-01-13T12:06:47.304664Z"
    },
    "papermill": {
     "duration": 0.185252,
     "end_time": "2025-01-13T12:06:47.307675",
     "exception": false,
     "start_time": "2025-01-13T12:06:47.122423",
     "status": "completed"
    },
    "tags": []
   },
   "outputs": [],
   "source": [
    "user_secrets = UserSecretsClient()\n",
    "api_key = user_secrets.get_secret(\"YouTubeAPIKey\")\n",
    "youtube = build('youtube', 'v3', developerKey=api_key)"
   ]
  },
  {
   "cell_type": "code",
   "execution_count": 3,
   "id": "d1e7fae1",
   "metadata": {
    "execution": {
     "iopub.execute_input": "2025-01-13T12:06:47.318078Z",
     "iopub.status.busy": "2025-01-13T12:06:47.317733Z",
     "iopub.status.idle": "2025-01-13T12:06:47.323697Z",
     "shell.execute_reply": "2025-01-13T12:06:47.322460Z"
    },
    "papermill": {
     "duration": 0.014159,
     "end_time": "2025-01-13T12:06:47.325714",
     "exception": false,
     "start_time": "2025-01-13T12:06:47.311555",
     "status": "completed"
    },
    "tags": []
   },
   "outputs": [],
   "source": [
    "def parse_duration(duration):\n",
    "    \"\"\"\n",
    "    Parses the ISO 8601 duration string (e.g., PT14M22S) into total seconds.\n",
    "    \"\"\"\n",
    "    minutes = 0\n",
    "    seconds = 0\n",
    "\n",
    "    minutes_match = re.search(r'(\\d+)M', duration)\n",
    "    if minutes_match:\n",
    "        minutes = int(minutes_match.group(1))\n",
    "\n",
    "    seconds_match = re.search(r'(\\d+)S', duration)\n",
    "    if seconds_match:\n",
    "        seconds = int(seconds_match.group(1))\n",
    "\n",
    "    # Convert everything to seconds\n",
    "    total_seconds = minutes * 60 + seconds\n",
    "    return total_seconds"
   ]
  },
  {
   "cell_type": "code",
   "execution_count": 4,
   "id": "5390f6ae",
   "metadata": {
    "execution": {
     "iopub.execute_input": "2025-01-13T12:06:47.333373Z",
     "iopub.status.busy": "2025-01-13T12:06:47.333031Z",
     "iopub.status.idle": "2025-01-13T12:06:47.340303Z",
     "shell.execute_reply": "2025-01-13T12:06:47.339321Z"
    },
    "papermill": {
     "duration": 0.012552,
     "end_time": "2025-01-13T12:06:47.341908",
     "exception": false,
     "start_time": "2025-01-13T12:06:47.329356",
     "status": "completed"
    },
    "tags": []
   },
   "outputs": [],
   "source": [
    "def get_video_details(video_ids):\n",
    "    \"\"\"\n",
    "    Fetch detailed video information, including likes, dislikes, comment count, videoId, publishedAt, and channelId.\n",
    "    \"\"\"\n",
    "    request = youtube.videos().list(\n",
    "        part='snippet,statistics,contentDetails',\n",
    "        id=','.join(video_ids)\n",
    "    )\n",
    "    response = request.execute()\n",
    "\n",
    "    video_details = []\n",
    "    for item in response['items']:\n",
    "        video_data = {\n",
    "            'videoId': item['id'],  # Adding videoId\n",
    "            'publishedAt': item['snippet']['publishedAt'],  # Adding publishedAt\n",
    "            'channelId': item['snippet']['channelId'],  # Adding channelId\n",
    "            'title': item['snippet']['title'],\n",
    "            'description': item['snippet']['description'],\n",
    "            'video_url': f\"https://www.youtube.com/watch?v={item['id']}\",\n",
    "            'likes': item['statistics'].get('likeCount', 'N/A'),\n",
    "            'dislikes': item['statistics'].get('dislikeCount', 'N/A'),\n",
    "            'comment_count': item['statistics'].get('commentCount', 'N/A'),\n",
    "        }\n",
    "        video_details.append(video_data)\n",
    "\n",
    "    return video_details\n"
   ]
  },
  {
   "cell_type": "code",
   "execution_count": 5,
   "id": "1c82bc6c",
   "metadata": {
    "execution": {
     "iopub.execute_input": "2025-01-13T12:06:47.348812Z",
     "iopub.status.busy": "2025-01-13T12:06:47.348512Z",
     "iopub.status.idle": "2025-01-13T12:06:47.354806Z",
     "shell.execute_reply": "2025-01-13T12:06:47.353780Z"
    },
    "papermill": {
     "duration": 0.011429,
     "end_time": "2025-01-13T12:06:47.356497",
     "exception": false,
     "start_time": "2025-01-13T12:06:47.345068",
     "status": "completed"
    },
    "tags": []
   },
   "outputs": [],
   "source": [
    "def get_trending_food_videos():\n",
    "    \"\"\"\n",
    "    Fetch top 50 trending food videos based on a query and filter out shorts (duration <= 60 seconds).\n",
    "    \"\"\"\n",
    "    query = 'healthy meals OR quick recipes OR plant-based meals OR meal prep OR vegan recipes OR fitness meals'\n",
    "\n",
    "    # Get video data based on the search query\n",
    "    request = youtube.search().list(\n",
    "        q=query,  # Broad query for food-related videos\n",
    "        part='snippet',\n",
    "        type='video',\n",
    "        order='viewCount',  # Sort by view count to get popular videos\n",
    "        maxResults=50  # Get top 50 results\n",
    "    )\n",
    "    response = request.execute()\n",
    "\n",
    "    video_ids = []\n",
    "    for item in response['items']:\n",
    "        video_ids.append(item['id']['videoId'])\n",
    "\n",
    "    # Fetch detailed information (likes, dislikes, comments)\n",
    "    videos = get_video_details(video_ids)\n",
    "\n",
    "    # Filter out Shorts (duration <= 60 seconds)\n",
    "    filtered_videos = []\n",
    "    for video in videos:\n",
    "        video_id = video['video_url'].split('v=')[1]\n",
    "        request = youtube.videos().list(\n",
    "            part='contentDetails',\n",
    "            id=video_id\n",
    "        )\n",
    "        video_duration_response = request.execute()\n",
    "        duration = video_duration_response['items'][0]['contentDetails']['duration']\n",
    "\n",
    "        # Parse the duration string and check if it's longer than 60 seconds\n",
    "        duration_seconds = parse_duration(duration)\n",
    "        if duration_seconds > 60:\n",
    "            filtered_videos.append(video)\n",
    "\n",
    "    return filtered_videos\n"
   ]
  },
  {
   "cell_type": "code",
   "execution_count": 6,
   "id": "319727e7",
   "metadata": {
    "execution": {
     "iopub.execute_input": "2025-01-13T12:06:47.364489Z",
     "iopub.status.busy": "2025-01-13T12:06:47.364144Z",
     "iopub.status.idle": "2025-01-13T12:06:47.369448Z",
     "shell.execute_reply": "2025-01-13T12:06:47.368488Z"
    },
    "papermill": {
     "duration": 0.01127,
     "end_time": "2025-01-13T12:06:47.371037",
     "exception": false,
     "start_time": "2025-01-13T12:06:47.359767",
     "status": "completed"
    },
    "tags": []
   },
   "outputs": [],
   "source": [
    "def get_trending_shorts():\n",
    "    \"\"\"\n",
    "    Fetch top 100 trending shorts related to food.\n",
    "    \"\"\"\n",
    "    query = 'healthy meals OR quick recipes OR plant-based meals OR meal prep OR vegan recipes OR fitness meals'\n",
    "\n",
    "    # Get top 100 trending shorts related to food\n",
    "    request = youtube.search().list(\n",
    "        q=query,  # Search query\n",
    "        part='snippet',\n",
    "        type='video',\n",
    "        videoDuration='short',  # Filters for videos with duration less than 60 seconds (Shorts)\n",
    "        order='viewCount',  # Sort by view count to get popular shorts\n",
    "        maxResults=50  # Get top 50 results\n",
    "    )\n",
    "    response = request.execute()\n",
    "\n",
    "    video_ids = []\n",
    "    for item in response['items']:\n",
    "        video_ids.append(item['id']['videoId'])\n",
    "\n",
    "    # Fetch detailed information (likes, dislikes, comments)\n",
    "    shorts = get_video_details(video_ids)\n",
    "\n",
    "    return shorts\n"
   ]
  },
  {
   "cell_type": "code",
   "execution_count": 7,
   "id": "aa1d5267",
   "metadata": {
    "execution": {
     "iopub.execute_input": "2025-01-13T12:06:47.378473Z",
     "iopub.status.busy": "2025-01-13T12:06:47.378129Z",
     "iopub.status.idle": "2025-01-13T12:06:47.383660Z",
     "shell.execute_reply": "2025-01-13T12:06:47.382631Z"
    },
    "papermill": {
     "duration": 0.011056,
     "end_time": "2025-01-13T12:06:47.385391",
     "exception": false,
     "start_time": "2025-01-13T12:06:47.374335",
     "status": "completed"
    },
    "tags": []
   },
   "outputs": [],
   "source": [
    "def save_data_to_csv(data, filename):\n",
    "    \"\"\"\n",
    "    Save video data to a CSV file, including videoId, publishedAt, and channelId.\n",
    "    \"\"\"\n",
    "    # Updated headers to include 'videoId', 'publishedAt', and 'channelId'\n",
    "    headers = ['videoId', 'publishedAt', 'channelId', 'title', 'description', 'video_url', 'likes', 'dislikes', 'comment_count']\n",
    "    \n",
    "    with open(filename, mode='w', newline='', encoding='utf-8') as file:\n",
    "        writer = csv.DictWriter(file, fieldnames=headers)\n",
    "        writer.writeheader()\n",
    "        \n",
    "        # Write each video data to the CSV with the new fields\n",
    "        for item in data:\n",
    "            writer.writerow(item)"
   ]
  },
  {
   "cell_type": "code",
   "execution_count": 8,
   "id": "182a29ba",
   "metadata": {
    "execution": {
     "iopub.execute_input": "2025-01-13T12:06:47.393522Z",
     "iopub.status.busy": "2025-01-13T12:06:47.393177Z",
     "iopub.status.idle": "2025-01-13T12:06:47.398944Z",
     "shell.execute_reply": "2025-01-13T12:06:47.397993Z"
    },
    "papermill": {
     "duration": 0.011572,
     "end_time": "2025-01-13T12:06:47.400614",
     "exception": false,
     "start_time": "2025-01-13T12:06:47.389042",
     "status": "completed"
    },
    "tags": []
   },
   "outputs": [],
   "source": [
    "def send_email(subject, body):\n",
    "    \"\"\"\n",
    "    Send an email notification after the script runs successfully.\n",
    "    \"\"\"\n",
    "    sender_email = \"darshanabk1112@gmail.com\"\n",
    "    receiver_email = \"darshanabk1112@gmail.com\"\n",
    "    password = \"gcae fzim tvzd ibaj\"  # Use environment variables for security\n",
    "\n",
    "    message = MIMEMultipart()\n",
    "    message[\"From\"] = sender_email\n",
    "    message[\"To\"] = receiver_email\n",
    "    message[\"Subject\"] = subject\n",
    "\n",
    "    message.attach(MIMEText(body, \"plain\"))\n",
    "\n",
    "    try:\n",
    "        with smtplib.SMTP_SSL(\"smtp.gmail.com\", 465) as server:\n",
    "            server.login(sender_email, password)\n",
    "            server.sendmail(sender_email, receiver_email, message.as_string())\n",
    "        print(\"Email sent successfully.\")\n",
    "    except Exception as e:\n",
    "        print(f\"Failed to send email: {e}\")"
   ]
  },
  {
   "cell_type": "code",
   "execution_count": 9,
   "id": "5de207ba",
   "metadata": {
    "execution": {
     "iopub.execute_input": "2025-01-13T12:06:47.408889Z",
     "iopub.status.busy": "2025-01-13T12:06:47.408513Z",
     "iopub.status.idle": "2025-01-13T12:06:47.414187Z",
     "shell.execute_reply": "2025-01-13T12:06:47.412454Z"
    },
    "papermill": {
     "duration": 0.01147,
     "end_time": "2025-01-13T12:06:47.415965",
     "exception": false,
     "start_time": "2025-01-13T12:06:47.404495",
     "status": "completed"
    },
    "tags": []
   },
   "outputs": [],
   "source": [
    "def main():\n",
    "    # Get the current week number for naming the file\n",
    "    TimeStamp = datetime.datetime.now().strftime(\"%Y-%m-%d %H:%M:%S\")\n",
    "\n",
    "    # Get top 50 trending food videos\n",
    "    videos = get_trending_food_videos()\n",
    "    # print(\"Top 50 Trending Food Videos:\")\n",
    "    # for video in videos:\n",
    "    #     print(video)\n",
    "\n",
    "    # Get top 50 trending Shorts\n",
    "    shorts = get_trending_shorts()\n",
    "    # print(\"\\nTop 50 Trending Shorts:\")\n",
    "    # for short in shorts:\n",
    "    #     print(short)\n",
    "\n",
    "    # Save data to CSV\n",
    "    save_data_to_csv(videos, f'top_50_trending_food_videos_{TimeStamp}.csv')\n",
    "    save_data_to_csv(shorts, f'top_50_trending_food_shorts_{TimeStamp}.csv')\n",
    "\n",
    "    # Send email notification after successful completion\n",
    "    send_email(\n",
    "        \"Weekly Trending Food Videos and Shorts Update\",\n",
    "        f\"The weekly update for the top trending food videos and shorts has been successfully fetched and saved.\"\n",
    "    )\n"
   ]
  },
  {
   "cell_type": "code",
   "execution_count": 10,
   "id": "6d76802f",
   "metadata": {
    "execution": {
     "iopub.execute_input": "2025-01-13T12:06:47.423795Z",
     "iopub.status.busy": "2025-01-13T12:06:47.423468Z",
     "iopub.status.idle": "2025-01-13T12:06:51.554678Z",
     "shell.execute_reply": "2025-01-13T12:06:51.553447Z"
    },
    "papermill": {
     "duration": 4.136989,
     "end_time": "2025-01-13T12:06:51.556685",
     "exception": false,
     "start_time": "2025-01-13T12:06:47.419696",
     "status": "completed"
    },
    "tags": []
   },
   "outputs": [
    {
     "name": "stdout",
     "output_type": "stream",
     "text": [
      "Email sent successfully.\n"
     ]
    }
   ],
   "source": [
    "if __name__ == \"__main__\":\n",
    "    main()"
   ]
  },
  {
   "cell_type": "code",
   "execution_count": null,
   "id": "ac9e6e99",
   "metadata": {
    "papermill": {
     "duration": 0.002977,
     "end_time": "2025-01-13T12:06:51.563168",
     "exception": false,
     "start_time": "2025-01-13T12:06:51.560191",
     "status": "completed"
    },
    "tags": []
   },
   "outputs": [],
   "source": []
  }
 ],
 "metadata": {
  "kaggle": {
   "accelerator": "none",
   "dataSources": [],
   "dockerImageVersionId": 30822,
   "isGpuEnabled": false,
   "isInternetEnabled": true,
   "language": "python",
   "sourceType": "notebook"
  },
  "kernelspec": {
   "display_name": "Python 3",
   "language": "python",
   "name": "python3"
  },
  "language_info": {
   "codemirror_mode": {
    "name": "ipython",
    "version": 3
   },
   "file_extension": ".py",
   "mimetype": "text/x-python",
   "name": "python",
   "nbconvert_exporter": "python",
   "pygments_lexer": "ipython3",
   "version": "3.10.12"
  },
  "papermill": {
   "default_parameters": {},
   "duration": 7.700315,
   "end_time": "2025-01-13T12:06:52.187158",
   "environment_variables": {},
   "exception": null,
   "input_path": "__notebook__.ipynb",
   "output_path": "__notebook__.ipynb",
   "parameters": {},
   "start_time": "2025-01-13T12:06:44.486843",
   "version": "2.6.0"
  }
 },
 "nbformat": 4,
 "nbformat_minor": 5
}
