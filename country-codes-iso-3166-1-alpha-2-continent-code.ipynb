{
 "cells": [
  {
   "cell_type": "markdown",
   "id": "c1680151",
   "metadata": {
    "_cell_guid": "cc3e7e5a-6668-4e7a-9787-b5766ad05e69",
    "_uuid": "69d08faa-93f0-49ff-9b85-09e2d17becf0",
    "collapsed": false,
    "jupyter": {
     "outputs_hidden": false
    },
    "papermill": {
     "duration": 0.002841,
     "end_time": "2025-02-03T15:46:55.198408",
     "exception": false,
     "start_time": "2025-02-03T15:46:55.195567",
     "status": "completed"
    },
    "tags": []
   },
   "source": [
    "# Country Codes & Continents: A Dataset with ISO 3166-1 Alpha-2\n",
    "\n",
    "This notebook aims to create a dataset of countries, their corresponding ISO 3166-1 Alpha-2 codes, and their respective continents.\n",
    "\n",
    "**Key Features:**\n",
    "\n",
    "* Utilizes the ISO 3166-1 Alpha-2 standard for country codes.\n",
    "* Includes a comprehensive list of countries and their associated continents.\n",
    "* Provides a clean and organized dataset for various data analysis and mapping projects.\n",
    "\n",
    "**Potential Use Cases:**\n",
    "\n",
    "* Geocoding and mapping applications.\n",
    "* Data analysis and visualization projects.\n",
    "* Internationalization and localization tasks.\n",
    "* Building applications that require country-specific information.\n",
    "\n",
    "This notebook demonstrates a simple and efficient approach to gathering and organizing country-related data.\n",
    "\n",
    "**Note:** \n",
    "\n",
    "* Data sources may vary, and the accuracy of the information should be verified independently."
   ]
  },
  {
   "cell_type": "code",
   "execution_count": 1,
   "id": "30d3e600",
   "metadata": {
    "execution": {
     "iopub.execute_input": "2025-02-03T15:46:55.204999Z",
     "iopub.status.busy": "2025-02-03T15:46:55.204604Z",
     "iopub.status.idle": "2025-02-03T15:46:55.216095Z",
     "shell.execute_reply": "2025-02-03T15:46:55.214368Z"
    },
    "papermill": {
     "duration": 0.017059,
     "end_time": "2025-02-03T15:46:55.218196",
     "exception": false,
     "start_time": "2025-02-03T15:46:55.201137",
     "status": "completed"
    },
    "tags": []
   },
   "outputs": [],
   "source": [
    "def fetch_country_data():\n",
    "    \"\"\"\n",
    "    Fetches country data from the REST Countries API and returns a dictionary\n",
    "    with ISO 3166-1 Alpha-2 codes as keys and details (country name, continent,\n",
    "    continent code, IT hub status) as values.\n",
    "    \"\"\"\n",
    "    # Mapping of continent full names to continent codes\n",
    "    continent_codes = {\n",
    "        \"Africa\": \"AF\",\n",
    "        \"Asia\": \"AS\",\n",
    "        \"Europe\": \"EU\",\n",
    "        \"North America\": \"NA\",\n",
    "        \"South America\": \"SA\",\n",
    "        \"Oceania\": \"OC\",\n",
    "        \"Antarctica\": \"AN\"\n",
    "    }\n",
    "    \n",
    "    # List of ISO Alpha-2 codes for IT hub countries\n",
    "    it_hub_countries = {\n",
    "        'US', 'IN', 'CN', 'JP', 'KR', 'DE', 'GB', 'FR', 'CA', 'AU',\n",
    "        'SG', 'SE', 'FI', 'IE', 'IL', 'NL', 'CH', 'ES', 'IT', 'BR',\n",
    "        'ZA', 'RU', 'AE', 'TR', 'PL', 'VN', 'MY', 'PH', 'TH', 'ID',\n",
    "        'HK', 'TW'\n",
    "    }\n",
    "    \n",
    "    url = \"https://restcountries.com/v3.1/all\"\n",
    "    response = requests.get(url)\n",
    "    countries = response.json()\n",
    "    \n",
    "    country_mapping = {}\n",
    "    for country in countries:\n",
    "        country_code = country.get(\"cca2\", None)\n",
    "        if not country_code:\n",
    "            continue\n",
    "        \n",
    "        country_name = country.get(\"name\", {}).get(\"common\", \"Unknown\")\n",
    "        continents = country.get(\"continents\", [])\n",
    "        if continents:\n",
    "            continent = continents[0]\n",
    "            continent_code = continent_codes.get(continent, \"Unknown\")\n",
    "        else:\n",
    "            continent = \"Unknown\"\n",
    "            continent_code = \"Unknown\"\n",
    "        \n",
    "        it_hub_status = \"Yes\" if country_code in it_hub_countries else \"No\"\n",
    "        \n",
    "        country_mapping[country_code] = {\n",
    "            \"country_name\": country_name,\n",
    "            \"continent\": continent,\n",
    "            \"continent_code\": continent_code,\n",
    "            \"it_hub_country\": it_hub_status\n",
    "        }\n",
    "    \n",
    "    return country_mapping"
   ]
  },
  {
   "cell_type": "code",
   "execution_count": 2,
   "id": "12617fcf",
   "metadata": {
    "execution": {
     "iopub.execute_input": "2025-02-03T15:46:55.224931Z",
     "iopub.status.busy": "2025-02-03T15:46:55.224546Z",
     "iopub.status.idle": "2025-02-03T15:46:55.230748Z",
     "shell.execute_reply": "2025-02-03T15:46:55.229532Z"
    },
    "papermill": {
     "duration": 0.011967,
     "end_time": "2025-02-03T15:46:55.232903",
     "exception": false,
     "start_time": "2025-02-03T15:46:55.220936",
     "status": "completed"
    },
    "tags": []
   },
   "outputs": [],
   "source": [
    "def save_country_data(country_data):\n",
    "    \"\"\"\n",
    "    Saves the country data to a JSON file with a timestamped filename.\n",
    "    \"\"\"\n",
    "    timestamp = datetime.datetime.now(ist).strftime(\"%Y-%m-%d_%H:%M:%S\")\n",
    "    filename = f\"RE_{timestamp}_country_details.json\"\n",
    "    filepath = os.path.join(os.getcwd(), filename)  # Save in the current working directory\n",
    "    with open(filepath, \"w\", encoding=\"utf-8\") as file:\n",
    "        json.dump(country_data, file, indent=4, ensure_ascii=False)\n",
    "    print(f\"Country data saved as {filepath}\")"
   ]
  },
  {
   "cell_type": "code",
   "execution_count": 3,
   "id": "6ba88dfb",
   "metadata": {
    "execution": {
     "iopub.execute_input": "2025-02-03T15:46:55.239758Z",
     "iopub.status.busy": "2025-02-03T15:46:55.239378Z",
     "iopub.status.idle": "2025-02-03T15:46:55.249057Z",
     "shell.execute_reply": "2025-02-03T15:46:55.247722Z"
    },
    "papermill": {
     "duration": 0.015265,
     "end_time": "2025-02-03T15:46:55.251030",
     "exception": false,
     "start_time": "2025-02-03T15:46:55.235765",
     "status": "completed"
    },
    "tags": []
   },
   "outputs": [],
   "source": [
    "    \n",
    "def PushToGithub(repo_url):\n",
    "    \"\"\"\n",
    "    Automates pushing the generated JSON file to GitHub.\n",
    "    Finds the latest JSON file, clones/pulls the repository, copies the file,\n",
    "    commits, and pushes it.\n",
    "    \"\"\"\n",
    "    output_files = os.listdir(os.getcwd())\n",
    "    # print(output_files)\n",
    "    try:\n",
    "        json_files = [file for file in output_files if file.startswith(\"RE\") and file.endswith(\"country_details.json\")]\n",
    "        if json_files:\n",
    "            latest_file = max(json_files, key=os.path.getctime)\n",
    "        else:\n",
    "            raise ValueError(\"No JSON files found!\")\n",
    "    except ValueError as e:\n",
    "        print(f\"Error fetching the recent .json file: {e}\")\n",
    "        return False\n",
    "    \n",
    "    kaggle_repo_url = os.path.join(os.getcwd(), \"YouTubeFoodChannelAnalysis\")\n",
    "    destination_path = os.path.join(kaggle_repo_url, \"Requirement\", \"Daily\")\n",
    "    \n",
    "    print(f\"Latest JSON file: {latest_file}\")\n",
    "    try:\n",
    "        if os.path.exists(kaggle_repo_url):\n",
    "            print(\"Repository already cloned; pulling latest changes.\")\n",
    "            repo = git.Repo(kaggle_repo_url)\n",
    "            origin = repo.remote(name='origin')\n",
    "            origin.pull()\n",
    "            print(\"Successfully pulled the latest changes.\")\n",
    "        else:\n",
    "            repo = git.Repo.clone_from(repo_url, kaggle_repo_url)\n",
    "            print(\"Successfully cloned the repository.\")\n",
    "        \n",
    "        if not os.path.exists(destination_path):\n",
    "            os.makedirs(destination_path)\n",
    "        shutil.copyfile(os.path.join(os.getcwd(), latest_file),\n",
    "                        os.path.join(destination_path, latest_file))\n",
    "        \n",
    "        repo = Repo(kaggle_repo_url)\n",
    "        repo.index.add([os.path.join(destination_path, latest_file)])\n",
    "        timestamp = datetime.datetime.now(ist).strftime(\"%Y-%m-%d_%H:%M:%S\")\n",
    "        repo.index.commit(f\"{timestamp} - Added {latest_file} from Kaggle notebook\")\n",
    "        origin = repo.remote(name=\"origin\")\n",
    "        push_result = origin.push()\n",
    "        if push_result:\n",
    "            print(\"Output files successfully pushed to GitHub!\")\n",
    "        else:\n",
    "            print(\"Pushing to GitHub failed.\")\n",
    "        return True\n",
    "    except Exception as e:\n",
    "        print(f\"An error occurred during git automation: {e}\")\n",
    "        return False"
   ]
  },
  {
   "cell_type": "code",
   "execution_count": 4,
   "id": "a90ee0e1",
   "metadata": {
    "execution": {
     "iopub.execute_input": "2025-02-03T15:46:55.257915Z",
     "iopub.status.busy": "2025-02-03T15:46:55.257542Z",
     "iopub.status.idle": "2025-02-03T15:46:55.262098Z",
     "shell.execute_reply": "2025-02-03T15:46:55.261101Z"
    },
    "papermill": {
     "duration": 0.010755,
     "end_time": "2025-02-03T15:46:55.264320",
     "exception": false,
     "start_time": "2025-02-03T15:46:55.253565",
     "status": "completed"
    },
    "tags": []
   },
   "outputs": [],
   "source": [
    "def main():\n",
    "    country_data = fetch_country_data()\n",
    "    save_country_data(country_data)\n",
    "    PushToGithub(repo_url)"
   ]
  },
  {
   "cell_type": "code",
   "execution_count": 5,
   "id": "bca7a2dc",
   "metadata": {
    "execution": {
     "iopub.execute_input": "2025-02-03T15:46:55.270735Z",
     "iopub.status.busy": "2025-02-03T15:46:55.270281Z",
     "iopub.status.idle": "2025-02-03T15:46:58.736775Z",
     "shell.execute_reply": "2025-02-03T15:46:58.735205Z"
    },
    "papermill": {
     "duration": 3.472229,
     "end_time": "2025-02-03T15:46:58.739124",
     "exception": false,
     "start_time": "2025-02-03T15:46:55.266895",
     "status": "completed"
    },
    "tags": []
   },
   "outputs": [
    {
     "name": "stdout",
     "output_type": "stream",
     "text": [
      "Country data saved as /kaggle/working/RE_2025-02-03_21:16:56_country_details.json\n",
      "Latest JSON file: RE_2025-02-03_21:16:56_country_details.json\n",
      "Successfully cloned the repository.\n",
      "An error occurred during git automation: name 'shutil' is not defined\n"
     ]
    }
   ],
   "source": [
    "if __name__ == \"__main__\":\n",
    "    import requests\n",
    "    import json\n",
    "    import datetime\n",
    "    import os\n",
    "    from pytz import timezone\n",
    "    import git\n",
    "    from git import Repo\n",
    "    from kaggle_secrets import UserSecretsClient\n",
    "\n",
    "    user_secrets = UserSecretsClient()\n",
    "    secret_value_0 = user_secrets.get_secret(\"requirementRepoUrl\")\n",
    "    repo_url = secret_value_0\n",
    "    ist = timezone('Asia/Kolkata')\n",
    "    main()"
   ]
  }
 ],
 "metadata": {
  "kaggle": {
   "accelerator": "none",
   "dataSources": [],
   "dockerImageVersionId": 30839,
   "isGpuEnabled": false,
   "isInternetEnabled": true,
   "language": "python",
   "sourceType": "notebook"
  },
  "kernelspec": {
   "display_name": "Python 3",
   "language": "python",
   "name": "python3"
  },
  "language_info": {
   "codemirror_mode": {
    "name": "ipython",
    "version": 3
   },
   "file_extension": ".py",
   "mimetype": "text/x-python",
   "name": "python",
   "nbconvert_exporter": "python",
   "pygments_lexer": "ipython3",
   "version": "3.10.12"
  },
  "papermill": {
   "default_parameters": {},
   "duration": 7.058912,
   "end_time": "2025-02-03T15:46:59.263942",
   "environment_variables": {},
   "exception": null,
   "input_path": "__notebook__.ipynb",
   "output_path": "__notebook__.ipynb",
   "parameters": {},
   "start_time": "2025-02-03T15:46:52.205030",
   "version": "2.6.0"
  }
 },
 "nbformat": 4,
 "nbformat_minor": 5
}
