{
 "cells": [
  {
   "cell_type": "markdown",
   "id": "58f7f6c9",
   "metadata": {
    "_cell_guid": "529a5566-3be0-4b9a-9b53-85be4c3fb7f0",
    "_uuid": "3ff7096c-055f-41be-a6dc-7618066e73ee",
    "collapsed": false,
    "jupyter": {
     "outputs_hidden": false
    },
    "papermill": {
     "duration": 0.003206,
     "end_time": "2025-02-07T01:15:32.181225",
     "exception": false,
     "start_time": "2025-02-07T01:15:32.178019",
     "status": "completed"
    },
    "tags": []
   },
   "source": [
    "# Country Codes & Continents: A Dataset with ISO 3166-1 Alpha-2\n",
    "\n",
    "This notebook aims to create a dataset of countries, their corresponding ISO 3166-1 Alpha-2 codes, and their respective continents.\n",
    "\n",
    "**Key Features:**\n",
    "\n",
    "* Utilizes the ISO 3166-1 Alpha-2 standard for country codes.\n",
    "* Includes a comprehensive list of countries and their associated continents.\n",
    "* Provides a clean and organized dataset for various data analysis and mapping projects.\n",
    "\n",
    "**Potential Use Cases:**\n",
    "\n",
    "* Geocoding and mapping applications.\n",
    "* Data analysis and visualization projects.\n",
    "* Internationalization and localization tasks.\n",
    "* Building applications that require country-specific information.\n",
    "\n",
    "This notebook demonstrates a simple and efficient approach to gathering and organizing country-related data.\n",
    "\n",
    "**Note:** \n",
    "\n",
    "* Data sources may vary, and the accuracy of the information should be verified independently."
   ]
  },
  {
   "cell_type": "code",
   "execution_count": 1,
   "id": "c0872cc1",
   "metadata": {
    "_cell_guid": "b8d19c20-950b-4909-8241-c3524d25d18b",
    "_uuid": "08b0fc98-ac6e-4150-8869-6bd9b79ad6c1",
    "collapsed": false,
    "execution": {
     "iopub.execute_input": "2025-02-07T01:15:32.188356Z",
     "iopub.status.busy": "2025-02-07T01:15:32.188019Z",
     "iopub.status.idle": "2025-02-07T01:15:32.197506Z",
     "shell.execute_reply": "2025-02-07T01:15:32.196389Z"
    },
    "jupyter": {
     "outputs_hidden": false
    },
    "papermill": {
     "duration": 0.01509,
     "end_time": "2025-02-07T01:15:32.199552",
     "exception": false,
     "start_time": "2025-02-07T01:15:32.184462",
     "status": "completed"
    },
    "tags": []
   },
   "outputs": [],
   "source": [
    "def fetch_country_data():\n",
    "    \"\"\"\n",
    "    Fetches country data from the REST Countries API and returns a dictionary\n",
    "    with ISO 3166-1 Alpha-2 codes as keys and details (country name, continent,\n",
    "    continent code, IT hub status) as values.\n",
    "\n",
    "    Returns:\n",
    "        dict: A dictionary containing country data with ISO Alpha-2 codes as keys.\n",
    "    \"\"\"\n",
    "    # Mapping of continent full names to continent codes\n",
    "    continent_codes = {\n",
    "        \"Africa\": \"AF\",\n",
    "        \"Asia\": \"AS\",\n",
    "        \"Europe\": \"EU\",\n",
    "        \"North America\": \"NA\",\n",
    "        \"South America\": \"SA\",\n",
    "        \"Oceania\": \"OC\",\n",
    "        \"Antarctica\": \"AN\"\n",
    "    }\n",
    "    \n",
    "    # List of ISO Alpha-2 codes for IT hub countries\n",
    "    it_hub_countries = {\n",
    "        'US', 'IN', 'CN', 'JP', 'KR', 'DE', 'GB', 'FR', 'CA', 'AU',\n",
    "        'SG', 'SE', 'FI', 'IE', 'IL', 'NL', 'CH', 'ES', 'IT', 'BR',\n",
    "        'ZA', 'RU', 'AE', 'TR', 'PL', 'VN', 'MY', 'PH', 'TH', 'ID',\n",
    "        'HK', 'TW'\n",
    "    }\n",
    "    \n",
    "    # REST Countries API endpoint\n",
    "    url = \"https://restcountries.com/v3.1/all\"\n",
    "    response = requests.get(url)\n",
    "    countries = response.json()\n",
    "    \n",
    "    country_mapping = {}\n",
    "    for country in countries:\n",
    "        country_code = country.get(\"cca2\", None)\n",
    "        if not country_code:\n",
    "            continue\n",
    "        \n",
    "        country_name = country.get(\"name\", {}).get(\"common\", \"Unknown\")\n",
    "        continents = country.get(\"continents\", [])\n",
    "        if continents:\n",
    "            continent = continents[0]\n",
    "            continent_code = continent_codes.get(continent, \"Unknown\")\n",
    "        else:\n",
    "            continent = \"Unknown\"\n",
    "            continent_code = \"Unknown\"\n",
    "        \n",
    "        it_hub_status = \"Yes\" if country_code in it_hub_countries else \"No\"\n",
    "        \n",
    "        country_mapping[country_code] = {\n",
    "            \"country_name\": country_name,\n",
    "            \"continent\": continent,\n",
    "            \"continent_code\": continent_code,\n",
    "            \"it_hub_country\": it_hub_status\n",
    "        }\n",
    "    \n",
    "    return country_mapping"
   ]
  },
  {
   "cell_type": "code",
   "execution_count": 2,
   "id": "c09c3bd4",
   "metadata": {
    "_cell_guid": "b8d19c20-950b-4909-8241-c3524d25d18b",
    "_uuid": "08b0fc98-ac6e-4150-8869-6bd9b79ad6c1",
    "collapsed": false,
    "execution": {
     "iopub.execute_input": "2025-02-07T01:15:32.206236Z",
     "iopub.status.busy": "2025-02-07T01:15:32.205865Z",
     "iopub.status.idle": "2025-02-07T01:15:32.211215Z",
     "shell.execute_reply": "2025-02-07T01:15:32.210088Z"
    },
    "jupyter": {
     "outputs_hidden": false
    },
    "papermill": {
     "duration": 0.010708,
     "end_time": "2025-02-07T01:15:32.213007",
     "exception": false,
     "start_time": "2025-02-07T01:15:32.202299",
     "status": "completed"
    },
    "tags": []
   },
   "outputs": [],
   "source": [
    "def save_country_data(country_data):\n",
    "    \"\"\"\n",
    "    Saves the country data to a JSON file with a timestamped filename in the current working directory.\n",
    "\n",
    "    Args:\n",
    "        country_data (dict): The country data to be saved.\n",
    "    \"\"\"\n",
    "    # Generate a timestamp in the format YYYY-MM-DD_HH:MM:SS\n",
    "    timestamp = datetime.datetime.now(ist).strftime(\"%Y-%m-%d_%H_%M_%S\")\n",
    "    # Create the filename with the timestamp\n",
    "    filename = f\"RE_{timestamp}_country_details.json\"\n",
    "    # Define the file path in the current working directory\n",
    "    filepath = os.path.join(os.getcwd(), filename)\n",
    "    # Write the country data to the JSON file\n",
    "    with open(filepath, \"w\", encoding=\"utf-8\") as file:\n",
    "        json.dump(country_data, file, indent=4, ensure_ascii=False)\n",
    "    print(f\"Country data saved as {filepath}\")"
   ]
  },
  {
   "cell_type": "code",
   "execution_count": 3,
   "id": "94515ce9",
   "metadata": {
    "_cell_guid": "b8d19c20-950b-4909-8241-c3524d25d18b",
    "_uuid": "08b0fc98-ac6e-4150-8869-6bd9b79ad6c1",
    "collapsed": false,
    "execution": {
     "iopub.execute_input": "2025-02-07T01:15:32.219295Z",
     "iopub.status.busy": "2025-02-07T01:15:32.218915Z",
     "iopub.status.idle": "2025-02-07T01:15:32.228124Z",
     "shell.execute_reply": "2025-02-07T01:15:32.227099Z"
    },
    "jupyter": {
     "outputs_hidden": false
    },
    "papermill": {
     "duration": 0.014279,
     "end_time": "2025-02-07T01:15:32.229910",
     "exception": false,
     "start_time": "2025-02-07T01:15:32.215631",
     "status": "completed"
    },
    "tags": []
   },
   "outputs": [],
   "source": [
    "def push_to_github(repo_url):\n",
    "    \"\"\"\n",
    "    Automates pushing the generated JSON file to a GitHub repository.\n",
    "    Finds the latest JSON file, clones or pulls the repository, copies the file,\n",
    "    commits, and pushes it.\n",
    "\n",
    "    Args:\n",
    "        repo_url (str): The URL of the GitHub repository.\n",
    "    \"\"\"\n",
    "    # List all files in the current working directory\n",
    "    output_files = os.listdir(os.getcwd())\n",
    "    try:\n",
    "        # Filter for JSON files that match the naming pattern\n",
    "        json_files = [file for file in output_files if file.startswith(\"RE\") and file.endswith(\"country_details.json\")]\n",
    "        if json_files:\n",
    "            # Get the most recently created JSON file\n",
    "            latest_file = max(json_files, key=os.path.getctime)\n",
    "        else:\n",
    "            raise ValueError(\"No JSON files found!\")\n",
    "    except ValueError as e:\n",
    "        print(f\"Error fetching the recent .json file: {e}\")\n",
    "        return False\n",
    "    \n",
    "    # Define the local path for the cloned repository\n",
    "    local_repo_path = os.path.join(os.getcwd(), \"YouTubeFoodChannelAnalysis\")\n",
    "    # Define the destination path within the repository\n",
    "    destination_path = os.path.join(local_repo_path, \"Requirement\", \"Daily\")\n",
    "    \n",
    "    print(f\"Latest JSON file: {latest_file}\")\n",
    "    try:\n",
    "        if os.path.exists(local_repo_path):\n",
    "            print(\"Repository already cloned; pulling latest changes.\")\n",
    "            repo = git.Repo(local_repo_path)\n",
    "            origin = repo.remote(name='origin')\n",
    "            origin.pull()\n",
    "            print(\"Successfully pulled the latest changes.\")\n",
    "        else:\n",
    "            repo = git.Repo.clone_from(repo_url, local_repo_path)\n",
    "            print(\"Successfully cloned the repository.\")\n",
    "        \n",
    "        if not os.path.exists(destination_path):\n",
    "            os.makedirs(destination_path)\n",
    "        # Copy the latest JSON file to the destination path in the repository\n",
    "        shutil.copyfile(os.path.join(os.getcwd(), latest_file),\n",
    "                        os.path.join(destination_path, latest_file))\n",
    "        \n",
    "        repo = Repo(local_repo_path)\n",
    "        # Stage the new file for commit\n",
    "        repo.index.add([os.path.join(destination_path, latest_file)])\n",
    "        # Create a commit message with the current timestamp\n",
    "        timestamp = datetime.datetime.now(ist).strftime(\"%Y-%m-%d_%H:%M:%S\")\n",
    "        repo.index.commit(f\"{timestamp} - Added {latest_file} from Kaggle notebook\")\n",
    "        origin = repo.remote(name=\"origin\")\n",
    "        # Push the commit to the remote repository\n",
    "        push_result = origin.push()\n",
    "        if push_result:\n",
    "            print(\"Output files successfully pushed to GitHub!\")\n",
    "        else:\n",
    "            print(\"Pushing to GitHub failed.\")\n",
    "        return True\n",
    "    except Exception as e:\n",
    "        print(f\"An error occurred during git automation: {e}\")\n",
    "        return False"
   ]
  },
  {
   "cell_type": "code",
   "execution_count": 4,
   "id": "6711a26a",
   "metadata": {
    "_cell_guid": "b8d19c20-950b-4909-8241-c3524d25d18b",
    "_uuid": "08b0fc98-ac6e-4150-8869-6bd9b79ad6c1",
    "collapsed": false,
    "execution": {
     "iopub.execute_input": "2025-02-07T01:15:32.236765Z",
     "iopub.status.busy": "2025-02-07T01:15:32.236421Z",
     "iopub.status.idle": "2025-02-07T01:15:32.240700Z",
     "shell.execute_reply": "2025-02-07T01:15:32.239716Z"
    },
    "jupyter": {
     "outputs_hidden": false
    },
    "papermill": {
     "duration": 0.009788,
     "end_time": "2025-02-07T01:15:32.242437",
     "exception": false,
     "start_time": "2025-02-07T01:15:32.232649",
     "status": "completed"
    },
    "tags": []
   },
   "outputs": [],
   "source": [
    "def main():\n",
    "    \"\"\"\n",
    "    Main function to fetch country data, save it to a JSON file, and push it to GitHub.\n",
    "    \"\"\"\n",
    "    # Fetch the country data\n",
    "    country_data = fetch_country_data()\n",
    "    # Save the country data to a JSON file\n",
    "    save_country_data(country_data)\n",
    "    # Push the JSON file to the GitHub repository\n",
    "    push_to_github(repo_url)"
   ]
  },
  {
   "cell_type": "code",
   "execution_count": 5,
   "id": "c0622e33",
   "metadata": {
    "_cell_guid": "b8d19c20-950b-4909-8241-c3524d25d18b",
    "_uuid": "08b0fc98-ac6e-4150-8869-6bd9b79ad6c1",
    "collapsed": false,
    "execution": {
     "iopub.execute_input": "2025-02-07T01:15:32.248617Z",
     "iopub.status.busy": "2025-02-07T01:15:32.248303Z",
     "iopub.status.idle": "2025-02-07T01:15:36.398508Z",
     "shell.execute_reply": "2025-02-07T01:15:36.397005Z"
    },
    "jupyter": {
     "outputs_hidden": false
    },
    "papermill": {
     "duration": 4.155301,
     "end_time": "2025-02-07T01:15:36.400331",
     "exception": false,
     "start_time": "2025-02-07T01:15:32.245030",
     "status": "completed"
    },
    "tags": []
   },
   "outputs": [
    {
     "name": "stdout",
     "output_type": "stream",
     "text": [
      "Country data saved as /kaggle/working/RE_2025-02-07_06_45_33_country_details.json\n",
      "Latest JSON file: RE_2025-02-07_06_45_33_country_details.json\n",
      "Successfully cloned the repository.\n",
      "Output files successfully pushed to GitHub!\n"
     ]
    }
   ],
   "source": [
    "if __name__ == \"__main__\":\n",
    "    # Import necessary libraries\n",
    "    import requests\n",
    "    import json\n",
    "    import datetime\n",
    "    import os\n",
    "    import shutil\n",
    "    from pytz import timezone\n",
    "    import git\n",
    "    from git import Repo\n",
    "    from kaggle_secrets import UserSecretsClient\n",
    "    \n",
    "    # Set the Indian Standard Time (IST) timezone\n",
    "    ist = timezone('Asia/Kolkata')\n",
    "\n",
    "    # Initialize the UserSecretsClient to retrieve the GitHub repository URL\n",
    "    user_secrets = UserSecretsClient()\n",
    "    secret_value_0 = user_secrets.get_secret(\"requirementRepoUrl\")\n",
    "    repo_url = secret_value_0\n",
    "    # Execute the main function\n",
    "    main()"
   ]
  }
 ],
 "metadata": {
  "kaggle": {
   "accelerator": "none",
   "dataSources": [],
   "dockerImageVersionId": 30839,
   "isGpuEnabled": false,
   "isInternetEnabled": true,
   "language": "python",
   "sourceType": "notebook"
  },
  "kernelspec": {
   "display_name": "Python 3",
   "language": "python",
   "name": "python3"
  },
  "language_info": {
   "codemirror_mode": {
    "name": "ipython",
    "version": 3
   },
   "file_extension": ".py",
   "mimetype": "text/x-python",
   "name": "python",
   "nbconvert_exporter": "python",
   "pygments_lexer": "ipython3",
   "version": "3.10.12"
  },
  "papermill": {
   "default_parameters": {},
   "duration": 7.805249,
   "end_time": "2025-02-07T01:15:36.923214",
   "environment_variables": {},
   "exception": null,
   "input_path": "__notebook__.ipynb",
   "output_path": "__notebook__.ipynb",
   "parameters": {},
   "start_time": "2025-02-07T01:15:29.117965",
   "version": "2.6.0"
  }
 },
 "nbformat": 4,
 "nbformat_minor": 5
}
