{
 "cells": [
  {
   "cell_type": "markdown",
   "id": "d2e5d1f6",
   "metadata": {
    "papermill": {
     "duration": 0.002768,
     "end_time": "2025-02-03T02:31:33.616791",
     "exception": false,
     "start_time": "2025-02-03T02:31:33.614023",
     "status": "completed"
    },
    "tags": []
   },
   "source": [
    "# Country Codes & Continents: A Dataset with ISO 3166-1 Alpha-2\n",
    "\n",
    "This notebook aims to create a dataset of countries, their corresponding ISO 3166-1 Alpha-2 codes, and their respective continents. \n",
    "\n",
    "**Key Features:**\n",
    "\n",
    "* Utilizes the ISO 3166-1 Alpha-2 standard for country codes.\n",
    "* Includes a comprehensive list of countries and their associated continents.\n",
    "* Provides a clean and organized dataset for various data analysis and mapping projects.\n",
    "\n",
    "**Potential Use Cases:**\n",
    "\n",
    "* Geocoding and mapping applications.\n",
    "* Data analysis and visualization projects.\n",
    "* Internationalization and localization tasks.\n",
    "* Building applications that require country-specific information.\n",
    "\n",
    "This notebook demonstrates a simple and efficient approach to gathering and organizing country-related data. \n",
    "\n",
    "**Note:** \n",
    "\n",
    "* Data sources may vary, and the accuracy of the information should be verified independently. \n",
    "<!-- * This is a basic example, and you can further enhance it by adding more details such as country names, currencies, or time zones. -->"
   ]
  },
  {
   "cell_type": "code",
   "execution_count": 1,
   "id": "e7311c15",
   "metadata": {
    "_cell_guid": "b1076dfc-b9ad-4769-8c92-a6c4dae69d19",
    "_uuid": "8f2839f25d086af736a60e9eeb907d3b93b6e0e5",
    "execution": {
     "iopub.execute_input": "2025-02-03T02:31:33.625397Z",
     "iopub.status.busy": "2025-02-03T02:31:33.624889Z",
     "iopub.status.idle": "2025-02-03T02:31:34.116311Z",
     "shell.execute_reply": "2025-02-03T02:31:34.115104Z"
    },
    "papermill": {
     "duration": 0.49682,
     "end_time": "2025-02-03T02:31:34.118342",
     "exception": false,
     "start_time": "2025-02-03T02:31:33.621522",
     "status": "completed"
    },
    "tags": []
   },
   "outputs": [],
   "source": [
    "import requests\n",
    "from IPython.display import display,JSON\n",
    "from bs4 import BeautifulSoup"
   ]
  },
  {
   "cell_type": "markdown",
   "id": "b172dee8",
   "metadata": {
    "papermill": {
     "duration": 0.002082,
     "end_time": "2025-02-03T02:31:34.122912",
     "exception": false,
     "start_time": "2025-02-03T02:31:34.120830",
     "status": "completed"
    },
    "tags": []
   },
   "source": [
    "# [Territories by Continent](https://en.wikipedia.org/wiki/List_of_sovereign_states_and_dependent_territories_by_continent)"
   ]
  },
  {
   "cell_type": "code",
   "execution_count": 2,
   "id": "90e4758b",
   "metadata": {
    "execution": {
     "iopub.execute_input": "2025-02-03T02:31:34.129098Z",
     "iopub.status.busy": "2025-02-03T02:31:34.128573Z",
     "iopub.status.idle": "2025-02-03T02:31:37.392104Z",
     "shell.execute_reply": "2025-02-03T02:31:37.390881Z"
    },
    "papermill": {
     "duration": 3.268802,
     "end_time": "2025-02-03T02:31:37.394089",
     "exception": false,
     "start_time": "2025-02-03T02:31:34.125287",
     "status": "completed"
    },
    "tags": []
   },
   "outputs": [],
   "source": [
    "url = \"https://en.wikipedia.org/w/api.php\"\n",
    "\n",
    "params = {\n",
    "    \"action\": \"parse\",\n",
    "    \"page\": \"List_of_sovereign_states_and_dependent_territories_by_continent\",\n",
    "    \"format\": \"json\",\n",
    "    \"prop\": \"text\"\n",
    "}\n",
    "\n",
    "response = requests.get(url, params=params)\n",
    "data = response.json()\n",
    "\n",
    "html_content = \"\"\n",
    "if \"parse\" in data:\n",
    "    # print(data[\"parse\"][\"text\"][\"*\"])  # HTML content of the page\n",
    "    html_content  = data[\"parse\"][\"text\"][\"*\"]\n",
    "else:\n",
    "    print(\"Failed to fetch data.\")\n",
    "soup = BeautifulSoup(html_content,\"lxml\")\n",
    "\n",
    "# Extract Continent Names\n",
    "elements = soup.find_all('div', class_=\"mw-heading mw-heading2\")\n",
    "continents = [element.text.split('[')[0].strip() for element in elements[1:8]]  # Only take first 7 continent names\n",
    "\n",
    "# Find all tables corresponding to continents\n",
    "tables = soup.find_all(\"table\", class_=\"sortable wikitable\")\n",
    "\n",
    "# Dictionary to store results\n",
    "continent_data = {}\n",
    "\n",
    "for continent, table in zip(continents, tables):\n",
    "    continent_data[continent] = []\n",
    "    rows = table.find_all(\"tr\")[3:]  # Skip header rows\n",
    "\n",
    "    for row in rows:\n",
    "        cols = row.find_all(\"td\")\n",
    "        if cols:\n",
    "            country_tag = cols[0].find(\"a\")  # Find <a> tag inside first <td>\n",
    "            if country_tag:\n",
    "                country_name = country_tag.text.strip()\n",
    "\n",
    "                # **Filtering out unwanted entries**\n",
    "                if \"See\" in country_name or \"Dependent\" in country_name or \"UN member states\" in country_name:\n",
    "                    continue  # Skip irrelevant entries\n",
    "\n",
    "                continent_data[continent].append(country_name)\n",
    "\n",
    "# Print Cleaned Data\n",
    "# for continent, countries in continent_data.items():\n",
    "    # print(f\"\\n{continent}:\")\n",
    "    # print(\", \".join(countries))\n",
    "\n",
    "\n",
    "# print(continent_data)"
   ]
  },
  {
   "cell_type": "markdown",
   "id": "9cef52b1",
   "metadata": {
    "papermill": {
     "duration": 0.003156,
     "end_time": "2025-02-03T02:31:37.399853",
     "exception": false,
     "start_time": "2025-02-03T02:31:37.396697",
     "status": "completed"
    },
    "tags": []
   },
   "source": [
    "# [ISO 3166-1 alpha-2](https://en.wikipedia.org/wiki/ISO_3166-1_alpha-2#References)"
   ]
  },
  {
   "cell_type": "code",
   "execution_count": 3,
   "id": "48166324",
   "metadata": {
    "execution": {
     "iopub.execute_input": "2025-02-03T02:31:37.405364Z",
     "iopub.status.busy": "2025-02-03T02:31:37.405005Z",
     "iopub.status.idle": "2025-02-03T02:31:39.220742Z",
     "shell.execute_reply": "2025-02-03T02:31:39.219288Z"
    },
    "papermill": {
     "duration": 1.820837,
     "end_time": "2025-02-03T02:31:39.222818",
     "exception": false,
     "start_time": "2025-02-03T02:31:37.401981",
     "status": "completed"
    },
    "tags": []
   },
   "outputs": [
    {
     "name": "stdout",
     "output_type": "stream",
     "text": [
      "249\n"
     ]
    }
   ],
   "source": [
    "url = \"https://en.wikipedia.org/w/api.php\"\n",
    "params = {\n",
    "    \"action\": \"parse\",\n",
    "    \"page\": \"ISO_3166-1_alpha-2\",\n",
    "    \"format\": \"json\",\n",
    "    \"prop\": \"text\"\n",
    "}\n",
    "\n",
    "response = requests.get(url, params=params)\n",
    "data = response.json()\n",
    "page_content = \"\"\n",
    "if \"parse\" in data:\n",
    "    page_content = data[\"parse\"][\"text\"][\"*\"]  # HTML content of the page\n",
    "    # print(page_content[:1000])  # Preview first 1000 characters\n",
    "else:\n",
    "    print(\"Failed to fetch data.\")\n",
    "soup = BeautifulSoup(page_content,\"lxml\")\n",
    "ISO_3166_1_Alpha_2 = {}\n",
    "\n",
    "# Find the header and then the table\n",
    "class_legal = soup.find('h3', id='Officially_assigned_code_elements')\n",
    "if not class_legal:\n",
    "    raise ValueError(\"Section with id 'Officially_assigned_code_elements' not found.\")\n",
    "\n",
    "table = class_legal.find_next(\"table\")\n",
    "if not table:\n",
    "    raise ValueError(\"Table not found after the header.\")\n",
    "\n",
    "# Iterate over each table row\n",
    "rows = table.find_all(\"tr\")\n",
    "for row in rows:\n",
    "    cells = row.find_all(\"td\")\n",
    "    # Ensure the row has at least 2 cells\n",
    "    if len(cells) < 2:\n",
    "        continue\n",
    "    \n",
    "    # Try to get the code from the first cell\n",
    "    code_span = cells[0].find('span', class_=\"monospaced\")\n",
    "    if code_span:\n",
    "        key = code_span.text.strip()\n",
    "    else:\n",
    "        key = \"\"\n",
    "    \n",
    "    # Try to get the country name from the second cell\n",
    "    link = cells[1].find('a')\n",
    "    if link:\n",
    "        value = link.text.strip()\n",
    "    else:\n",
    "        value = \"\"\n",
    "    \n",
    "    # Only add to dictionary if the key is not empty\n",
    "    if key:\n",
    "        ISO_3166_1_Alpha_2[key] = value\n",
    "\n",
    "print(len(ISO_3166_1_Alpha_2))"
   ]
  }
 ],
 "metadata": {
  "kaggle": {
   "accelerator": "none",
   "dataSources": [],
   "dockerImageVersionId": 30839,
   "isGpuEnabled": false,
   "isInternetEnabled": true,
   "language": "python",
   "sourceType": "notebook"
  },
  "kernelspec": {
   "display_name": "Python 3",
   "language": "python",
   "name": "python3"
  },
  "language_info": {
   "codemirror_mode": {
    "name": "ipython",
    "version": 3
   },
   "file_extension": ".py",
   "mimetype": "text/x-python",
   "name": "python",
   "nbconvert_exporter": "python",
   "pygments_lexer": "ipython3",
   "version": "3.10.12"
  },
  "papermill": {
   "default_parameters": {},
   "duration": 9.134878,
   "end_time": "2025-02-03T02:31:39.845862",
   "environment_variables": {},
   "exception": null,
   "input_path": "__notebook__.ipynb",
   "output_path": "__notebook__.ipynb",
   "parameters": {},
   "start_time": "2025-02-03T02:31:30.710984",
   "version": "2.6.0"
  }
 },
 "nbformat": 4,
 "nbformat_minor": 5
}
